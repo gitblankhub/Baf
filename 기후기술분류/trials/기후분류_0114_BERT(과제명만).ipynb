{
  "cells": [
    {
      "cell_type": "markdown",
      "metadata": {
        "id": "view-in-github",
        "colab_type": "text"
      },
      "source": [
        "<a href=\"https://colab.research.google.com/github/gitblankhub/Baf/blob/main/%EA%B8%B0%ED%9B%84%EA%B8%B0%EC%88%A0%EB%B6%84%EB%A5%98/trials/%EA%B8%B0%ED%9B%84%EB%B6%84%EB%A5%98_0114_BERT(%EA%B3%BC%EC%A0%9C%EB%AA%85%EB%A7%8C).ipynb\" target=\"_parent\"><img src=\"https://colab.research.google.com/assets/colab-badge.svg\" alt=\"Open In Colab\"/></a>"
      ]
    },
    {
      "cell_type": "markdown",
      "metadata": {
        "id": "YIENl4kiZK8H"
      },
      "source": [
        "# 기후기술 분석\n",
        "\n",
        "train.csv :\n",
        "- train 데이터\n",
        "- 기후기술분류 label 포함\n",
        "- train.shape: (174304, 13)\n",
        "\n",
        "test.csv :\n",
        "- test 데이터\n",
        "- 기후기술분류 label 미포함\n",
        "- test.shape: (43576, 12)\n",
        "\n",
        "\n",
        "\n",
        "\n",
        "sample_submission.csv :\n",
        "- sample_submission 데이터\n",
        "- sample_submission.shape: (43576, 2)\n",
        "\n",
        "\n",
        "labels_mapping.csv :\n",
        "- label과 기후기술분류체계를 mapping 한 meta data\n",
        "\n",
        "\n",
        "\n",
        "\n"
      ]
    },
    {
      "cell_type": "code",
      "execution_count": null,
      "metadata": {
        "colab": {
          "base_uri": "https://localhost:8080/"
        },
        "id": "q-Cz61hqI3_Y",
        "outputId": "1ba1360d-ea67-45a3-db89-ef50b00f1db8"
      },
      "outputs": [
        {
          "output_type": "stream",
          "name": "stdout",
          "text": [
            "Reading package lists... Done\n",
            "Building dependency tree       \n",
            "Reading state information... Done\n",
            "The following NEW packages will be installed:\n",
            "  fonts-nanum\n",
            "0 upgraded, 1 newly installed, 0 to remove and 37 not upgraded.\n",
            "Need to get 9,604 kB of archives.\n",
            "After this operation, 29.5 MB of additional disk space will be used.\n",
            "Get:1 http://archive.ubuntu.com/ubuntu bionic/universe amd64 fonts-nanum all 20170925-1 [9,604 kB]\n",
            "Fetched 9,604 kB in 1s (7,092 kB/s)\n",
            "debconf: unable to initialize frontend: Dialog\n",
            "debconf: (No usable dialog-like program is installed, so the dialog based frontend cannot be used. at /usr/share/perl5/Debconf/FrontEnd/Dialog.pm line 76, <> line 1.)\n",
            "debconf: falling back to frontend: Readline\n",
            "debconf: unable to initialize frontend: Readline\n",
            "debconf: (This frontend requires a controlling tty.)\n",
            "debconf: falling back to frontend: Teletype\n",
            "dpkg-preconfigure: unable to re-open stdin: \n",
            "Selecting previously unselected package fonts-nanum.\n",
            "(Reading database ... 155229 files and directories currently installed.)\n",
            "Preparing to unpack .../fonts-nanum_20170925-1_all.deb ...\n",
            "Unpacking fonts-nanum (20170925-1) ...\n",
            "Setting up fonts-nanum (20170925-1) ...\n",
            "Processing triggers for fontconfig (2.12.6-0ubuntu2) ...\n",
            "/usr/share/fonts: caching, new cache contents: 0 fonts, 1 dirs\n",
            "/usr/share/fonts/truetype: caching, new cache contents: 0 fonts, 3 dirs\n",
            "/usr/share/fonts/truetype/humor-sans: caching, new cache contents: 1 fonts, 0 dirs\n",
            "/usr/share/fonts/truetype/liberation: caching, new cache contents: 16 fonts, 0 dirs\n",
            "/usr/share/fonts/truetype/nanum: caching, new cache contents: 10 fonts, 0 dirs\n",
            "/usr/local/share/fonts: caching, new cache contents: 0 fonts, 0 dirs\n",
            "/root/.local/share/fonts: skipping, no such directory\n",
            "/root/.fonts: skipping, no such directory\n",
            "/var/cache/fontconfig: cleaning cache directory\n",
            "/root/.cache/fontconfig: not cleaning non-existent cache directory\n",
            "/root/.fontconfig: not cleaning non-existent cache directory\n",
            "fc-cache: succeeded\n"
          ]
        }
      ],
      "source": [
        "!sudo apt-get install -y fonts-nanum\n",
        "!sudo fc-cache -fv\n",
        "!rm ~/.cache/matplotlib -rf\n"
      ]
    },
    {
      "cell_type": "code",
      "execution_count": null,
      "metadata": {
        "colab": {
          "base_uri": "https://localhost:8080/"
        },
        "id": "f636TJxNu7_q",
        "outputId": "88dfff2c-650f-4678-90bb-e4c1458bb379"
      },
      "outputs": [
        {
          "output_type": "stream",
          "name": "stdout",
          "text": [
            "\r0% [Working]\r            \rGet:1 http://security.ubuntu.com/ubuntu bionic-security InRelease [88.7 kB]\n",
            "\r0% [Connecting to archive.ubuntu.com] [1 InRelease 14.2 kB/88.7 kB 16%] [Connec\r                                                                               \rGet:2 https://cloud.r-project.org/bin/linux/ubuntu bionic-cran40/ InRelease [3,626 B]\n",
            "Ign:3 https://developer.download.nvidia.com/compute/cuda/repos/ubuntu1804/x86_64  InRelease\n",
            "Ign:4 https://developer.download.nvidia.com/compute/machine-learning/repos/ubuntu1804/x86_64  InRelease\n",
            "Get:5 http://ppa.launchpad.net/c2d4u.team/c2d4u4.0+/ubuntu bionic InRelease [15.9 kB]\n",
            "Get:6 https://developer.download.nvidia.com/compute/cuda/repos/ubuntu1804/x86_64  Release [696 B]\n",
            "Hit:7 https://developer.download.nvidia.com/compute/machine-learning/repos/ubuntu1804/x86_64  Release\n",
            "Get:8 https://developer.download.nvidia.com/compute/cuda/repos/ubuntu1804/x86_64  Release.gpg [836 B]\n",
            "Hit:9 http://archive.ubuntu.com/ubuntu bionic InRelease\n",
            "Get:10 http://archive.ubuntu.com/ubuntu bionic-updates InRelease [88.7 kB]\n",
            "Hit:11 http://ppa.launchpad.net/cran/libgit2/ubuntu bionic InRelease\n",
            "Get:12 http://security.ubuntu.com/ubuntu bionic-security/restricted amd64 Packages [725 kB]\n",
            "Get:13 http://security.ubuntu.com/ubuntu bionic-security/universe amd64 Packages [1,459 kB]\n",
            "Get:14 http://ppa.launchpad.net/deadsnakes/ppa/ubuntu bionic InRelease [15.9 kB]\n",
            "Get:16 http://archive.ubuntu.com/ubuntu bionic-backports InRelease [74.6 kB]\n",
            "Get:17 http://security.ubuntu.com/ubuntu bionic-security/main amd64 Packages [2,498 kB]\n",
            "Hit:18 http://ppa.launchpad.net/graphics-drivers/ppa/ubuntu bionic InRelease\n",
            "Get:19 https://developer.download.nvidia.com/compute/cuda/repos/ubuntu1804/x86_64  Packages [867 kB]\n",
            "Get:20 http://ppa.launchpad.net/c2d4u.team/c2d4u4.0+/ubuntu bionic/main Sources [1,823 kB]\n",
            "Get:21 http://archive.ubuntu.com/ubuntu bionic-updates/restricted amd64 Packages [758 kB]\n",
            "Get:22 http://archive.ubuntu.com/ubuntu bionic-updates/universe amd64 Packages [2,238 kB]\n",
            "Get:23 http://archive.ubuntu.com/ubuntu bionic-updates/main amd64 Packages [2,935 kB]\n",
            "Get:24 http://ppa.launchpad.net/c2d4u.team/c2d4u4.0+/ubuntu bionic/main amd64 Packages [934 kB]\n",
            "Get:25 http://ppa.launchpad.net/deadsnakes/ppa/ubuntu bionic/main amd64 Packages [45.3 kB]\n",
            "Fetched 14.6 MB in 4s (3,626 kB/s)\n",
            "Reading package lists... Done\n",
            "Reading package lists... Done\n",
            "Building dependency tree       \n",
            "Reading state information... Done\n",
            "python-dev is already the newest version (2.7.15~rc1-1).\n",
            "g++ is already the newest version (4:7.4.0-1ubuntu2.3).\n",
            "g++ set to manually installed.\n",
            "python3-dev is already the newest version (3.6.7-1~18.04).\n",
            "python3-dev set to manually installed.\n",
            "The following additional packages will be installed:\n",
            "  fonts-dejavu-core fonts-dejavu-extra libatk-wrapper-java\n",
            "  libatk-wrapper-java-jni libgail-common libgail18 libgtk2.0-0 libgtk2.0-bin\n",
            "  libgtk2.0-common libxxf86dga1 openjdk-8-jdk-headless openjdk-8-jre\n",
            "  openjdk-8-jre-headless x11-utils\n",
            "Suggested packages:\n",
            "  gvfs openjdk-8-demo openjdk-8-source visualvm icedtea-8-plugin libnss-mdns\n",
            "  fonts-ipafont-gothic fonts-ipafont-mincho fonts-wqy-microhei\n",
            "  fonts-wqy-zenhei fonts-indic mesa-utils\n",
            "The following NEW packages will be installed:\n",
            "  fonts-dejavu-core fonts-dejavu-extra libatk-wrapper-java\n",
            "  libatk-wrapper-java-jni libgail-common libgail18 libgtk2.0-0 libgtk2.0-bin\n",
            "  libgtk2.0-common libxxf86dga1 openjdk-8-jdk openjdk-8-jdk-headless\n",
            "  openjdk-8-jre openjdk-8-jre-headless x11-utils\n",
            "0 upgraded, 15 newly installed, 0 to remove and 56 not upgraded.\n",
            "Need to get 43.5 MB of archives.\n",
            "After this operation, 163 MB of additional disk space will be used.\n",
            "Get:1 http://archive.ubuntu.com/ubuntu bionic/main amd64 libxxf86dga1 amd64 2:1.1.4-1 [13.7 kB]\n",
            "Get:2 http://archive.ubuntu.com/ubuntu bionic/main amd64 fonts-dejavu-core all 2.37-1 [1,041 kB]\n",
            "Get:3 http://archive.ubuntu.com/ubuntu bionic/main amd64 fonts-dejavu-extra all 2.37-1 [1,953 kB]\n",
            "Get:4 http://archive.ubuntu.com/ubuntu bionic/main amd64 x11-utils amd64 7.7+3build1 [196 kB]\n",
            "Get:5 http://archive.ubuntu.com/ubuntu bionic/main amd64 libatk-wrapper-java all 0.33.3-20ubuntu0.1 [34.7 kB]\n",
            "Get:6 http://archive.ubuntu.com/ubuntu bionic/main amd64 libatk-wrapper-java-jni amd64 0.33.3-20ubuntu0.1 [28.3 kB]\n",
            "Get:7 http://archive.ubuntu.com/ubuntu bionic/main amd64 libgtk2.0-common all 2.24.32-1ubuntu1 [125 kB]\n",
            "Get:8 http://archive.ubuntu.com/ubuntu bionic/main amd64 libgtk2.0-0 amd64 2.24.32-1ubuntu1 [1,769 kB]\n",
            "Get:9 http://archive.ubuntu.com/ubuntu bionic/main amd64 libgail18 amd64 2.24.32-1ubuntu1 [14.2 kB]\n",
            "Get:10 http://archive.ubuntu.com/ubuntu bionic/main amd64 libgail-common amd64 2.24.32-1ubuntu1 [112 kB]\n",
            "Get:11 http://archive.ubuntu.com/ubuntu bionic/main amd64 libgtk2.0-bin amd64 2.24.32-1ubuntu1 [7,536 B]\n",
            "Get:12 http://archive.ubuntu.com/ubuntu bionic-updates/universe amd64 openjdk-8-jre-headless amd64 8u312-b07-0ubuntu1~18.04 [28.2 MB]\n",
            "Get:13 http://archive.ubuntu.com/ubuntu bionic-updates/universe amd64 openjdk-8-jre amd64 8u312-b07-0ubuntu1~18.04 [69.6 kB]\n",
            "Get:14 http://archive.ubuntu.com/ubuntu bionic-updates/universe amd64 openjdk-8-jdk-headless amd64 8u312-b07-0ubuntu1~18.04 [8,298 kB]\n",
            "Get:15 http://archive.ubuntu.com/ubuntu bionic-updates/universe amd64 openjdk-8-jdk amd64 8u312-b07-0ubuntu1~18.04 [1,625 kB]\n",
            "Fetched 43.5 MB in 3s (16.7 MB/s)\n",
            "Selecting previously unselected package libxxf86dga1:amd64.\n",
            "(Reading database ... 155247 files and directories currently installed.)\n",
            "Preparing to unpack .../00-libxxf86dga1_2%3a1.1.4-1_amd64.deb ...\n",
            "Unpacking libxxf86dga1:amd64 (2:1.1.4-1) ...\n",
            "Selecting previously unselected package fonts-dejavu-core.\n",
            "Preparing to unpack .../01-fonts-dejavu-core_2.37-1_all.deb ...\n",
            "Unpacking fonts-dejavu-core (2.37-1) ...\n",
            "Selecting previously unselected package fonts-dejavu-extra.\n",
            "Preparing to unpack .../02-fonts-dejavu-extra_2.37-1_all.deb ...\n",
            "Unpacking fonts-dejavu-extra (2.37-1) ...\n",
            "Selecting previously unselected package x11-utils.\n",
            "Preparing to unpack .../03-x11-utils_7.7+3build1_amd64.deb ...\n",
            "Unpacking x11-utils (7.7+3build1) ...\n",
            "Selecting previously unselected package libatk-wrapper-java.\n",
            "Preparing to unpack .../04-libatk-wrapper-java_0.33.3-20ubuntu0.1_all.deb ...\n",
            "Unpacking libatk-wrapper-java (0.33.3-20ubuntu0.1) ...\n",
            "Selecting previously unselected package libatk-wrapper-java-jni:amd64.\n",
            "Preparing to unpack .../05-libatk-wrapper-java-jni_0.33.3-20ubuntu0.1_amd64.deb ...\n",
            "Unpacking libatk-wrapper-java-jni:amd64 (0.33.3-20ubuntu0.1) ...\n",
            "Selecting previously unselected package libgtk2.0-common.\n",
            "Preparing to unpack .../06-libgtk2.0-common_2.24.32-1ubuntu1_all.deb ...\n",
            "Unpacking libgtk2.0-common (2.24.32-1ubuntu1) ...\n",
            "Selecting previously unselected package libgtk2.0-0:amd64.\n",
            "Preparing to unpack .../07-libgtk2.0-0_2.24.32-1ubuntu1_amd64.deb ...\n",
            "Unpacking libgtk2.0-0:amd64 (2.24.32-1ubuntu1) ...\n",
            "Selecting previously unselected package libgail18:amd64.\n",
            "Preparing to unpack .../08-libgail18_2.24.32-1ubuntu1_amd64.deb ...\n",
            "Unpacking libgail18:amd64 (2.24.32-1ubuntu1) ...\n",
            "Selecting previously unselected package libgail-common:amd64.\n",
            "Preparing to unpack .../09-libgail-common_2.24.32-1ubuntu1_amd64.deb ...\n",
            "Unpacking libgail-common:amd64 (2.24.32-1ubuntu1) ...\n",
            "Selecting previously unselected package libgtk2.0-bin.\n",
            "Preparing to unpack .../10-libgtk2.0-bin_2.24.32-1ubuntu1_amd64.deb ...\n",
            "Unpacking libgtk2.0-bin (2.24.32-1ubuntu1) ...\n",
            "Selecting previously unselected package openjdk-8-jre-headless:amd64.\n",
            "Preparing to unpack .../11-openjdk-8-jre-headless_8u312-b07-0ubuntu1~18.04_amd64.deb ...\n",
            "Unpacking openjdk-8-jre-headless:amd64 (8u312-b07-0ubuntu1~18.04) ...\n",
            "Selecting previously unselected package openjdk-8-jre:amd64.\n",
            "Preparing to unpack .../12-openjdk-8-jre_8u312-b07-0ubuntu1~18.04_amd64.deb ...\n",
            "Unpacking openjdk-8-jre:amd64 (8u312-b07-0ubuntu1~18.04) ...\n",
            "Selecting previously unselected package openjdk-8-jdk-headless:amd64.\n",
            "Preparing to unpack .../13-openjdk-8-jdk-headless_8u312-b07-0ubuntu1~18.04_amd64.deb ...\n",
            "Unpacking openjdk-8-jdk-headless:amd64 (8u312-b07-0ubuntu1~18.04) ...\n",
            "Selecting previously unselected package openjdk-8-jdk:amd64.\n",
            "Preparing to unpack .../14-openjdk-8-jdk_8u312-b07-0ubuntu1~18.04_amd64.deb ...\n",
            "Unpacking openjdk-8-jdk:amd64 (8u312-b07-0ubuntu1~18.04) ...\n",
            "Setting up libgtk2.0-common (2.24.32-1ubuntu1) ...\n",
            "Setting up fonts-dejavu-core (2.37-1) ...\n",
            "Setting up libxxf86dga1:amd64 (2:1.1.4-1) ...\n",
            "Setting up fonts-dejavu-extra (2.37-1) ...\n",
            "Setting up openjdk-8-jre-headless:amd64 (8u312-b07-0ubuntu1~18.04) ...\n",
            "update-alternatives: using /usr/lib/jvm/java-8-openjdk-amd64/jre/bin/orbd to provide /usr/bin/orbd (orbd) in auto mode\n",
            "update-alternatives: using /usr/lib/jvm/java-8-openjdk-amd64/jre/bin/servertool to provide /usr/bin/servertool (servertool) in auto mode\n",
            "update-alternatives: using /usr/lib/jvm/java-8-openjdk-amd64/jre/bin/tnameserv to provide /usr/bin/tnameserv (tnameserv) in auto mode\n",
            "Setting up libgtk2.0-0:amd64 (2.24.32-1ubuntu1) ...\n",
            "Setting up libgail18:amd64 (2.24.32-1ubuntu1) ...\n",
            "Setting up openjdk-8-jdk-headless:amd64 (8u312-b07-0ubuntu1~18.04) ...\n",
            "update-alternatives: using /usr/lib/jvm/java-8-openjdk-amd64/bin/idlj to provide /usr/bin/idlj (idlj) in auto mode\n",
            "update-alternatives: using /usr/lib/jvm/java-8-openjdk-amd64/bin/wsimport to provide /usr/bin/wsimport (wsimport) in auto mode\n",
            "update-alternatives: using /usr/lib/jvm/java-8-openjdk-amd64/bin/jsadebugd to provide /usr/bin/jsadebugd (jsadebugd) in auto mode\n",
            "update-alternatives: using /usr/lib/jvm/java-8-openjdk-amd64/bin/native2ascii to provide /usr/bin/native2ascii (native2ascii) in auto mode\n",
            "update-alternatives: using /usr/lib/jvm/java-8-openjdk-amd64/bin/javah to provide /usr/bin/javah (javah) in auto mode\n",
            "update-alternatives: using /usr/lib/jvm/java-8-openjdk-amd64/bin/hsdb to provide /usr/bin/hsdb (hsdb) in auto mode\n",
            "update-alternatives: using /usr/lib/jvm/java-8-openjdk-amd64/bin/clhsdb to provide /usr/bin/clhsdb (clhsdb) in auto mode\n",
            "update-alternatives: using /usr/lib/jvm/java-8-openjdk-amd64/bin/xjc to provide /usr/bin/xjc (xjc) in auto mode\n",
            "update-alternatives: using /usr/lib/jvm/java-8-openjdk-amd64/bin/schemagen to provide /usr/bin/schemagen (schemagen) in auto mode\n",
            "update-alternatives: using /usr/lib/jvm/java-8-openjdk-amd64/bin/extcheck to provide /usr/bin/extcheck (extcheck) in auto mode\n",
            "update-alternatives: using /usr/lib/jvm/java-8-openjdk-amd64/bin/jhat to provide /usr/bin/jhat (jhat) in auto mode\n",
            "update-alternatives: using /usr/lib/jvm/java-8-openjdk-amd64/bin/wsgen to provide /usr/bin/wsgen (wsgen) in auto mode\n",
            "Setting up x11-utils (7.7+3build1) ...\n",
            "Setting up libgail-common:amd64 (2.24.32-1ubuntu1) ...\n",
            "Setting up libatk-wrapper-java (0.33.3-20ubuntu0.1) ...\n",
            "Setting up libgtk2.0-bin (2.24.32-1ubuntu1) ...\n",
            "Setting up libatk-wrapper-java-jni:amd64 (0.33.3-20ubuntu0.1) ...\n",
            "Setting up openjdk-8-jre:amd64 (8u312-b07-0ubuntu1~18.04) ...\n",
            "update-alternatives: using /usr/lib/jvm/java-8-openjdk-amd64/jre/bin/policytool to provide /usr/bin/policytool (policytool) in auto mode\n",
            "Setting up openjdk-8-jdk:amd64 (8u312-b07-0ubuntu1~18.04) ...\n",
            "update-alternatives: using /usr/lib/jvm/java-8-openjdk-amd64/bin/appletviewer to provide /usr/bin/appletviewer (appletviewer) in auto mode\n",
            "update-alternatives: using /usr/lib/jvm/java-8-openjdk-amd64/bin/jconsole to provide /usr/bin/jconsole (jconsole) in auto mode\n",
            "Processing triggers for man-db (2.8.3-2ubuntu0.1) ...\n",
            "Processing triggers for hicolor-icon-theme (0.17-2) ...\n",
            "Processing triggers for fontconfig (2.12.6-0ubuntu2) ...\n",
            "Processing triggers for mime-support (3.60ubuntu1) ...\n",
            "Processing triggers for libc-bin (2.27-3ubuntu1.3) ...\n",
            "/sbin/ldconfig.real: /usr/local/lib/python3.7/dist-packages/ideep4py/lib/libmkldnn.so.0 is not a symbolic link\n",
            "\n",
            "Collecting JPype1-py3\n",
            "  Downloading JPype1-py3-0.5.5.4.tar.gz (88 kB)\n",
            "\u001b[K     |████████████████████████████████| 88 kB 3.5 MB/s \n",
            "\u001b[?25hBuilding wheels for collected packages: JPype1-py3\n",
            "  Building wheel for JPype1-py3 (setup.py) ... \u001b[?25l\u001b[?25hdone\n",
            "  Created wheel for JPype1-py3: filename=JPype1_py3-0.5.5.4-cp37-cp37m-linux_x86_64.whl size=2674128 sha256=aaec46a9d42f4e84ed3783b8ebab6cb4ed68182ccba8bee82860890f5ca5c16b\n",
            "  Stored in directory: /root/.cache/pip/wheels/e7/d1/09/f55dca0203b0691945bdf0f63d486a0b4d4e5ec4bd78a2502e\n",
            "Successfully built JPype1-py3\n",
            "Installing collected packages: JPype1-py3\n",
            "Successfully installed JPype1-py3-0.5.5.4\n",
            "Collecting konlpy\n",
            "  Downloading konlpy-0.6.0-py2.py3-none-any.whl (19.4 MB)\n",
            "\u001b[K     |████████████████████████████████| 19.4 MB 1.4 MB/s \n",
            "\u001b[?25hCollecting JPype1>=0.7.0\n",
            "  Downloading JPype1-1.3.0-cp37-cp37m-manylinux_2_5_x86_64.manylinux1_x86_64.whl (448 kB)\n",
            "\u001b[K     |████████████████████████████████| 448 kB 45.8 MB/s \n",
            "\u001b[?25hRequirement already satisfied: lxml>=4.1.0 in /usr/local/lib/python3.7/dist-packages (from konlpy) (4.2.6)\n",
            "Requirement already satisfied: numpy>=1.6 in /usr/local/lib/python3.7/dist-packages (from konlpy) (1.19.5)\n",
            "Requirement already satisfied: typing-extensions in /usr/local/lib/python3.7/dist-packages (from JPype1>=0.7.0->konlpy) (3.10.0.2)\n",
            "Installing collected packages: JPype1, konlpy\n",
            "Successfully installed JPype1-1.3.0 konlpy-0.6.0\n"
          ]
        }
      ],
      "source": [
        "!apt-get update\n",
        "!apt-get install g++ openjdk-8-jdk python-dev python3-dev\n",
        "!pip3 install JPype1-py3\n",
        "!pip3 install konlpy\n",
        "!JAVA_HOME=\"C:\\Program Files\\Java\\jdk-16.0.2\"\n"
      ]
    },
    {
      "cell_type": "code",
      "execution_count": null,
      "metadata": {
        "id": "AoALgofWSmTu"
      },
      "outputs": [],
      "source": [
        "#파일 읽기\n",
        "import pandas as pd\n",
        "import numpy as np\n",
        "import matplotlib.pyplot as plt\n",
        "\n",
        "\n",
        "plt.rc('font', family='NanumBarunGothic') #한글 깨짐\n",
        "\n",
        "\n",
        "train=pd.read_csv('/content/drive/MyDrive/open/train.csv')\n",
        "test=pd.read_csv('/content/drive/MyDrive/open/test.csv')\n",
        "sample=pd.read_csv('/content/drive/MyDrive/open/sample_submission.csv')\n",
        "label=pd.read_csv('/content/drive/MyDrive/open/labels_mapping.csv')\n"
      ]
    },
    {
      "cell_type": "code",
      "execution_count": null,
      "metadata": {
        "id": "gW_vOSMm3uUU"
      },
      "outputs": [],
      "source": []
    },
    {
      "cell_type": "code",
      "execution_count": null,
      "metadata": {
        "id": "0DgO7_UAuIzk"
      },
      "outputs": [],
      "source": [
        "import re #정규화 표현식"
      ]
    },
    {
      "cell_type": "code",
      "execution_count": null,
      "metadata": {
        "id": "wLZXr1-M5SBg"
      },
      "outputs": [],
      "source": []
    },
    {
      "cell_type": "markdown",
      "metadata": {
        "id": "fYtKQfZ0raiK"
      },
      "source": [
        "## exploration"
      ]
    },
    {
      "cell_type": "markdown",
      "metadata": {
        "id": "jrs3zarTnMep"
      },
      "source": [
        "### train data\n",
        "\n",
        "- train 데이터\n",
        "- 기후기술분류 label 포함\n",
        "- train.shape: (174304, 13)"
      ]
    },
    {
      "cell_type": "code",
      "execution_count": null,
      "metadata": {
        "colab": {
          "base_uri": "https://localhost:8080/"
        },
        "id": "NAvOHMGenUVQ",
        "outputId": "006c12f0-8162-4e84-d8c3-85003659a3da"
      },
      "outputs": [
        {
          "output_type": "execute_result",
          "data": {
            "text/plain": [
              "(174304, 13)"
            ]
          },
          "metadata": {},
          "execution_count": 5
        }
      ],
      "source": [
        "train.shape"
      ]
    },
    {
      "cell_type": "code",
      "execution_count": null,
      "metadata": {
        "colab": {
          "base_uri": "https://localhost:8080/",
          "height": 1000
        },
        "id": "BFqE04e3TOM8",
        "outputId": "d7f2f2f6-c37e-40f1-f6c3-fd64bcf80052"
      },
      "outputs": [
        {
          "output_type": "execute_result",
          "data": {
            "text/html": [
              "\n",
              "  <div id=\"df-81840b6d-841f-446f-942c-80846ddf5971\">\n",
              "    <div class=\"colab-df-container\">\n",
              "      <div>\n",
              "<style scoped>\n",
              "    .dataframe tbody tr th:only-of-type {\n",
              "        vertical-align: middle;\n",
              "    }\n",
              "\n",
              "    .dataframe tbody tr th {\n",
              "        vertical-align: top;\n",
              "    }\n",
              "\n",
              "    .dataframe thead th {\n",
              "        text-align: right;\n",
              "    }\n",
              "</style>\n",
              "<table border=\"1\" class=\"dataframe\">\n",
              "  <thead>\n",
              "    <tr style=\"text-align: right;\">\n",
              "      <th></th>\n",
              "      <th>index</th>\n",
              "      <th>제출년도</th>\n",
              "      <th>사업명</th>\n",
              "      <th>사업_부처명</th>\n",
              "      <th>계속과제여부</th>\n",
              "      <th>내역사업명</th>\n",
              "      <th>과제명</th>\n",
              "      <th>요약문_연구목표</th>\n",
              "      <th>요약문_연구내용</th>\n",
              "      <th>요약문_기대효과</th>\n",
              "      <th>요약문_한글키워드</th>\n",
              "      <th>요약문_영문키워드</th>\n",
              "      <th>label</th>\n",
              "    </tr>\n",
              "  </thead>\n",
              "  <tbody>\n",
              "    <tr>\n",
              "      <th>0</th>\n",
              "      <td>0</td>\n",
              "      <td>2016</td>\n",
              "      <td>농업기초기반연구</td>\n",
              "      <td>농촌진흥청</td>\n",
              "      <td>신규</td>\n",
              "      <td>농산물안전성연구</td>\n",
              "      <td>유전정보를 활용한 새로운 해충 분류군 동정기술 개발</td>\n",
              "      <td>○ 새로운 해충분류군의 동정기술 개발 및 유입확산 추적</td>\n",
              "      <td>(가) 외래 및 돌발해충의 발생조사 및 종 동정\\n\\n\\n    ○ 대상해충 : 최...</td>\n",
              "      <td>○ 새로운 돌발 및 외래해충의 신속, 정확한 동정법 향상\\n\\n\\n○ 돌발 및 외래...</td>\n",
              "      <td>뉴클레오티드 염기서열, 분자마커, 종 동정, 침샘, 전사체</td>\n",
              "      <td>nucleotide sequence, molecular marker, species...</td>\n",
              "      <td>24</td>\n",
              "    </tr>\n",
              "    <tr>\n",
              "      <th>1</th>\n",
              "      <td>1</td>\n",
              "      <td>2019</td>\n",
              "      <td>이공학학술연구기반구축(R&amp;D)</td>\n",
              "      <td>교육부</td>\n",
              "      <td>신규</td>\n",
              "      <td>지역대학우수과학자지원사업(1년~5년)</td>\n",
              "      <td>대장암의 TRAIL 내성 표적 인자 발굴 및 TRAIL 반응 예측 유전자 지도 구축...</td>\n",
              "      <td>최종목표:  TRAIL 감수성 표적 유전자를 발굴하고 내성제어 기전을 연구. 발굴된...</td>\n",
              "      <td>1차년도\\n1) Microarray를 통한 선천적 TRAIL 내성 표적 후보 유전자...</td>\n",
              "      <td>1) TRAIL 내성 특이적 표적분자를 발굴하고, 이를 이용한 TRAIL 효과 증진...</td>\n",
              "      <td>대장암,항암제 내성,세포사멸,유전자발굴</td>\n",
              "      <td>TRAIL,Colorectal cancer,TRAIL resistance,Apopt...</td>\n",
              "      <td>0</td>\n",
              "    </tr>\n",
              "    <tr>\n",
              "      <th>2</th>\n",
              "      <td>2</td>\n",
              "      <td>2016</td>\n",
              "      <td>중소기업기술혁신개발</td>\n",
              "      <td>중소기업청</td>\n",
              "      <td>신규</td>\n",
              "      <td>혁신기업기술개발</td>\n",
              "      <td>비목질계 셀룰로오스 식물자원을 활용한 기능성 부직포 및 고부가가치 뷰티케어 faci...</td>\n",
              "      <td>* 식물계자원 정련 및 최적 신서란 파이버 기초연구 개발\\n\\n\\n* 소비자 및 바...</td>\n",
              "      <td>* 식물계자원 정련 및 최적 신서란 파이버 기초연구 개발\\n\\n\\n- Tencel/...</td>\n",
              "      <td>* 국내 독자적인 비목질계 셀룰로오스 자원의 파이버 및 부직포 제조 등의 기술 확보...</td>\n",
              "      <td>기능성 샐룰로오스 파이버,천연섬유,기능성 부직포,뷰티&amp;amp;케어 제품,미용 솜</td>\n",
              "      <td>functional cellulose fiber,natural fiber,funct...</td>\n",
              "      <td>0</td>\n",
              "    </tr>\n",
              "    <tr>\n",
              "      <th>3</th>\n",
              "      <td>3</td>\n",
              "      <td>2018</td>\n",
              "      <td>창업성장기술개발(R&amp;D)</td>\n",
              "      <td>중소벤처기업부</td>\n",
              "      <td>신규</td>\n",
              "      <td>창업사업화연계과제</td>\n",
              "      <td>소화기 암 진단용 분자영상 형광프로브 개발</td>\n",
              "      <td>#  암특이적 바이오마커 발굴 및 바이오마커에 대한 프로브 개발\\n\\n\\n1) 소화...</td>\n",
              "      <td># 소화기 암 진단용 분자영상 형광프로브 개발\\n\\n\\n- 국소 도포형 소화기 암 ...</td>\n",
              "      <td># 암 진단기술의 차별성: 소화기 암 특이 프로브 개발\\n\\n\\n- 최근 체외진단시...</td>\n",
              "      <td>분자 진단,형광 조영제,프로브,항체,대장암</td>\n",
              "      <td>Molecular diagnosis,Fluorescence,probe,antibod...</td>\n",
              "      <td>0</td>\n",
              "    </tr>\n",
              "    <tr>\n",
              "      <th>4</th>\n",
              "      <td>4</td>\n",
              "      <td>2016</td>\n",
              "      <td>이공학개인기초연구지원</td>\n",
              "      <td>교육부</td>\n",
              "      <td>계속</td>\n",
              "      <td>기본연구지원</td>\n",
              "      <td>위암환자의 항암제반응예측을 위한 BRCA 발현검사</td>\n",
              "      <td>수술이 불가능한 위암환자는 생존기간은 10개월 안팎에 지나지 않고, 항암화학요법에 ...</td>\n",
              "      <td>-In situ hybridization 검사의 정확성을 확인하기 위해 위암세포주 ...</td>\n",
              "      <td>-본 연구는 파라핀보관조직에서 in situ hybridization로 mRNA 및...</td>\n",
              "      <td>BRCA,제자리부합법,조직미세배열,마이크로RNA,위암,항암제반응,젊은 연령/가족성 위암</td>\n",
              "      <td>BRCA,Insituhybridization,tissuemicroarray,micr...</td>\n",
              "      <td>0</td>\n",
              "    </tr>\n",
              "  </tbody>\n",
              "</table>\n",
              "</div>\n",
              "      <button class=\"colab-df-convert\" onclick=\"convertToInteractive('df-81840b6d-841f-446f-942c-80846ddf5971')\"\n",
              "              title=\"Convert this dataframe to an interactive table.\"\n",
              "              style=\"display:none;\">\n",
              "        \n",
              "  <svg xmlns=\"http://www.w3.org/2000/svg\" height=\"24px\"viewBox=\"0 0 24 24\"\n",
              "       width=\"24px\">\n",
              "    <path d=\"M0 0h24v24H0V0z\" fill=\"none\"/>\n",
              "    <path d=\"M18.56 5.44l.94 2.06.94-2.06 2.06-.94-2.06-.94-.94-2.06-.94 2.06-2.06.94zm-11 1L8.5 8.5l.94-2.06 2.06-.94-2.06-.94L8.5 2.5l-.94 2.06-2.06.94zm10 10l.94 2.06.94-2.06 2.06-.94-2.06-.94-.94-2.06-.94 2.06-2.06.94z\"/><path d=\"M17.41 7.96l-1.37-1.37c-.4-.4-.92-.59-1.43-.59-.52 0-1.04.2-1.43.59L10.3 9.45l-7.72 7.72c-.78.78-.78 2.05 0 2.83L4 21.41c.39.39.9.59 1.41.59.51 0 1.02-.2 1.41-.59l7.78-7.78 2.81-2.81c.8-.78.8-2.07 0-2.86zM5.41 20L4 18.59l7.72-7.72 1.47 1.35L5.41 20z\"/>\n",
              "  </svg>\n",
              "      </button>\n",
              "      \n",
              "  <style>\n",
              "    .colab-df-container {\n",
              "      display:flex;\n",
              "      flex-wrap:wrap;\n",
              "      gap: 12px;\n",
              "    }\n",
              "\n",
              "    .colab-df-convert {\n",
              "      background-color: #E8F0FE;\n",
              "      border: none;\n",
              "      border-radius: 50%;\n",
              "      cursor: pointer;\n",
              "      display: none;\n",
              "      fill: #1967D2;\n",
              "      height: 32px;\n",
              "      padding: 0 0 0 0;\n",
              "      width: 32px;\n",
              "    }\n",
              "\n",
              "    .colab-df-convert:hover {\n",
              "      background-color: #E2EBFA;\n",
              "      box-shadow: 0px 1px 2px rgba(60, 64, 67, 0.3), 0px 1px 3px 1px rgba(60, 64, 67, 0.15);\n",
              "      fill: #174EA6;\n",
              "    }\n",
              "\n",
              "    [theme=dark] .colab-df-convert {\n",
              "      background-color: #3B4455;\n",
              "      fill: #D2E3FC;\n",
              "    }\n",
              "\n",
              "    [theme=dark] .colab-df-convert:hover {\n",
              "      background-color: #434B5C;\n",
              "      box-shadow: 0px 1px 3px 1px rgba(0, 0, 0, 0.15);\n",
              "      filter: drop-shadow(0px 1px 2px rgba(0, 0, 0, 0.3));\n",
              "      fill: #FFFFFF;\n",
              "    }\n",
              "  </style>\n",
              "\n",
              "      <script>\n",
              "        const buttonEl =\n",
              "          document.querySelector('#df-81840b6d-841f-446f-942c-80846ddf5971 button.colab-df-convert');\n",
              "        buttonEl.style.display =\n",
              "          google.colab.kernel.accessAllowed ? 'block' : 'none';\n",
              "\n",
              "        async function convertToInteractive(key) {\n",
              "          const element = document.querySelector('#df-81840b6d-841f-446f-942c-80846ddf5971');\n",
              "          const dataTable =\n",
              "            await google.colab.kernel.invokeFunction('convertToInteractive',\n",
              "                                                     [key], {});\n",
              "          if (!dataTable) return;\n",
              "\n",
              "          const docLinkHtml = 'Like what you see? Visit the ' +\n",
              "            '<a target=\"_blank\" href=https://colab.research.google.com/notebooks/data_table.ipynb>data table notebook</a>'\n",
              "            + ' to learn more about interactive tables.';\n",
              "          element.innerHTML = '';\n",
              "          dataTable['output_type'] = 'display_data';\n",
              "          await google.colab.output.renderOutput(dataTable, element);\n",
              "          const docLink = document.createElement('div');\n",
              "          docLink.innerHTML = docLinkHtml;\n",
              "          element.appendChild(docLink);\n",
              "        }\n",
              "      </script>\n",
              "    </div>\n",
              "  </div>\n",
              "  "
            ],
            "text/plain": [
              "   index  제출년도  ...                                          요약문_영문키워드 label\n",
              "0      0  2016  ...  nucleotide sequence, molecular marker, species...    24\n",
              "1      1  2019  ...  TRAIL,Colorectal cancer,TRAIL resistance,Apopt...     0\n",
              "2      2  2016  ...  functional cellulose fiber,natural fiber,funct...     0\n",
              "3      3  2018  ...  Molecular diagnosis,Fluorescence,probe,antibod...     0\n",
              "4      4  2016  ...  BRCA,Insituhybridization,tissuemicroarray,micr...     0\n",
              "\n",
              "[5 rows x 13 columns]"
            ]
          },
          "metadata": {},
          "execution_count": 6
        }
      ],
      "source": [
        "train.head()"
      ]
    },
    {
      "cell_type": "code",
      "execution_count": null,
      "metadata": {
        "colab": {
          "base_uri": "https://localhost:8080/"
        },
        "id": "ZWUGnNqEn3si",
        "outputId": "5def628f-ef31-4d92-92df-b16cceba8079"
      },
      "outputs": [
        {
          "output_type": "stream",
          "name": "stdout",
          "text": [
            "<class 'pandas.core.frame.DataFrame'>\n",
            "RangeIndex: 174304 entries, 0 to 174303\n",
            "Data columns (total 13 columns):\n",
            " #   Column     Non-Null Count   Dtype \n",
            "---  ------     --------------   ----- \n",
            " 0   index      174304 non-null  int64 \n",
            " 1   제출년도       174304 non-null  int64 \n",
            " 2   사업명        174304 non-null  object\n",
            " 3   사업_부처명     174304 non-null  object\n",
            " 4   계속과제여부     174304 non-null  object\n",
            " 5   내역사업명      174304 non-null  object\n",
            " 6   과제명        174304 non-null  object\n",
            " 7   요약문_연구목표   171302 non-null  object\n",
            " 8   요약문_연구내용   171303 non-null  object\n",
            " 9   요약문_기대효과   171253 non-null  object\n",
            " 10  요약문_한글키워드  171276 non-null  object\n",
            " 11  요약문_영문키워드  171217 non-null  object\n",
            " 12  label      174304 non-null  int64 \n",
            "dtypes: int64(3), object(10)\n",
            "memory usage: 17.3+ MB\n"
          ]
        }
      ],
      "source": [
        "train.info()"
      ]
    },
    {
      "cell_type": "code",
      "execution_count": null,
      "metadata": {
        "colab": {
          "base_uri": "https://localhost:8080/"
        },
        "id": "jXn-cV-MneIJ",
        "outputId": "bc4f3f90-3cd6-4db2-dfda-b00f159e4e1c"
      },
      "outputs": [
        {
          "output_type": "execute_result",
          "data": {
            "text/plain": [
              "index           0\n",
              "제출년도            0\n",
              "사업명             0\n",
              "사업_부처명          0\n",
              "계속과제여부          0\n",
              "내역사업명           0\n",
              "과제명             0\n",
              "요약문_연구목표     3002\n",
              "요약문_연구내용     3001\n",
              "요약문_기대효과     3051\n",
              "요약문_한글키워드    3028\n",
              "요약문_영문키워드    3087\n",
              "label           0\n",
              "dtype: int64"
            ]
          },
          "metadata": {},
          "execution_count": 8
        }
      ],
      "source": [
        "train.isna().sum()"
      ]
    },
    {
      "cell_type": "code",
      "execution_count": null,
      "metadata": {
        "id": "0pV6VNLfnmRj"
      },
      "outputs": [],
      "source": []
    },
    {
      "cell_type": "markdown",
      "metadata": {
        "id": "N_5Ex1PBnmiK"
      },
      "source": [
        "### test data\n",
        "\n",
        "- test 데이터\n",
        "- 기후기술분류 label 미포함\n",
        "- test.shape: (43576, 12)"
      ]
    },
    {
      "cell_type": "code",
      "execution_count": null,
      "metadata": {
        "colab": {
          "base_uri": "https://localhost:8080/"
        },
        "id": "8EEvgjt4noBQ",
        "outputId": "f641fac0-4284-48cb-ac13-033ba8c4a6ec"
      },
      "outputs": [
        {
          "output_type": "execute_result",
          "data": {
            "text/plain": [
              "(43576, 12)"
            ]
          },
          "metadata": {},
          "execution_count": 9
        }
      ],
      "source": [
        "test.shape"
      ]
    },
    {
      "cell_type": "code",
      "execution_count": null,
      "metadata": {
        "colab": {
          "base_uri": "https://localhost:8080/",
          "height": 1000
        },
        "id": "uvEHOaxjUqxY",
        "outputId": "0d63489d-af21-4f22-9a6b-71d0da7470a3"
      },
      "outputs": [
        {
          "output_type": "execute_result",
          "data": {
            "text/html": [
              "\n",
              "  <div id=\"df-d340a341-ece2-42d8-ac1f-7dc48b41b4b1\">\n",
              "    <div class=\"colab-df-container\">\n",
              "      <div>\n",
              "<style scoped>\n",
              "    .dataframe tbody tr th:only-of-type {\n",
              "        vertical-align: middle;\n",
              "    }\n",
              "\n",
              "    .dataframe tbody tr th {\n",
              "        vertical-align: top;\n",
              "    }\n",
              "\n",
              "    .dataframe thead th {\n",
              "        text-align: right;\n",
              "    }\n",
              "</style>\n",
              "<table border=\"1\" class=\"dataframe\">\n",
              "  <thead>\n",
              "    <tr style=\"text-align: right;\">\n",
              "      <th></th>\n",
              "      <th>index</th>\n",
              "      <th>제출년도</th>\n",
              "      <th>사업명</th>\n",
              "      <th>사업_부처명</th>\n",
              "      <th>계속과제여부</th>\n",
              "      <th>내역사업명</th>\n",
              "      <th>과제명</th>\n",
              "      <th>요약문_연구목표</th>\n",
              "      <th>요약문_연구내용</th>\n",
              "      <th>요약문_기대효과</th>\n",
              "      <th>요약문_한글키워드</th>\n",
              "      <th>요약문_영문키워드</th>\n",
              "    </tr>\n",
              "  </thead>\n",
              "  <tbody>\n",
              "    <tr>\n",
              "      <th>0</th>\n",
              "      <td>174304</td>\n",
              "      <td>2016</td>\n",
              "      <td>경제협력권산업육성</td>\n",
              "      <td>산업통상자원부</td>\n",
              "      <td>신규</td>\n",
              "      <td>자동차융합부품</td>\n",
              "      <td>R-FSSW 기술 적용 경량 차체 부품 개발 및 품질 평가를 위한 64채널 C-SC...</td>\n",
              "      <td>○ 차체 점용접부의 품질 검사를 위한 64채널 무선 기반 C-Scan 탐촉자 개발\\...</td>\n",
              "      <td>○ 1차년도\\n\\n    . 개발 탐촉 시스템의 성능 평가 위한 표준 시편 제작 시...</td>\n",
              "      <td>○ 기술적 파급효과\\n\\n  - 본 연구에서 개발된 R-FSSW 접합 기술은 기존 ...</td>\n",
              "      <td>마찰교반점용접, 비파괴 검사, 초음파 탐상, 씨 스캔, 용접 품질 평가</td>\n",
              "      <td>Friction Stir Spot Welding, Non-destructive ev...</td>\n",
              "    </tr>\n",
              "    <tr>\n",
              "      <th>1</th>\n",
              "      <td>174305</td>\n",
              "      <td>2018</td>\n",
              "      <td>개인기초연구(과기정통부)(R&amp;D)</td>\n",
              "      <td>과학기술정보통신부</td>\n",
              "      <td>계속</td>\n",
              "      <td>신진연구(총연구비5천이상~1.5억이하)</td>\n",
              "      <td>다입자계를 묘사하는 편미분방정식에 대한 연구</td>\n",
              "      <td>자연계에는 입자의 개수가 아주 큰 다양한 다입자계가 존재한다.  이런 다입자계의 효...</td>\n",
              "      <td>연구과제1. 무한입자계의 동역학 / 작용소(operator) 방정식에 대한 연구\\n...</td>\n",
              "      <td>본 연구는 물리학에서 중요한 대상인 다입자계를 묘사하는 모델방정식의 정당성을 보장하...</td>\n",
              "      <td>다체계 방정식,동역학의 안정성,양자역학,고전역학,평균장 극한,고전극한,비상대론적 극한</td>\n",
              "      <td>many particle system,stability of dynamics,qua...</td>\n",
              "    </tr>\n",
              "    <tr>\n",
              "      <th>2</th>\n",
              "      <td>174306</td>\n",
              "      <td>2017</td>\n",
              "      <td>개인기초연구(미래부)</td>\n",
              "      <td>과학기술정보통신부</td>\n",
              "      <td>계속</td>\n",
              "      <td>자유공모</td>\n",
              "      <td>저출생체중아 가족을 위한 지역사회중심의 퇴원후 추후관리프로그램 개발</td>\n",
              "      <td>저출생체중아는 정상 체중 출생아에 비하여 운동, 정신, 행동 및 정서발달장애가 빈번...</td>\n",
              "      <td>본 연구는 퇴원 후 저출생체중아의 퇴원 후 추후관리 프로그램 중 가정방문 모델과 가...</td>\n",
              "      <td>본 연구는 저출생체중아 가족 대상의 지역사회기반의 추후관리 사업에 대한 구체적인 모...</td>\n",
              "      <td>저출생체중아,추후관리,조기개입,자조모임,가정방문</td>\n",
              "      <td>lowbirthweightinfant,followup,earlyinterventio...</td>\n",
              "    </tr>\n",
              "    <tr>\n",
              "      <th>3</th>\n",
              "      <td>174307</td>\n",
              "      <td>2018</td>\n",
              "      <td>산학연협력기술개발(R&amp;D)</td>\n",
              "      <td>중소벤처기업부</td>\n",
              "      <td>신규</td>\n",
              "      <td>전략 협력(지역유망)</td>\n",
              "      <td>폴리싱용 5축 CNC 정밀 마이크로 시스템 개발</td>\n",
              "      <td>최근 초정밀 공작기계 시장의 트렌드를 살펴보면 다음과 같다.\\n\\n\\n(1) 자동차...</td>\n",
              "      <td>(1) 0.5~1㎛의 가공정밀도(면조도) 구현\\n\\n\\n - 국내에서는 연삭기를 제...</td>\n",
              "      <td>(1) 가공 공정 및 소요시간 단축\\n\\n\\n   초정밀금형 가공시 정삭 후 추가적...</td>\n",
              "      <td>초정밀가공,폴리싱 가공,마이크로,경면가공,난삭재가공</td>\n",
              "      <td>superprecision,hiprecision,micro,mirror like f...</td>\n",
              "    </tr>\n",
              "    <tr>\n",
              "      <th>4</th>\n",
              "      <td>174308</td>\n",
              "      <td>2019</td>\n",
              "      <td>이공학학술연구기반구축(R&amp;D)</td>\n",
              "      <td>교육부</td>\n",
              "      <td>계속</td>\n",
              "      <td>지역대학우수과학자지원사업(1년~5년)</td>\n",
              "      <td>다결정재료의 미세조직구조를 고려한 확률론적 응력부식균열 생성예측모델 개발</td>\n",
              "      <td>본 연구의 최종목표는 다결정 금속재료의 미세조직구조를 고려한 확률론적 응력부식균열(...</td>\n",
              "      <td>총 연구기간은 3년으로, 연차별 연구내용 및 범위는 다음과 같다.\\n\\n  ∙ 1차...</td>\n",
              "      <td>본 연구의 중요성 및 활용가능성은 다음과 같다.\\n\\n  ∙ 기존의 재료전체 ave...</td>\n",
              "      <td>결정구조,응력부식균열,확률론적모델</td>\n",
              "      <td>Crystalline structure,Stress corrosion crackin...</td>\n",
              "    </tr>\n",
              "  </tbody>\n",
              "</table>\n",
              "</div>\n",
              "      <button class=\"colab-df-convert\" onclick=\"convertToInteractive('df-d340a341-ece2-42d8-ac1f-7dc48b41b4b1')\"\n",
              "              title=\"Convert this dataframe to an interactive table.\"\n",
              "              style=\"display:none;\">\n",
              "        \n",
              "  <svg xmlns=\"http://www.w3.org/2000/svg\" height=\"24px\"viewBox=\"0 0 24 24\"\n",
              "       width=\"24px\">\n",
              "    <path d=\"M0 0h24v24H0V0z\" fill=\"none\"/>\n",
              "    <path d=\"M18.56 5.44l.94 2.06.94-2.06 2.06-.94-2.06-.94-.94-2.06-.94 2.06-2.06.94zm-11 1L8.5 8.5l.94-2.06 2.06-.94-2.06-.94L8.5 2.5l-.94 2.06-2.06.94zm10 10l.94 2.06.94-2.06 2.06-.94-2.06-.94-.94-2.06-.94 2.06-2.06.94z\"/><path d=\"M17.41 7.96l-1.37-1.37c-.4-.4-.92-.59-1.43-.59-.52 0-1.04.2-1.43.59L10.3 9.45l-7.72 7.72c-.78.78-.78 2.05 0 2.83L4 21.41c.39.39.9.59 1.41.59.51 0 1.02-.2 1.41-.59l7.78-7.78 2.81-2.81c.8-.78.8-2.07 0-2.86zM5.41 20L4 18.59l7.72-7.72 1.47 1.35L5.41 20z\"/>\n",
              "  </svg>\n",
              "      </button>\n",
              "      \n",
              "  <style>\n",
              "    .colab-df-container {\n",
              "      display:flex;\n",
              "      flex-wrap:wrap;\n",
              "      gap: 12px;\n",
              "    }\n",
              "\n",
              "    .colab-df-convert {\n",
              "      background-color: #E8F0FE;\n",
              "      border: none;\n",
              "      border-radius: 50%;\n",
              "      cursor: pointer;\n",
              "      display: none;\n",
              "      fill: #1967D2;\n",
              "      height: 32px;\n",
              "      padding: 0 0 0 0;\n",
              "      width: 32px;\n",
              "    }\n",
              "\n",
              "    .colab-df-convert:hover {\n",
              "      background-color: #E2EBFA;\n",
              "      box-shadow: 0px 1px 2px rgba(60, 64, 67, 0.3), 0px 1px 3px 1px rgba(60, 64, 67, 0.15);\n",
              "      fill: #174EA6;\n",
              "    }\n",
              "\n",
              "    [theme=dark] .colab-df-convert {\n",
              "      background-color: #3B4455;\n",
              "      fill: #D2E3FC;\n",
              "    }\n",
              "\n",
              "    [theme=dark] .colab-df-convert:hover {\n",
              "      background-color: #434B5C;\n",
              "      box-shadow: 0px 1px 3px 1px rgba(0, 0, 0, 0.15);\n",
              "      filter: drop-shadow(0px 1px 2px rgba(0, 0, 0, 0.3));\n",
              "      fill: #FFFFFF;\n",
              "    }\n",
              "  </style>\n",
              "\n",
              "      <script>\n",
              "        const buttonEl =\n",
              "          document.querySelector('#df-d340a341-ece2-42d8-ac1f-7dc48b41b4b1 button.colab-df-convert');\n",
              "        buttonEl.style.display =\n",
              "          google.colab.kernel.accessAllowed ? 'block' : 'none';\n",
              "\n",
              "        async function convertToInteractive(key) {\n",
              "          const element = document.querySelector('#df-d340a341-ece2-42d8-ac1f-7dc48b41b4b1');\n",
              "          const dataTable =\n",
              "            await google.colab.kernel.invokeFunction('convertToInteractive',\n",
              "                                                     [key], {});\n",
              "          if (!dataTable) return;\n",
              "\n",
              "          const docLinkHtml = 'Like what you see? Visit the ' +\n",
              "            '<a target=\"_blank\" href=https://colab.research.google.com/notebooks/data_table.ipynb>data table notebook</a>'\n",
              "            + ' to learn more about interactive tables.';\n",
              "          element.innerHTML = '';\n",
              "          dataTable['output_type'] = 'display_data';\n",
              "          await google.colab.output.renderOutput(dataTable, element);\n",
              "          const docLink = document.createElement('div');\n",
              "          docLink.innerHTML = docLinkHtml;\n",
              "          element.appendChild(docLink);\n",
              "        }\n",
              "      </script>\n",
              "    </div>\n",
              "  </div>\n",
              "  "
            ],
            "text/plain": [
              "    index  ...                                          요약문_영문키워드\n",
              "0  174304  ...  Friction Stir Spot Welding, Non-destructive ev...\n",
              "1  174305  ...  many particle system,stability of dynamics,qua...\n",
              "2  174306  ...  lowbirthweightinfant,followup,earlyinterventio...\n",
              "3  174307  ...  superprecision,hiprecision,micro,mirror like f...\n",
              "4  174308  ...  Crystalline structure,Stress corrosion crackin...\n",
              "\n",
              "[5 rows x 12 columns]"
            ]
          },
          "metadata": {},
          "execution_count": 10
        }
      ],
      "source": [
        "test.head()"
      ]
    },
    {
      "cell_type": "code",
      "execution_count": null,
      "metadata": {
        "colab": {
          "base_uri": "https://localhost:8080/"
        },
        "id": "Rr8OgglsnrPg",
        "outputId": "975fb627-7934-485f-95c1-477408ac3095"
      },
      "outputs": [
        {
          "output_type": "stream",
          "name": "stdout",
          "text": [
            "<class 'pandas.core.frame.DataFrame'>\n",
            "RangeIndex: 43576 entries, 0 to 43575\n",
            "Data columns (total 12 columns):\n",
            " #   Column     Non-Null Count  Dtype \n",
            "---  ------     --------------  ----- \n",
            " 0   index      43576 non-null  int64 \n",
            " 1   제출년도       43576 non-null  int64 \n",
            " 2   사업명        43576 non-null  object\n",
            " 3   사업_부처명     43576 non-null  object\n",
            " 4   계속과제여부     43576 non-null  object\n",
            " 5   내역사업명      43576 non-null  object\n",
            " 6   과제명        43576 non-null  object\n",
            " 7   요약문_연구목표   42821 non-null  object\n",
            " 8   요약문_연구내용   42821 non-null  object\n",
            " 9   요약문_기대효과   42815 non-null  object\n",
            " 10  요약문_한글키워드  42816 non-null  object\n",
            " 11  요약문_영문키워드  42804 non-null  object\n",
            "dtypes: int64(2), object(10)\n",
            "memory usage: 4.0+ MB\n"
          ]
        }
      ],
      "source": [
        "test.info()"
      ]
    },
    {
      "cell_type": "code",
      "execution_count": null,
      "metadata": {
        "colab": {
          "base_uri": "https://localhost:8080/"
        },
        "id": "opZ7ad2zZF7t",
        "outputId": "1bd1c325-ff22-4d6e-dbab-94390eda72f6"
      },
      "outputs": [
        {
          "output_type": "execute_result",
          "data": {
            "text/plain": [
              "index          0\n",
              "제출년도           0\n",
              "사업명            0\n",
              "사업_부처명         0\n",
              "계속과제여부         0\n",
              "내역사업명          0\n",
              "과제명            0\n",
              "요약문_연구목표     755\n",
              "요약문_연구내용     755\n",
              "요약문_기대효과     761\n",
              "요약문_한글키워드    760\n",
              "요약문_영문키워드    772\n",
              "dtype: int64"
            ]
          },
          "metadata": {},
          "execution_count": 12
        }
      ],
      "source": [
        "test.isna().sum()"
      ]
    },
    {
      "cell_type": "markdown",
      "metadata": {
        "id": "GBLMuIDOrIW6"
      },
      "source": [
        "### submission"
      ]
    },
    {
      "cell_type": "code",
      "execution_count": null,
      "metadata": {
        "colab": {
          "base_uri": "https://localhost:8080/",
          "height": 206
        },
        "id": "zOhhfdv4q5r4",
        "outputId": "20ea22c4-318b-4962-db44-5fbc2df4fbd2"
      },
      "outputs": [
        {
          "output_type": "execute_result",
          "data": {
            "text/html": [
              "\n",
              "  <div id=\"df-213454ed-631b-451b-a8ec-66b048e617b6\">\n",
              "    <div class=\"colab-df-container\">\n",
              "      <div>\n",
              "<style scoped>\n",
              "    .dataframe tbody tr th:only-of-type {\n",
              "        vertical-align: middle;\n",
              "    }\n",
              "\n",
              "    .dataframe tbody tr th {\n",
              "        vertical-align: top;\n",
              "    }\n",
              "\n",
              "    .dataframe thead th {\n",
              "        text-align: right;\n",
              "    }\n",
              "</style>\n",
              "<table border=\"1\" class=\"dataframe\">\n",
              "  <thead>\n",
              "    <tr style=\"text-align: right;\">\n",
              "      <th></th>\n",
              "      <th>index</th>\n",
              "      <th>label</th>\n",
              "    </tr>\n",
              "  </thead>\n",
              "  <tbody>\n",
              "    <tr>\n",
              "      <th>0</th>\n",
              "      <td>174304</td>\n",
              "      <td>0</td>\n",
              "    </tr>\n",
              "    <tr>\n",
              "      <th>1</th>\n",
              "      <td>174305</td>\n",
              "      <td>0</td>\n",
              "    </tr>\n",
              "    <tr>\n",
              "      <th>2</th>\n",
              "      <td>174306</td>\n",
              "      <td>0</td>\n",
              "    </tr>\n",
              "    <tr>\n",
              "      <th>3</th>\n",
              "      <td>174307</td>\n",
              "      <td>0</td>\n",
              "    </tr>\n",
              "    <tr>\n",
              "      <th>4</th>\n",
              "      <td>174308</td>\n",
              "      <td>0</td>\n",
              "    </tr>\n",
              "  </tbody>\n",
              "</table>\n",
              "</div>\n",
              "      <button class=\"colab-df-convert\" onclick=\"convertToInteractive('df-213454ed-631b-451b-a8ec-66b048e617b6')\"\n",
              "              title=\"Convert this dataframe to an interactive table.\"\n",
              "              style=\"display:none;\">\n",
              "        \n",
              "  <svg xmlns=\"http://www.w3.org/2000/svg\" height=\"24px\"viewBox=\"0 0 24 24\"\n",
              "       width=\"24px\">\n",
              "    <path d=\"M0 0h24v24H0V0z\" fill=\"none\"/>\n",
              "    <path d=\"M18.56 5.44l.94 2.06.94-2.06 2.06-.94-2.06-.94-.94-2.06-.94 2.06-2.06.94zm-11 1L8.5 8.5l.94-2.06 2.06-.94-2.06-.94L8.5 2.5l-.94 2.06-2.06.94zm10 10l.94 2.06.94-2.06 2.06-.94-2.06-.94-.94-2.06-.94 2.06-2.06.94z\"/><path d=\"M17.41 7.96l-1.37-1.37c-.4-.4-.92-.59-1.43-.59-.52 0-1.04.2-1.43.59L10.3 9.45l-7.72 7.72c-.78.78-.78 2.05 0 2.83L4 21.41c.39.39.9.59 1.41.59.51 0 1.02-.2 1.41-.59l7.78-7.78 2.81-2.81c.8-.78.8-2.07 0-2.86zM5.41 20L4 18.59l7.72-7.72 1.47 1.35L5.41 20z\"/>\n",
              "  </svg>\n",
              "      </button>\n",
              "      \n",
              "  <style>\n",
              "    .colab-df-container {\n",
              "      display:flex;\n",
              "      flex-wrap:wrap;\n",
              "      gap: 12px;\n",
              "    }\n",
              "\n",
              "    .colab-df-convert {\n",
              "      background-color: #E8F0FE;\n",
              "      border: none;\n",
              "      border-radius: 50%;\n",
              "      cursor: pointer;\n",
              "      display: none;\n",
              "      fill: #1967D2;\n",
              "      height: 32px;\n",
              "      padding: 0 0 0 0;\n",
              "      width: 32px;\n",
              "    }\n",
              "\n",
              "    .colab-df-convert:hover {\n",
              "      background-color: #E2EBFA;\n",
              "      box-shadow: 0px 1px 2px rgba(60, 64, 67, 0.3), 0px 1px 3px 1px rgba(60, 64, 67, 0.15);\n",
              "      fill: #174EA6;\n",
              "    }\n",
              "\n",
              "    [theme=dark] .colab-df-convert {\n",
              "      background-color: #3B4455;\n",
              "      fill: #D2E3FC;\n",
              "    }\n",
              "\n",
              "    [theme=dark] .colab-df-convert:hover {\n",
              "      background-color: #434B5C;\n",
              "      box-shadow: 0px 1px 3px 1px rgba(0, 0, 0, 0.15);\n",
              "      filter: drop-shadow(0px 1px 2px rgba(0, 0, 0, 0.3));\n",
              "      fill: #FFFFFF;\n",
              "    }\n",
              "  </style>\n",
              "\n",
              "      <script>\n",
              "        const buttonEl =\n",
              "          document.querySelector('#df-213454ed-631b-451b-a8ec-66b048e617b6 button.colab-df-convert');\n",
              "        buttonEl.style.display =\n",
              "          google.colab.kernel.accessAllowed ? 'block' : 'none';\n",
              "\n",
              "        async function convertToInteractive(key) {\n",
              "          const element = document.querySelector('#df-213454ed-631b-451b-a8ec-66b048e617b6');\n",
              "          const dataTable =\n",
              "            await google.colab.kernel.invokeFunction('convertToInteractive',\n",
              "                                                     [key], {});\n",
              "          if (!dataTable) return;\n",
              "\n",
              "          const docLinkHtml = 'Like what you see? Visit the ' +\n",
              "            '<a target=\"_blank\" href=https://colab.research.google.com/notebooks/data_table.ipynb>data table notebook</a>'\n",
              "            + ' to learn more about interactive tables.';\n",
              "          element.innerHTML = '';\n",
              "          dataTable['output_type'] = 'display_data';\n",
              "          await google.colab.output.renderOutput(dataTable, element);\n",
              "          const docLink = document.createElement('div');\n",
              "          docLink.innerHTML = docLinkHtml;\n",
              "          element.appendChild(docLink);\n",
              "        }\n",
              "      </script>\n",
              "    </div>\n",
              "  </div>\n",
              "  "
            ],
            "text/plain": [
              "    index  label\n",
              "0  174304      0\n",
              "1  174305      0\n",
              "2  174306      0\n",
              "3  174307      0\n",
              "4  174308      0"
            ]
          },
          "metadata": {},
          "execution_count": 13
        }
      ],
      "source": [
        "sample.head()"
      ]
    },
    {
      "cell_type": "markdown",
      "metadata": {
        "id": "CWuo-AHNrKmf"
      },
      "source": [
        "### label"
      ]
    },
    {
      "cell_type": "code",
      "execution_count": null,
      "metadata": {
        "colab": {
          "base_uri": "https://localhost:8080/",
          "height": 1000
        },
        "id": "niYDoG63q638",
        "outputId": "bd8c51d8-2460-4bbc-9afa-010ffc9969a6"
      },
      "outputs": [
        {
          "output_type": "execute_result",
          "data": {
            "text/html": [
              "\n",
              "  <div id=\"df-b6aa0748-0960-4503-a52b-a72b2ec520ad\">\n",
              "    <div class=\"colab-df-container\">\n",
              "      <div>\n",
              "<style scoped>\n",
              "    .dataframe tbody tr th:only-of-type {\n",
              "        vertical-align: middle;\n",
              "    }\n",
              "\n",
              "    .dataframe tbody tr th {\n",
              "        vertical-align: top;\n",
              "    }\n",
              "\n",
              "    .dataframe thead th {\n",
              "        text-align: right;\n",
              "    }\n",
              "</style>\n",
              "<table border=\"1\" class=\"dataframe\">\n",
              "  <thead>\n",
              "    <tr style=\"text-align: right;\">\n",
              "      <th></th>\n",
              "      <th>label</th>\n",
              "      <th>소분류</th>\n",
              "    </tr>\n",
              "  </thead>\n",
              "  <tbody>\n",
              "    <tr>\n",
              "      <th>0</th>\n",
              "      <td>0</td>\n",
              "      <td>00. NaN</td>\n",
              "    </tr>\n",
              "    <tr>\n",
              "      <th>1</th>\n",
              "      <td>1</td>\n",
              "      <td>01. 원자력 발전</td>\n",
              "    </tr>\n",
              "    <tr>\n",
              "      <th>2</th>\n",
              "      <td>2</td>\n",
              "      <td>02. 핵융합 발전</td>\n",
              "    </tr>\n",
              "    <tr>\n",
              "      <th>3</th>\n",
              "      <td>3</td>\n",
              "      <td>03. 청정화력발전·효율화</td>\n",
              "    </tr>\n",
              "    <tr>\n",
              "      <th>4</th>\n",
              "      <td>4</td>\n",
              "      <td>04. 수력</td>\n",
              "    </tr>\n",
              "    <tr>\n",
              "      <th>5</th>\n",
              "      <td>5</td>\n",
              "      <td>05. 태양광</td>\n",
              "    </tr>\n",
              "    <tr>\n",
              "      <th>6</th>\n",
              "      <td>6</td>\n",
              "      <td>06. 태양열</td>\n",
              "    </tr>\n",
              "    <tr>\n",
              "      <th>7</th>\n",
              "      <td>7</td>\n",
              "      <td>07. 지열</td>\n",
              "    </tr>\n",
              "    <tr>\n",
              "      <th>8</th>\n",
              "      <td>8</td>\n",
              "      <td>08. 풍력</td>\n",
              "    </tr>\n",
              "    <tr>\n",
              "      <th>9</th>\n",
              "      <td>9</td>\n",
              "      <td>09. 해양에너지</td>\n",
              "    </tr>\n",
              "    <tr>\n",
              "      <th>10</th>\n",
              "      <td>10</td>\n",
              "      <td>10. 바이오에너지</td>\n",
              "    </tr>\n",
              "    <tr>\n",
              "      <th>11</th>\n",
              "      <td>11</td>\n",
              "      <td>11. 폐기물</td>\n",
              "    </tr>\n",
              "    <tr>\n",
              "      <th>12</th>\n",
              "      <td>12</td>\n",
              "      <td>12. 수소 제조</td>\n",
              "    </tr>\n",
              "    <tr>\n",
              "      <th>13</th>\n",
              "      <td>13</td>\n",
              "      <td>13. 연료전지</td>\n",
              "    </tr>\n",
              "    <tr>\n",
              "      <th>14</th>\n",
              "      <td>14</td>\n",
              "      <td>14. 전력 저장</td>\n",
              "    </tr>\n",
              "    <tr>\n",
              "      <th>15</th>\n",
              "      <td>15</td>\n",
              "      <td>15. 수소 저장</td>\n",
              "    </tr>\n",
              "    <tr>\n",
              "      <th>16</th>\n",
              "      <td>16</td>\n",
              "      <td>16. 송배전 시스템</td>\n",
              "    </tr>\n",
              "    <tr>\n",
              "      <th>17</th>\n",
              "      <td>17</td>\n",
              "      <td>17. 전기 지능화 기기</td>\n",
              "    </tr>\n",
              "    <tr>\n",
              "      <th>18</th>\n",
              "      <td>18</td>\n",
              "      <td>18. 수송 효율화</td>\n",
              "    </tr>\n",
              "    <tr>\n",
              "      <th>19</th>\n",
              "      <td>19</td>\n",
              "      <td>19. 산업 효율화</td>\n",
              "    </tr>\n",
              "    <tr>\n",
              "      <th>20</th>\n",
              "      <td>20</td>\n",
              "      <td>20. 건축 효율화</td>\n",
              "    </tr>\n",
              "    <tr>\n",
              "      <th>21</th>\n",
              "      <td>21</td>\n",
              "      <td>21. CCUS</td>\n",
              "    </tr>\n",
              "    <tr>\n",
              "      <th>22</th>\n",
              "      <td>22</td>\n",
              "      <td>22. Non-CO2저감</td>\n",
              "    </tr>\n",
              "    <tr>\n",
              "      <th>23</th>\n",
              "      <td>23</td>\n",
              "      <td>23. 유전자원·유전개량</td>\n",
              "    </tr>\n",
              "    <tr>\n",
              "      <th>24</th>\n",
              "      <td>24</td>\n",
              "      <td>24. 작물재배·생산</td>\n",
              "    </tr>\n",
              "    <tr>\n",
              "      <th>25</th>\n",
              "      <td>25</td>\n",
              "      <td>25. 가축 질병관리</td>\n",
              "    </tr>\n",
              "    <tr>\n",
              "      <th>26</th>\n",
              "      <td>26</td>\n",
              "      <td>26. 가공·저장·유통</td>\n",
              "    </tr>\n",
              "    <tr>\n",
              "      <th>27</th>\n",
              "      <td>27</td>\n",
              "      <td>27. 수계·수생태계</td>\n",
              "    </tr>\n",
              "    <tr>\n",
              "      <th>28</th>\n",
              "      <td>28</td>\n",
              "      <td>28. 수자원 확보 및 공급</td>\n",
              "    </tr>\n",
              "    <tr>\n",
              "      <th>29</th>\n",
              "      <td>29</td>\n",
              "      <td>29. 수처리</td>\n",
              "    </tr>\n",
              "    <tr>\n",
              "      <th>30</th>\n",
              "      <td>30</td>\n",
              "      <td>30. 수재해 관리</td>\n",
              "    </tr>\n",
              "    <tr>\n",
              "      <th>31</th>\n",
              "      <td>31</td>\n",
              "      <td>31. 기후 예측 및 모델링</td>\n",
              "    </tr>\n",
              "    <tr>\n",
              "      <th>32</th>\n",
              "      <td>32</td>\n",
              "      <td>32. 기후 정보 경보 시스템</td>\n",
              "    </tr>\n",
              "    <tr>\n",
              "      <th>33</th>\n",
              "      <td>33</td>\n",
              "      <td>33. 해양생태계</td>\n",
              "    </tr>\n",
              "    <tr>\n",
              "      <th>34</th>\n",
              "      <td>34</td>\n",
              "      <td>34. 수산자원</td>\n",
              "    </tr>\n",
              "    <tr>\n",
              "      <th>35</th>\n",
              "      <td>35</td>\n",
              "      <td>35. 연안 재해 관리</td>\n",
              "    </tr>\n",
              "    <tr>\n",
              "      <th>36</th>\n",
              "      <td>36</td>\n",
              "      <td>36. 감염 질병 관리</td>\n",
              "    </tr>\n",
              "    <tr>\n",
              "      <th>37</th>\n",
              "      <td>37</td>\n",
              "      <td>37. 식품 안전 예방</td>\n",
              "    </tr>\n",
              "    <tr>\n",
              "      <th>38</th>\n",
              "      <td>38</td>\n",
              "      <td>38. 산림 생산 증진</td>\n",
              "    </tr>\n",
              "    <tr>\n",
              "      <th>39</th>\n",
              "      <td>39</td>\n",
              "      <td>39. 산림피해저감</td>\n",
              "    </tr>\n",
              "    <tr>\n",
              "      <th>40</th>\n",
              "      <td>40</td>\n",
              "      <td>40. 생태·모니터링·복원</td>\n",
              "    </tr>\n",
              "    <tr>\n",
              "      <th>41</th>\n",
              "      <td>41</td>\n",
              "      <td>41. 신재생에너지 하이브리드</td>\n",
              "    </tr>\n",
              "    <tr>\n",
              "      <th>42</th>\n",
              "      <td>42</td>\n",
              "      <td>42. 저전력 소모 장비</td>\n",
              "    </tr>\n",
              "    <tr>\n",
              "      <th>43</th>\n",
              "      <td>43</td>\n",
              "      <td>43. 에너지 하베스팅</td>\n",
              "    </tr>\n",
              "    <tr>\n",
              "      <th>44</th>\n",
              "      <td>44</td>\n",
              "      <td>44. 인공광합성</td>\n",
              "    </tr>\n",
              "    <tr>\n",
              "      <th>45</th>\n",
              "      <td>45</td>\n",
              "      <td>45. 기타 기후변화 관련 기술</td>\n",
              "    </tr>\n",
              "  </tbody>\n",
              "</table>\n",
              "</div>\n",
              "      <button class=\"colab-df-convert\" onclick=\"convertToInteractive('df-b6aa0748-0960-4503-a52b-a72b2ec520ad')\"\n",
              "              title=\"Convert this dataframe to an interactive table.\"\n",
              "              style=\"display:none;\">\n",
              "        \n",
              "  <svg xmlns=\"http://www.w3.org/2000/svg\" height=\"24px\"viewBox=\"0 0 24 24\"\n",
              "       width=\"24px\">\n",
              "    <path d=\"M0 0h24v24H0V0z\" fill=\"none\"/>\n",
              "    <path d=\"M18.56 5.44l.94 2.06.94-2.06 2.06-.94-2.06-.94-.94-2.06-.94 2.06-2.06.94zm-11 1L8.5 8.5l.94-2.06 2.06-.94-2.06-.94L8.5 2.5l-.94 2.06-2.06.94zm10 10l.94 2.06.94-2.06 2.06-.94-2.06-.94-.94-2.06-.94 2.06-2.06.94z\"/><path d=\"M17.41 7.96l-1.37-1.37c-.4-.4-.92-.59-1.43-.59-.52 0-1.04.2-1.43.59L10.3 9.45l-7.72 7.72c-.78.78-.78 2.05 0 2.83L4 21.41c.39.39.9.59 1.41.59.51 0 1.02-.2 1.41-.59l7.78-7.78 2.81-2.81c.8-.78.8-2.07 0-2.86zM5.41 20L4 18.59l7.72-7.72 1.47 1.35L5.41 20z\"/>\n",
              "  </svg>\n",
              "      </button>\n",
              "      \n",
              "  <style>\n",
              "    .colab-df-container {\n",
              "      display:flex;\n",
              "      flex-wrap:wrap;\n",
              "      gap: 12px;\n",
              "    }\n",
              "\n",
              "    .colab-df-convert {\n",
              "      background-color: #E8F0FE;\n",
              "      border: none;\n",
              "      border-radius: 50%;\n",
              "      cursor: pointer;\n",
              "      display: none;\n",
              "      fill: #1967D2;\n",
              "      height: 32px;\n",
              "      padding: 0 0 0 0;\n",
              "      width: 32px;\n",
              "    }\n",
              "\n",
              "    .colab-df-convert:hover {\n",
              "      background-color: #E2EBFA;\n",
              "      box-shadow: 0px 1px 2px rgba(60, 64, 67, 0.3), 0px 1px 3px 1px rgba(60, 64, 67, 0.15);\n",
              "      fill: #174EA6;\n",
              "    }\n",
              "\n",
              "    [theme=dark] .colab-df-convert {\n",
              "      background-color: #3B4455;\n",
              "      fill: #D2E3FC;\n",
              "    }\n",
              "\n",
              "    [theme=dark] .colab-df-convert:hover {\n",
              "      background-color: #434B5C;\n",
              "      box-shadow: 0px 1px 3px 1px rgba(0, 0, 0, 0.15);\n",
              "      filter: drop-shadow(0px 1px 2px rgba(0, 0, 0, 0.3));\n",
              "      fill: #FFFFFF;\n",
              "    }\n",
              "  </style>\n",
              "\n",
              "      <script>\n",
              "        const buttonEl =\n",
              "          document.querySelector('#df-b6aa0748-0960-4503-a52b-a72b2ec520ad button.colab-df-convert');\n",
              "        buttonEl.style.display =\n",
              "          google.colab.kernel.accessAllowed ? 'block' : 'none';\n",
              "\n",
              "        async function convertToInteractive(key) {\n",
              "          const element = document.querySelector('#df-b6aa0748-0960-4503-a52b-a72b2ec520ad');\n",
              "          const dataTable =\n",
              "            await google.colab.kernel.invokeFunction('convertToInteractive',\n",
              "                                                     [key], {});\n",
              "          if (!dataTable) return;\n",
              "\n",
              "          const docLinkHtml = 'Like what you see? Visit the ' +\n",
              "            '<a target=\"_blank\" href=https://colab.research.google.com/notebooks/data_table.ipynb>data table notebook</a>'\n",
              "            + ' to learn more about interactive tables.';\n",
              "          element.innerHTML = '';\n",
              "          dataTable['output_type'] = 'display_data';\n",
              "          await google.colab.output.renderOutput(dataTable, element);\n",
              "          const docLink = document.createElement('div');\n",
              "          docLink.innerHTML = docLinkHtml;\n",
              "          element.appendChild(docLink);\n",
              "        }\n",
              "      </script>\n",
              "    </div>\n",
              "  </div>\n",
              "  "
            ],
            "text/plain": [
              "    label                소분류\n",
              "0       0            00. NaN\n",
              "1       1         01. 원자력 발전\n",
              "2       2         02. 핵융합 발전\n",
              "3       3     03. 청정화력발전·효율화\n",
              "4       4             04. 수력\n",
              "5       5            05. 태양광\n",
              "6       6            06. 태양열\n",
              "7       7             07. 지열\n",
              "8       8             08. 풍력\n",
              "9       9          09. 해양에너지\n",
              "10     10         10. 바이오에너지\n",
              "11     11            11. 폐기물\n",
              "12     12          12. 수소 제조\n",
              "13     13           13. 연료전지\n",
              "14     14          14. 전력 저장\n",
              "15     15          15. 수소 저장\n",
              "16     16        16. 송배전 시스템\n",
              "17     17      17. 전기 지능화 기기\n",
              "18     18         18. 수송 효율화\n",
              "19     19         19. 산업 효율화\n",
              "20     20         20. 건축 효율화\n",
              "21     21           21. CCUS\n",
              "22     22     22. Non-CO2저감 \n",
              "23     23      23. 유전자원·유전개량\n",
              "24     24        24. 작물재배·생산\n",
              "25     25        25. 가축 질병관리\n",
              "26     26       26. 가공·저장·유통\n",
              "27     27        27. 수계·수생태계\n",
              "28     28    28. 수자원 확보 및 공급\n",
              "29     29            29. 수처리\n",
              "30     30         30. 수재해 관리\n",
              "31     31    31. 기후 예측 및 모델링\n",
              "32     32   32. 기후 정보 경보 시스템\n",
              "33     33          33. 해양생태계\n",
              "34     34           34. 수산자원\n",
              "35     35       35. 연안 재해 관리\n",
              "36     36       36. 감염 질병 관리\n",
              "37     37       37. 식품 안전 예방\n",
              "38     38       38. 산림 생산 증진\n",
              "39     39         39. 산림피해저감\n",
              "40     40     40. 생태·모니터링·복원\n",
              "41     41   41. 신재생에너지 하이브리드\n",
              "42     42      42. 저전력 소모 장비\n",
              "43     43       43. 에너지 하베스팅\n",
              "44     44          44. 인공광합성\n",
              "45     45  45. 기타 기후변화 관련 기술"
            ]
          },
          "metadata": {},
          "execution_count": 14
        }
      ],
      "source": [
        "label"
      ]
    },
    {
      "cell_type": "code",
      "execution_count": null,
      "metadata": {
        "id": "na_H1QdGrE8l"
      },
      "outputs": [],
      "source": []
    },
    {
      "cell_type": "markdown",
      "metadata": {
        "id": "Z7IXed0UrkJD"
      },
      "source": []
    },
    {
      "cell_type": "markdown",
      "metadata": {
        "id": "AGy6vh66rkL4"
      },
      "source": []
    },
    {
      "cell_type": "markdown",
      "metadata": {
        "id": "xwabehNJrkOj"
      },
      "source": [
        "## EDA"
      ]
    },
    {
      "cell_type": "markdown",
      "metadata": {
        "id": "DpXxXo_6sGRg"
      },
      "source": [
        "### 결측치(train & test)"
      ]
    },
    {
      "cell_type": "code",
      "execution_count": null,
      "metadata": {
        "colab": {
          "base_uri": "https://localhost:8080/"
        },
        "id": "osIvvOA1rlUI",
        "outputId": "8bfb23b3-91aa-4d64-a410-b679cb85dbd7"
      },
      "outputs": [
        {
          "output_type": "execute_result",
          "data": {
            "text/plain": [
              "index           0\n",
              "제출년도            0\n",
              "사업명             0\n",
              "사업_부처명          0\n",
              "계속과제여부          0\n",
              "내역사업명           0\n",
              "과제명             0\n",
              "요약문_연구목표     3002\n",
              "요약문_연구내용     3001\n",
              "요약문_기대효과     3051\n",
              "요약문_한글키워드    3028\n",
              "요약문_영문키워드    3087\n",
              "label           0\n",
              "dtype: int64"
            ]
          },
          "metadata": {},
          "execution_count": 15
        }
      ],
      "source": [
        "train.isna().sum()"
      ]
    },
    {
      "cell_type": "code",
      "execution_count": null,
      "metadata": {
        "colab": {
          "base_uri": "https://localhost:8080/",
          "height": 815
        },
        "id": "Fk1ToMtgU4r4",
        "outputId": "7c06ecb5-fdcd-4d3c-a17d-ffa071f1a56d"
      },
      "outputs": [
        {
          "output_type": "execute_result",
          "data": {
            "text/html": [
              "\n",
              "  <div id=\"df-3445a841-e961-4ee1-bdc4-a977dc9bb636\">\n",
              "    <div class=\"colab-df-container\">\n",
              "      <div>\n",
              "<style scoped>\n",
              "    .dataframe tbody tr th:only-of-type {\n",
              "        vertical-align: middle;\n",
              "    }\n",
              "\n",
              "    .dataframe tbody tr th {\n",
              "        vertical-align: top;\n",
              "    }\n",
              "\n",
              "    .dataframe thead th {\n",
              "        text-align: right;\n",
              "    }\n",
              "</style>\n",
              "<table border=\"1\" class=\"dataframe\">\n",
              "  <thead>\n",
              "    <tr style=\"text-align: right;\">\n",
              "      <th></th>\n",
              "      <th>index</th>\n",
              "      <th>제출년도</th>\n",
              "      <th>사업명</th>\n",
              "      <th>사업_부처명</th>\n",
              "      <th>계속과제여부</th>\n",
              "      <th>내역사업명</th>\n",
              "      <th>과제명</th>\n",
              "      <th>요약문_연구목표</th>\n",
              "      <th>요약문_연구내용</th>\n",
              "      <th>요약문_기대효과</th>\n",
              "      <th>요약문_한글키워드</th>\n",
              "      <th>요약문_영문키워드</th>\n",
              "      <th>label</th>\n",
              "    </tr>\n",
              "  </thead>\n",
              "  <tbody>\n",
              "    <tr>\n",
              "      <th>34</th>\n",
              "      <td>34</td>\n",
              "      <td>2019</td>\n",
              "      <td>과학기술연합대학원대학교연구운영비지원(R&amp;D)(운영경비)</td>\n",
              "      <td>과학기술정보통신부</td>\n",
              "      <td>계속</td>\n",
              "      <td>과학기술연합대학원대학교연구운영비지원</td>\n",
              "      <td>과학기술연합대학원대학교 운영비</td>\n",
              "      <td>NaN</td>\n",
              "      <td>NaN</td>\n",
              "      <td>NaN</td>\n",
              "      <td>NaN</td>\n",
              "      <td>NaN</td>\n",
              "      <td>0</td>\n",
              "    </tr>\n",
              "    <tr>\n",
              "      <th>108</th>\n",
              "      <td>108</td>\n",
              "      <td>2017</td>\n",
              "      <td>한국과학기술원연구운영비지원(0.5)</td>\n",
              "      <td>과학기술정보통신부</td>\n",
              "      <td>계속</td>\n",
              "      <td>글로벌교육연구선도사업</td>\n",
              "      <td>미래형융합교육프로그램운영</td>\n",
              "      <td>NaN</td>\n",
              "      <td>NaN</td>\n",
              "      <td>NaN</td>\n",
              "      <td>NaN</td>\n",
              "      <td>NaN</td>\n",
              "      <td>0</td>\n",
              "    </tr>\n",
              "    <tr>\n",
              "      <th>205</th>\n",
              "      <td>205</td>\n",
              "      <td>2017</td>\n",
              "      <td>지방대학육성사업(0.5)</td>\n",
              "      <td>교육부</td>\n",
              "      <td>계속</td>\n",
              "      <td>지방대학 특성화사업</td>\n",
              "      <td>환경친화형 융복합 기계부품 창의 인재 양성 사업단</td>\n",
              "      <td>NaN</td>\n",
              "      <td>NaN</td>\n",
              "      <td>NaN</td>\n",
              "      <td>NaN</td>\n",
              "      <td>NaN</td>\n",
              "      <td>0</td>\n",
              "    </tr>\n",
              "    <tr>\n",
              "      <th>321</th>\n",
              "      <td>321</td>\n",
              "      <td>2019</td>\n",
              "      <td>국가과학기술연구회연구운영비지원(R&amp;D)(주요사업비)</td>\n",
              "      <td>과학기술정보통신부</td>\n",
              "      <td>계속</td>\n",
              "      <td>출연(연)지원육성사업</td>\n",
              "      <td>출연(연) 지원육성사업</td>\n",
              "      <td>NaN</td>\n",
              "      <td>NaN</td>\n",
              "      <td>NaN</td>\n",
              "      <td>NaN</td>\n",
              "      <td>NaN</td>\n",
              "      <td>0</td>\n",
              "    </tr>\n",
              "    <tr>\n",
              "      <th>328</th>\n",
              "      <td>328</td>\n",
              "      <td>2018</td>\n",
              "      <td>국민안전증진기술개발(R&amp;D)</td>\n",
              "      <td>산업통상자원부</td>\n",
              "      <td>계속</td>\n",
              "      <td>사회문제해결형 다부처공동사업</td>\n",
              "      <td>2017 사회문제해결형R&amp;D 다부처 공동시범사업(평가관리)</td>\n",
              "      <td>NaN</td>\n",
              "      <td>NaN</td>\n",
              "      <td>NaN</td>\n",
              "      <td>NaN</td>\n",
              "      <td>NaN</td>\n",
              "      <td>0</td>\n",
              "    </tr>\n",
              "    <tr>\n",
              "      <th>...</th>\n",
              "      <td>...</td>\n",
              "      <td>...</td>\n",
              "      <td>...</td>\n",
              "      <td>...</td>\n",
              "      <td>...</td>\n",
              "      <td>...</td>\n",
              "      <td>...</td>\n",
              "      <td>...</td>\n",
              "      <td>...</td>\n",
              "      <td>...</td>\n",
              "      <td>...</td>\n",
              "      <td>...</td>\n",
              "      <td>...</td>\n",
              "    </tr>\n",
              "    <tr>\n",
              "      <th>174139</th>\n",
              "      <td>174139</td>\n",
              "      <td>2016</td>\n",
              "      <td>소재부품산업기술개발기반구축</td>\n",
              "      <td>산업통상자원부</td>\n",
              "      <td>계속</td>\n",
              "      <td>기획평가관리비</td>\n",
              "      <td>소재부품산업기술개발기반구축 평가관리비</td>\n",
              "      <td>NaN</td>\n",
              "      <td>NaN</td>\n",
              "      <td>NaN</td>\n",
              "      <td>NaN</td>\n",
              "      <td>NaN</td>\n",
              "      <td>0</td>\n",
              "    </tr>\n",
              "    <tr>\n",
              "      <th>174173</th>\n",
              "      <td>174173</td>\n",
              "      <td>2017</td>\n",
              "      <td>미래해양자원기술개발</td>\n",
              "      <td>해양수산부</td>\n",
              "      <td>계속</td>\n",
              "      <td>기획평가관리비</td>\n",
              "      <td>미래해양자원기술개발 기획평가관리비</td>\n",
              "      <td>NaN</td>\n",
              "      <td>NaN</td>\n",
              "      <td>NaN</td>\n",
              "      <td>NaN</td>\n",
              "      <td>NaN</td>\n",
              "      <td>0</td>\n",
              "    </tr>\n",
              "    <tr>\n",
              "      <th>174174</th>\n",
              "      <td>174174</td>\n",
              "      <td>2017</td>\n",
              "      <td>포스트게놈신산업육성을위한다부처유전체사업(농림부)</td>\n",
              "      <td>농림축산식품부</td>\n",
              "      <td>계속</td>\n",
              "      <td>기획평가관리비</td>\n",
              "      <td>포스트게놈다부처유전체사업(농림부) 기획평가관리비</td>\n",
              "      <td>NaN</td>\n",
              "      <td>NaN</td>\n",
              "      <td>NaN</td>\n",
              "      <td>NaN</td>\n",
              "      <td>NaN</td>\n",
              "      <td>0</td>\n",
              "    </tr>\n",
              "    <tr>\n",
              "      <th>174230</th>\n",
              "      <td>174230</td>\n",
              "      <td>2018</td>\n",
              "      <td>한국과학기술원한국과학영재학교지원(R&amp;D)</td>\n",
              "      <td>과학기술정보통신부</td>\n",
              "      <td>계속</td>\n",
              "      <td>한국과학기술원한국과학영재학교지원</td>\n",
              "      <td>한국과학기술원 한국과학영재학교 운영비</td>\n",
              "      <td>NaN</td>\n",
              "      <td>NaN</td>\n",
              "      <td>NaN</td>\n",
              "      <td>NaN</td>\n",
              "      <td>NaN</td>\n",
              "      <td>0</td>\n",
              "    </tr>\n",
              "    <tr>\n",
              "      <th>174272</th>\n",
              "      <td>174272</td>\n",
              "      <td>2019</td>\n",
              "      <td>해외농업기술개발지원(R&amp;D,ODA)</td>\n",
              "      <td>농촌진흥청</td>\n",
              "      <td>계속</td>\n",
              "      <td>해외농업기술개발지원</td>\n",
              "      <td>아시아농식품기술협력협의체 운영</td>\n",
              "      <td>NaN</td>\n",
              "      <td>NaN</td>\n",
              "      <td>NaN</td>\n",
              "      <td>NaN</td>\n",
              "      <td>NaN</td>\n",
              "      <td>0</td>\n",
              "    </tr>\n",
              "  </tbody>\n",
              "</table>\n",
              "<p>3051 rows × 13 columns</p>\n",
              "</div>\n",
              "      <button class=\"colab-df-convert\" onclick=\"convertToInteractive('df-3445a841-e961-4ee1-bdc4-a977dc9bb636')\"\n",
              "              title=\"Convert this dataframe to an interactive table.\"\n",
              "              style=\"display:none;\">\n",
              "        \n",
              "  <svg xmlns=\"http://www.w3.org/2000/svg\" height=\"24px\"viewBox=\"0 0 24 24\"\n",
              "       width=\"24px\">\n",
              "    <path d=\"M0 0h24v24H0V0z\" fill=\"none\"/>\n",
              "    <path d=\"M18.56 5.44l.94 2.06.94-2.06 2.06-.94-2.06-.94-.94-2.06-.94 2.06-2.06.94zm-11 1L8.5 8.5l.94-2.06 2.06-.94-2.06-.94L8.5 2.5l-.94 2.06-2.06.94zm10 10l.94 2.06.94-2.06 2.06-.94-2.06-.94-.94-2.06-.94 2.06-2.06.94z\"/><path d=\"M17.41 7.96l-1.37-1.37c-.4-.4-.92-.59-1.43-.59-.52 0-1.04.2-1.43.59L10.3 9.45l-7.72 7.72c-.78.78-.78 2.05 0 2.83L4 21.41c.39.39.9.59 1.41.59.51 0 1.02-.2 1.41-.59l7.78-7.78 2.81-2.81c.8-.78.8-2.07 0-2.86zM5.41 20L4 18.59l7.72-7.72 1.47 1.35L5.41 20z\"/>\n",
              "  </svg>\n",
              "      </button>\n",
              "      \n",
              "  <style>\n",
              "    .colab-df-container {\n",
              "      display:flex;\n",
              "      flex-wrap:wrap;\n",
              "      gap: 12px;\n",
              "    }\n",
              "\n",
              "    .colab-df-convert {\n",
              "      background-color: #E8F0FE;\n",
              "      border: none;\n",
              "      border-radius: 50%;\n",
              "      cursor: pointer;\n",
              "      display: none;\n",
              "      fill: #1967D2;\n",
              "      height: 32px;\n",
              "      padding: 0 0 0 0;\n",
              "      width: 32px;\n",
              "    }\n",
              "\n",
              "    .colab-df-convert:hover {\n",
              "      background-color: #E2EBFA;\n",
              "      box-shadow: 0px 1px 2px rgba(60, 64, 67, 0.3), 0px 1px 3px 1px rgba(60, 64, 67, 0.15);\n",
              "      fill: #174EA6;\n",
              "    }\n",
              "\n",
              "    [theme=dark] .colab-df-convert {\n",
              "      background-color: #3B4455;\n",
              "      fill: #D2E3FC;\n",
              "    }\n",
              "\n",
              "    [theme=dark] .colab-df-convert:hover {\n",
              "      background-color: #434B5C;\n",
              "      box-shadow: 0px 1px 3px 1px rgba(0, 0, 0, 0.15);\n",
              "      filter: drop-shadow(0px 1px 2px rgba(0, 0, 0, 0.3));\n",
              "      fill: #FFFFFF;\n",
              "    }\n",
              "  </style>\n",
              "\n",
              "      <script>\n",
              "        const buttonEl =\n",
              "          document.querySelector('#df-3445a841-e961-4ee1-bdc4-a977dc9bb636 button.colab-df-convert');\n",
              "        buttonEl.style.display =\n",
              "          google.colab.kernel.accessAllowed ? 'block' : 'none';\n",
              "\n",
              "        async function convertToInteractive(key) {\n",
              "          const element = document.querySelector('#df-3445a841-e961-4ee1-bdc4-a977dc9bb636');\n",
              "          const dataTable =\n",
              "            await google.colab.kernel.invokeFunction('convertToInteractive',\n",
              "                                                     [key], {});\n",
              "          if (!dataTable) return;\n",
              "\n",
              "          const docLinkHtml = 'Like what you see? Visit the ' +\n",
              "            '<a target=\"_blank\" href=https://colab.research.google.com/notebooks/data_table.ipynb>data table notebook</a>'\n",
              "            + ' to learn more about interactive tables.';\n",
              "          element.innerHTML = '';\n",
              "          dataTable['output_type'] = 'display_data';\n",
              "          await google.colab.output.renderOutput(dataTable, element);\n",
              "          const docLink = document.createElement('div');\n",
              "          docLink.innerHTML = docLinkHtml;\n",
              "          element.appendChild(docLink);\n",
              "        }\n",
              "      </script>\n",
              "    </div>\n",
              "  </div>\n",
              "  "
            ],
            "text/plain": [
              "         index  제출년도                             사업명  ... 요약문_한글키워드 요약문_영문키워드 label\n",
              "34          34  2019  과학기술연합대학원대학교연구운영비지원(R&D)(운영경비)  ...       NaN       NaN     0\n",
              "108        108  2017             한국과학기술원연구운영비지원(0.5)  ...       NaN       NaN     0\n",
              "205        205  2017                   지방대학육성사업(0.5)  ...       NaN       NaN     0\n",
              "321        321  2019    국가과학기술연구회연구운영비지원(R&D)(주요사업비)  ...       NaN       NaN     0\n",
              "328        328  2018                 국민안전증진기술개발(R&D)  ...       NaN       NaN     0\n",
              "...        ...   ...                             ...  ...       ...       ...   ...\n",
              "174139  174139  2016                  소재부품산업기술개발기반구축  ...       NaN       NaN     0\n",
              "174173  174173  2017                      미래해양자원기술개발  ...       NaN       NaN     0\n",
              "174174  174174  2017      포스트게놈신산업육성을위한다부처유전체사업(농림부)  ...       NaN       NaN     0\n",
              "174230  174230  2018          한국과학기술원한국과학영재학교지원(R&D)  ...       NaN       NaN     0\n",
              "174272  174272  2019             해외농업기술개발지원(R&D,ODA)  ...       NaN       NaN     0\n",
              "\n",
              "[3051 rows x 13 columns]"
            ]
          },
          "metadata": {},
          "execution_count": 16
        }
      ],
      "source": [
        "train[train['요약문_기대효과'].isna()]"
      ]
    },
    {
      "cell_type": "code",
      "execution_count": null,
      "metadata": {
        "colab": {
          "base_uri": "https://localhost:8080/"
        },
        "id": "tWAs3EIAUxvi",
        "outputId": "1c9ddeeb-ca62-43e2-ce66-3d32c392cf99"
      },
      "outputs": [
        {
          "output_type": "execute_result",
          "data": {
            "text/plain": [
              "index          0\n",
              "제출년도           0\n",
              "사업명            0\n",
              "사업_부처명         0\n",
              "계속과제여부         0\n",
              "내역사업명          0\n",
              "과제명            0\n",
              "요약문_연구목표     755\n",
              "요약문_연구내용     755\n",
              "요약문_기대효과     761\n",
              "요약문_한글키워드    760\n",
              "요약문_영문키워드    772\n",
              "dtype: int64"
            ]
          },
          "metadata": {},
          "execution_count": 17
        }
      ],
      "source": [
        "test.isna().sum()"
      ]
    },
    {
      "cell_type": "markdown",
      "metadata": {
        "id": "k-16JFrc8ulG"
      },
      "source": [
        "### column 별\n",
        "\n"
      ]
    },
    {
      "cell_type": "code",
      "execution_count": null,
      "metadata": {
        "colab": {
          "base_uri": "https://localhost:8080/"
        },
        "id": "YqwpBzCArs_F",
        "outputId": "21939d67-5369-4066-b492-1eba58fc2284"
      },
      "outputs": [
        {
          "output_type": "execute_result",
          "data": {
            "text/plain": [
              "0     142571\n",
              "1       1261\n",
              "2        275\n",
              "3        143\n",
              "4         57\n",
              "5       1698\n",
              "6         78\n",
              "7        113\n",
              "8        339\n",
              "9        106\n",
              "10       658\n",
              "11       200\n",
              "12       268\n",
              "13       575\n",
              "14      1672\n",
              "15       165\n",
              "16       506\n",
              "17       154\n",
              "18      1550\n",
              "19      4938\n",
              "20      1059\n",
              "21       496\n",
              "22       148\n",
              "23      1840\n",
              "24      3520\n",
              "25       810\n",
              "26       316\n",
              "27       620\n",
              "28       449\n",
              "29      1028\n",
              "30       234\n",
              "31       922\n",
              "32       260\n",
              "33       533\n",
              "34       523\n",
              "35       291\n",
              "36      1060\n",
              "37       266\n",
              "38       262\n",
              "39       202\n",
              "40       441\n",
              "41        67\n",
              "42        51\n",
              "43       351\n",
              "44        91\n",
              "45      1137\n",
              "Name: label, dtype: int64"
            ]
          },
          "metadata": {},
          "execution_count": 18
        }
      ],
      "source": [
        "train['label'].value_counts(sort=False)"
      ]
    },
    {
      "cell_type": "code",
      "execution_count": null,
      "metadata": {
        "colab": {
          "base_uri": "https://localhost:8080/"
        },
        "id": "ije7cLT8ukwg",
        "outputId": "dc90ab6b-577f-47c6-f928-bbf7605a1cb0"
      },
      "outputs": [
        {
          "output_type": "execute_result",
          "data": {
            "text/plain": [
              "0     0.817945\n",
              "1     0.007234\n",
              "2     0.001578\n",
              "3     0.000820\n",
              "4     0.000327\n",
              "5     0.009742\n",
              "6     0.000447\n",
              "7     0.000648\n",
              "8     0.001945\n",
              "9     0.000608\n",
              "10    0.003775\n",
              "11    0.001147\n",
              "12    0.001538\n",
              "13    0.003299\n",
              "14    0.009592\n",
              "15    0.000947\n",
              "16    0.002903\n",
              "17    0.000884\n",
              "18    0.008893\n",
              "19    0.028330\n",
              "20    0.006076\n",
              "21    0.002846\n",
              "22    0.000849\n",
              "23    0.010556\n",
              "24    0.020195\n",
              "25    0.004647\n",
              "26    0.001813\n",
              "27    0.003557\n",
              "28    0.002576\n",
              "29    0.005898\n",
              "30    0.001342\n",
              "31    0.005290\n",
              "32    0.001492\n",
              "33    0.003058\n",
              "34    0.003001\n",
              "35    0.001669\n",
              "36    0.006081\n",
              "37    0.001526\n",
              "38    0.001503\n",
              "39    0.001159\n",
              "40    0.002530\n",
              "41    0.000384\n",
              "42    0.000293\n",
              "43    0.002014\n",
              "44    0.000522\n",
              "45    0.006523\n",
              "Name: label, dtype: float64"
            ]
          },
          "metadata": {},
          "execution_count": 19
        }
      ],
      "source": [
        "train['label'].value_counts(sort=False) / len(train)"
      ]
    },
    {
      "cell_type": "code",
      "execution_count": null,
      "metadata": {
        "colab": {
          "base_uri": "https://localhost:8080/",
          "height": 352
        },
        "id": "oaY8NU8qtyHn",
        "outputId": "b7b5ea18-d987-44a3-da35-414a4c4d1eba"
      },
      "outputs": [
        {
          "output_type": "execute_result",
          "data": {
            "text/plain": [
              "(array([45.,  0.,  0.,  0.,  0.,  0.,  0.,  0.,  0.,  1.]),\n",
              " array([2.92592253e-04, 8.20577841e-02, 1.63822976e-01, 2.45588168e-01,\n",
              "        3.27353360e-01, 4.09118551e-01, 4.90883743e-01, 5.72648935e-01,\n",
              "        6.54414127e-01, 7.36179319e-01, 8.17944511e-01]),\n",
              " <a list of 10 Patch objects>)"
            ]
          },
          "metadata": {},
          "execution_count": 20
        },
        {
          "output_type": "stream",
          "name": "stderr",
          "text": [
            "findfont: Font family ['NanumBarunGothic'] not found. Falling back to DejaVu Sans.\n"
          ]
        },
        {
          "output_type": "display_data",
          "data": {
            "image/png": "[encoded data removed]",
            "text/plain": [
              "<Figure size 432x288 with 1 Axes>"
            ]
          },
          "metadata": {
            "needs_background": "light"
          }
        }
      ],
      "source": [
        "plt.hist(train['label'].value_counts(sort=False) / len(train))\n",
        "\n",
        "#0번 label = nan 데이터가 많음"
      ]
    },
    {
      "cell_type": "code",
      "execution_count": null,
      "metadata": {
        "colab": {
          "base_uri": "https://localhost:8080/"
        },
        "id": "UaaZl8C9u75p",
        "outputId": "bfebed19-ee7e-43d1-fe58-052051e9e4e0"
      },
      "outputs": [
        {
          "output_type": "execute_result",
          "data": {
            "text/plain": [
              "2016    37685\n",
              "2017    42766\n",
              "2018    45018\n",
              "2019    48835\n",
              "Name: 제출년도, dtype: int64"
            ]
          },
          "metadata": {},
          "execution_count": 21
        }
      ],
      "source": [
        "train['제출년도'].value_counts(sort=False)"
      ]
    },
    {
      "cell_type": "code",
      "execution_count": null,
      "metadata": {
        "colab": {
          "base_uri": "https://localhost:8080/"
        },
        "id": "Byv67L6BDpW2",
        "outputId": "deb86dab-9293-4946-9528-72eacfa80d7e"
      },
      "outputs": [
        {
          "output_type": "execute_result",
          "data": {
            "text/plain": [
              "혁신신약파이프라인발굴(R&D)             24\n",
              "한국건설기술연구원연구운영비지원(운영경비)        1\n",
              "시스템산업미래성장동력                  36\n",
              "공정·품질기술개발                   667\n",
              "울산과학기술원연구운영비지원(주요사업비)        10\n",
              "                           ... \n",
              "초소형전기차산업및서비스육성실증지원(R&D)       6\n",
              "한국생명공학연구원첨단의료유전체연구원지원         1\n",
              "국가도서관지식콘텐츠의창조적관리및확산(R&D)      1\n",
              "에너지자원순환기술개발                  47\n",
              "식품등안전관리(R&D)                341\n",
              "Name: 사업명, Length: 1414, dtype: int64"
            ]
          },
          "metadata": {},
          "execution_count": 22
        }
      ],
      "source": [
        "train['사업명'].value_counts(sort=False)"
      ]
    },
    {
      "cell_type": "code",
      "execution_count": null,
      "metadata": {
        "colab": {
          "base_uri": "https://localhost:8080/"
        },
        "id": "wXQ1c65k8k4R",
        "outputId": "41834dca-2258-4882-86ed-78c393facdc5"
      },
      "outputs": [
        {
          "output_type": "execute_result",
          "data": {
            "text/plain": [
              "과학기술정보통신부    42455\n",
              "교육부          34336\n",
              "중소벤처기업부      23364\n",
              "산업통상자원부      15127\n",
              "농촌진흥청        14715\n",
              "미래창조과학부      10230\n",
              "보건복지부         7522\n",
              "중소기업청         5938\n",
              "농림축산식품부       5879\n",
              "해양수산부         3371\n",
              "환경부           2324\n",
              "국토교통부         2056\n",
              "식품의약품안전처      1911\n",
              "다부처           1429\n",
              "산림청           1044\n",
              "기상청            586\n",
              "문화체육관광부        455\n",
              "원자력안전위원회       402\n",
              "행정안전부          321\n",
              "범부처 사업         212\n",
              "국민안전처          141\n",
              "소방청            138\n",
              "경찰청             95\n",
              "해양경찰청           92\n",
              "문화재청            81\n",
              "특허청             38\n",
              "행정자치부           35\n",
              "기획재정부            7\n",
              "Name: 사업_부처명, dtype: int64"
            ]
          },
          "metadata": {},
          "execution_count": 23
        }
      ],
      "source": [
        "train['사업_부처명'].value_counts(sort=True)"
      ]
    },
    {
      "cell_type": "code",
      "execution_count": null,
      "metadata": {
        "colab": {
          "base_uri": "https://localhost:8080/"
        },
        "id": "0a3DrPM6BRfY",
        "outputId": "fbc42051-5885-437b-ebfc-ab5c7d818395"
      },
      "outputs": [
        {
          "output_type": "execute_result",
          "data": {
            "text/plain": [
              "장수형 밀 이삭길이 및 농업형질 관련 유전자 기능 검정                          2\n",
              "우유 마이크로RNA 유전체를 활용한 골다공증 예방 기능성 유전소재 개발                 1\n",
              "정형/비정형 서베이 및 SNS평판분석을 위한 빅데이터기반의 자동화된 여론분석 서베이 시스템      2\n",
              "4차산업을 위한 대용량 스마트 무선충전장치 개발                              2\n",
              "삼채의 생리활성 및 작용기전 구명                                      1\n",
              "                                                       ..\n",
              "토양 중 불소 전함량 평가를 위한 X선 형광분석용 표준시편 개발 및 실용화 연구            1\n",
              "자문과 판매를 결합한 One Stop 인공지능 투자자문 클라우드 컴퓨팅(SaaS) 서비스 개발    1\n",
              "작물생육상태에 따른 지능형 토경온실 환경제어시스템 기술 개발                       1\n",
              "노화에 따른 연하기능 변화에서 고주파 반복적 경두개 자기자극 후 대뇌피질의 활동성 변화        1\n",
              "두부 첨가로 풍미와 식감을 개량한 고추장 개발                               1\n",
              "Name: 과제명, Length: 106623, dtype: int64"
            ]
          },
          "metadata": {},
          "execution_count": 24
        }
      ],
      "source": [
        "train['과제명'].value_counts(sort=False)"
      ]
    },
    {
      "cell_type": "markdown",
      "metadata": {
        "id": "NIvd8aPlFO-Y"
      },
      "source": [
        "##### 과제명"
      ]
    },
    {
      "cell_type": "code",
      "execution_count": null,
      "metadata": {
        "colab": {
          "base_uri": "https://localhost:8080/"
        },
        "id": "j0vSKE0mEe_f",
        "outputId": "5694d338-1882-4eef-db04-2318ce5921ea"
      },
      "outputs": [
        {
          "output_type": "execute_result",
          "data": {
            "text/plain": [
              "0                              유전정보를 활용한 새로운 해충 분류군 동정기술 개발\n",
              "1         대장암의 TRAIL 내성 표적 인자 발굴 및 TRAIL 반응 예측 유전자 지도 구축...\n",
              "2         비목질계 셀룰로오스 식물자원을 활용한 기능성 부직포 및 고부가가치 뷰티케어 faci...\n",
              "3                                   소화기 암 진단용 분자영상 형광프로브 개발\n",
              "4                               위암환자의 항암제반응예측을 위한 BRCA 발현검사\n",
              "                                ...                        \n",
              "174299                             혈관내막 증식을 치료하기 위한 표적분자 발굴\n",
              "174300    삼킴곤란 개선을 위한 물성조절 식품시스템에서의 유동층과립 복합소재의 유변물성 변화 ...\n",
              "174301                        식물 유전체 정보 고도화 및 핵심 유전자 군 진화연구\n",
              "174302                     콩 유전자원 내건성, 내습성 대량평가 체계구축 및 자원선발\n",
              "174303               광학적 위상 제어 기법을 적용한 디지털 홀로그래피 현미경 시스템 개발\n",
              "Name: 과제명, Length: 174304, dtype: object"
            ]
          },
          "metadata": {},
          "execution_count": 25
        }
      ],
      "source": [
        "train['과제명']"
      ]
    },
    {
      "cell_type": "code",
      "execution_count": null,
      "metadata": {
        "colab": {
          "base_uri": "https://localhost:8080/"
        },
        "id": "20njGgxgG8CX",
        "outputId": "4132cf90-90d8-41d8-a32e-cabd570db49c"
      },
      "outputs": [
        {
          "output_type": "execute_result",
          "data": {
            "text/plain": [
              "pandas.core.series.Series"
            ]
          },
          "metadata": {},
          "execution_count": 26
        }
      ],
      "source": [
        "type(train['과제명'])"
      ]
    },
    {
      "cell_type": "code",
      "execution_count": null,
      "metadata": {
        "colab": {
          "base_uri": "https://localhost:8080/"
        },
        "id": "KHNDOeQ4HuIY",
        "outputId": "f4daf897-e6d6-4076-94d6-756ca514b656"
      },
      "outputs": [
        {
          "output_type": "execute_result",
          "data": {
            "text/plain": [
              "0                              유전정보를 활용한 새로운 해충 분류군 동정기술 개발\n",
              "1         대장암의 TRAIL 내성 표적 인자 발굴 및 TRAIL 반응 예측 유전자 지도 구축...\n",
              "2         비목질계 셀룰로오스 식물자원을 활용한 기능성 부직포 및 고부가가치 뷰티케어 faci...\n",
              "3                                   소화기 암 진단용 분자영상 형광프로브 개발\n",
              "4                               위암환자의 항암제반응예측을 위한 BRCA 발현검사\n",
              "                                ...                        \n",
              "174299                             혈관내막 증식을 치료하기 위한 표적분자 발굴\n",
              "174300    삼킴곤란 개선을 위한 물성조절 식품시스템에서의 유동층과립 복합소재의 유변물성 변화 ...\n",
              "174301                        식물 유전체 정보 고도화 및 핵심 유전자 군 진화연구\n",
              "174302                     콩 유전자원 내건성, 내습성 대량평가 체계구축 및 자원선발\n",
              "174303               광학적 위상 제어 기법을 적용한 디지털 홀로그래피 현미경 시스템 개발\n",
              "Name: 과제명, Length: 174304, dtype: object"
            ]
          },
          "metadata": {},
          "execution_count": 27
        }
      ],
      "source": [
        "train['과제명'].astype(str)"
      ]
    },
    {
      "cell_type": "code",
      "execution_count": null,
      "metadata": {
        "colab": {
          "base_uri": "https://localhost:8080/"
        },
        "id": "f8QgUM9YL382",
        "outputId": "d9fd6a84-6d2a-403d-9bc3-9aa68cff8867"
      },
      "outputs": [
        {
          "output_type": "execute_result",
          "data": {
            "text/plain": [
              "174304"
            ]
          },
          "metadata": {},
          "execution_count": 28
        }
      ],
      "source": [
        "len(train['과제명'].astype(str))"
      ]
    },
    {
      "cell_type": "code",
      "execution_count": null,
      "metadata": {
        "colab": {
          "base_uri": "https://localhost:8080/"
        },
        "id": "PhutBfSWNI2d",
        "outputId": "595b120b-b044-4a1b-a725-822ba6933fa9"
      },
      "outputs": [
        {
          "output_type": "execute_result",
          "data": {
            "text/plain": [
              "0         28\n",
              "1         53\n",
              "2         71\n",
              "3         23\n",
              "4         27\n",
              "          ..\n",
              "174299    24\n",
              "174300    51\n",
              "174301    29\n",
              "174302    32\n",
              "174303    38\n",
              "Name: 과제명, Length: 174304, dtype: int64"
            ]
          },
          "metadata": {},
          "execution_count": 29
        }
      ],
      "source": [
        "train['과제명'].astype(str).apply(len)"
      ]
    },
    {
      "cell_type": "code",
      "execution_count": null,
      "metadata": {
        "colab": {
          "base_uri": "https://localhost:8080/",
          "height": 596
        },
        "id": "dh7F2w8PBof1",
        "outputId": "0167f4fa-f91d-4a02-a80b-b37175c576d9"
      },
      "outputs": [
        {
          "output_type": "stream",
          "name": "stdout",
          "text": [
            "과제명 length 최대값 :  229\n",
            "과제명 length 최소값 :  2\n"
          ]
        },
        {
          "output_type": "stream",
          "name": "stderr",
          "text": [
            "findfont: Font family ['NanumBarunGothic'] not found. Falling back to DejaVu Sans.\n"
          ]
        },
        {
          "output_type": "stream",
          "name": "stdout",
          "text": [
            "과제명 length 평균값 :  35.84252225995961\n",
            "과제명 length 중간값 :  34.0\n"
          ]
        },
        {
          "output_type": "stream",
          "name": "stderr",
          "text": [
            "/usr/local/lib/python3.7/dist-packages/matplotlib/backends/backend_agg.py:214: RuntimeWarning: Glyph 44284 missing from current font.\n",
            "  font.set_text(s, 0.0, flags=flags)\n",
            "/usr/local/lib/python3.7/dist-packages/matplotlib/backends/backend_agg.py:214: RuntimeWarning: Glyph 51228 missing from current font.\n",
            "  font.set_text(s, 0.0, flags=flags)\n",
            "/usr/local/lib/python3.7/dist-packages/matplotlib/backends/backend_agg.py:214: RuntimeWarning: Glyph 47749 missing from current font.\n",
            "  font.set_text(s, 0.0, flags=flags)\n",
            "/usr/local/lib/python3.7/dist-packages/matplotlib/backends/backend_agg.py:183: RuntimeWarning: Glyph 44284 missing from current font.\n",
            "  font.set_text(s, 0, flags=flags)\n",
            "/usr/local/lib/python3.7/dist-packages/matplotlib/backends/backend_agg.py:183: RuntimeWarning: Glyph 51228 missing from current font.\n",
            "  font.set_text(s, 0, flags=flags)\n",
            "/usr/local/lib/python3.7/dist-packages/matplotlib/backends/backend_agg.py:183: RuntimeWarning: Glyph 47749 missing from current font.\n",
            "  font.set_text(s, 0, flags=flags)\n"
          ]
        },
        {
          "output_type": "display_data",
          "data": {
            "image/png": "[encoded data removed]",
            "text/plain": [
              "<Figure size 432x288 with 1 Axes>"
            ]
          },
          "metadata": {
            "needs_background": "light"
          }
        }
      ],
      "source": [
        "plt.hist(train['과제명'].astype(str).apply(len),bins=50,color='red')\n",
        "plt.title(\"과제명 length\")\n",
        "print(\"과제명 length 최대값 : \",max(train['과제명'].astype(str).apply(len)))\n",
        "print(\"과제명 length 최소값 : \",min(train['과제명'].astype(str).apply(len)))\n",
        "print(\"과제명 length 평균값 : \",train['과제명'].astype(str).apply(len).mean())\n",
        "print(\"과제명 length 중간값 : \",train['과제명'].astype(str).apply(len).median())\n"
      ]
    },
    {
      "cell_type": "code",
      "execution_count": null,
      "metadata": {
        "colab": {
          "base_uri": "https://localhost:8080/",
          "height": 459
        },
        "id": "KG_sj9kSCd3m",
        "outputId": "5e83cff3-7811-40a2-804f-5ec0d27b37a6"
      },
      "outputs": [
        {
          "output_type": "execute_result",
          "data": {
            "text/plain": [
              "{'boxes': [<matplotlib.lines.Line2D at 0x7f78284953d0>],\n",
              " 'caps': [<matplotlib.lines.Line2D at 0x7f782849c450>,\n",
              "  <matplotlib.lines.Line2D at 0x7f782849c990>],\n",
              " 'fliers': [<matplotlib.lines.Line2D at 0x7f78284a2490>],\n",
              " 'means': [],\n",
              " 'medians': [<matplotlib.lines.Line2D at 0x7f782849cf10>],\n",
              " 'whiskers': [<matplotlib.lines.Line2D at 0x7f7828495990>,\n",
              "  <matplotlib.lines.Line2D at 0x7f7828495ed0>]}"
            ]
          },
          "metadata": {},
          "execution_count": 31
        },
        {
          "output_type": "display_data",
          "data": {
            "image/png": "[encoded data removed]",
            "text/plain": [
              "<Figure size 864x360 with 1 Axes>"
            ]
          },
          "metadata": {
            "needs_background": "light"
          }
        }
      ],
      "source": [
        "plt.figure(figsize=(12,5))\n",
        "plt.boxplot(train['과제명'].astype(str).apply(len))"
      ]
    },
    {
      "cell_type": "code",
      "execution_count": null,
      "metadata": {
        "id": "GwlzqbaTIB09"
      },
      "outputs": [],
      "source": []
    },
    {
      "cell_type": "markdown",
      "metadata": {
        "id": "BRmumwsGFiaZ"
      },
      "source": []
    },
    {
      "cell_type": "markdown",
      "metadata": {
        "id": "U0z8QYhbFilz"
      },
      "source": []
    },
    {
      "cell_type": "code",
      "execution_count": null,
      "metadata": {
        "colab": {
          "base_uri": "https://localhost:8080/",
          "height": 363
        },
        "id": "lCG75bGVfKR1",
        "outputId": "f1fcb68e-f9d0-499d-f772-2b875c883ff0"
      },
      "outputs": [
        {
          "output_type": "execute_result",
          "data": {
            "text/html": [
              "\n",
              "  <div id=\"df-2730a190-fdc6-4fea-b6ce-c3d63f9ce9d8\">\n",
              "    <div class=\"colab-df-container\">\n",
              "      <div>\n",
              "<style scoped>\n",
              "    .dataframe tbody tr th:only-of-type {\n",
              "        vertical-align: middle;\n",
              "    }\n",
              "\n",
              "    .dataframe tbody tr th {\n",
              "        vertical-align: top;\n",
              "    }\n",
              "\n",
              "    .dataframe thead th {\n",
              "        text-align: right;\n",
              "    }\n",
              "</style>\n",
              "<table border=\"1\" class=\"dataframe\">\n",
              "  <thead>\n",
              "    <tr style=\"text-align: right;\">\n",
              "      <th></th>\n",
              "      <th>과제명</th>\n",
              "      <th>label</th>\n",
              "    </tr>\n",
              "  </thead>\n",
              "  <tbody>\n",
              "    <tr>\n",
              "      <th>0</th>\n",
              "      <td>유전정보를 활용한 새로운 해충 분류군 동정기술 개발</td>\n",
              "      <td>24</td>\n",
              "    </tr>\n",
              "    <tr>\n",
              "      <th>1</th>\n",
              "      <td>대장암의 TRAIL 내성 표적 인자 발굴 및 TRAIL 반응 예측 유전자 지도 구축...</td>\n",
              "      <td>0</td>\n",
              "    </tr>\n",
              "    <tr>\n",
              "      <th>2</th>\n",
              "      <td>비목질계 셀룰로오스 식물자원을 활용한 기능성 부직포 및 고부가가치 뷰티케어 faci...</td>\n",
              "      <td>0</td>\n",
              "    </tr>\n",
              "    <tr>\n",
              "      <th>3</th>\n",
              "      <td>소화기 암 진단용 분자영상 형광프로브 개발</td>\n",
              "      <td>0</td>\n",
              "    </tr>\n",
              "    <tr>\n",
              "      <th>4</th>\n",
              "      <td>위암환자의 항암제반응예측을 위한 BRCA 발현검사</td>\n",
              "      <td>0</td>\n",
              "    </tr>\n",
              "    <tr>\n",
              "      <th>5</th>\n",
              "      <td>국제 핵융합 재료조사시설(IFMIF)의 안정적 운전을 위한 고강도 빔 물리 연구</td>\n",
              "      <td>2</td>\n",
              "    </tr>\n",
              "    <tr>\n",
              "      <th>6</th>\n",
              "      <td>마이크로시스를 적용한 옥내·외 겸용 광케이블 개발</td>\n",
              "      <td>0</td>\n",
              "    </tr>\n",
              "    <tr>\n",
              "      <th>7</th>\n",
              "      <td>임상·오믹스 정보 통합 개방형 플랫폼 구축 및 다기관 검증</td>\n",
              "      <td>0</td>\n",
              "    </tr>\n",
              "    <tr>\n",
              "      <th>8</th>\n",
              "      <td>IoT기반 수출배 선과장 물류체계화 기술개발</td>\n",
              "      <td>0</td>\n",
              "    </tr>\n",
              "    <tr>\n",
              "      <th>9</th>\n",
              "      <td>지역 창조경제 생태계 활성화를 위한 바이오산업 인재 양성</td>\n",
              "      <td>0</td>\n",
              "    </tr>\n",
              "  </tbody>\n",
              "</table>\n",
              "</div>\n",
              "      <button class=\"colab-df-convert\" onclick=\"convertToInteractive('df-2730a190-fdc6-4fea-b6ce-c3d63f9ce9d8')\"\n",
              "              title=\"Convert this dataframe to an interactive table.\"\n",
              "              style=\"display:none;\">\n",
              "        \n",
              "  <svg xmlns=\"http://www.w3.org/2000/svg\" height=\"24px\"viewBox=\"0 0 24 24\"\n",
              "       width=\"24px\">\n",
              "    <path d=\"M0 0h24v24H0V0z\" fill=\"none\"/>\n",
              "    <path d=\"M18.56 5.44l.94 2.06.94-2.06 2.06-.94-2.06-.94-.94-2.06-.94 2.06-2.06.94zm-11 1L8.5 8.5l.94-2.06 2.06-.94-2.06-.94L8.5 2.5l-.94 2.06-2.06.94zm10 10l.94 2.06.94-2.06 2.06-.94-2.06-.94-.94-2.06-.94 2.06-2.06.94z\"/><path d=\"M17.41 7.96l-1.37-1.37c-.4-.4-.92-.59-1.43-.59-.52 0-1.04.2-1.43.59L10.3 9.45l-7.72 7.72c-.78.78-.78 2.05 0 2.83L4 21.41c.39.39.9.59 1.41.59.51 0 1.02-.2 1.41-.59l7.78-7.78 2.81-2.81c.8-.78.8-2.07 0-2.86zM5.41 20L4 18.59l7.72-7.72 1.47 1.35L5.41 20z\"/>\n",
              "  </svg>\n",
              "      </button>\n",
              "      \n",
              "  <style>\n",
              "    .colab-df-container {\n",
              "      display:flex;\n",
              "      flex-wrap:wrap;\n",
              "      gap: 12px;\n",
              "    }\n",
              "\n",
              "    .colab-df-convert {\n",
              "      background-color: #E8F0FE;\n",
              "      border: none;\n",
              "      border-radius: 50%;\n",
              "      cursor: pointer;\n",
              "      display: none;\n",
              "      fill: #1967D2;\n",
              "      height: 32px;\n",
              "      padding: 0 0 0 0;\n",
              "      width: 32px;\n",
              "    }\n",
              "\n",
              "    .colab-df-convert:hover {\n",
              "      background-color: #E2EBFA;\n",
              "      box-shadow: 0px 1px 2px rgba(60, 64, 67, 0.3), 0px 1px 3px 1px rgba(60, 64, 67, 0.15);\n",
              "      fill: #174EA6;\n",
              "    }\n",
              "\n",
              "    [theme=dark] .colab-df-convert {\n",
              "      background-color: #3B4455;\n",
              "      fill: #D2E3FC;\n",
              "    }\n",
              "\n",
              "    [theme=dark] .colab-df-convert:hover {\n",
              "      background-color: #434B5C;\n",
              "      box-shadow: 0px 1px 3px 1px rgba(0, 0, 0, 0.15);\n",
              "      filter: drop-shadow(0px 1px 2px rgba(0, 0, 0, 0.3));\n",
              "      fill: #FFFFFF;\n",
              "    }\n",
              "  </style>\n",
              "\n",
              "      <script>\n",
              "        const buttonEl =\n",
              "          document.querySelector('#df-2730a190-fdc6-4fea-b6ce-c3d63f9ce9d8 button.colab-df-convert');\n",
              "        buttonEl.style.display =\n",
              "          google.colab.kernel.accessAllowed ? 'block' : 'none';\n",
              "\n",
              "        async function convertToInteractive(key) {\n",
              "          const element = document.querySelector('#df-2730a190-fdc6-4fea-b6ce-c3d63f9ce9d8');\n",
              "          const dataTable =\n",
              "            await google.colab.kernel.invokeFunction('convertToInteractive',\n",
              "                                                     [key], {});\n",
              "          if (!dataTable) return;\n",
              "\n",
              "          const docLinkHtml = 'Like what you see? Visit the ' +\n",
              "            '<a target=\"_blank\" href=https://colab.research.google.com/notebooks/data_table.ipynb>data table notebook</a>'\n",
              "            + ' to learn more about interactive tables.';\n",
              "          element.innerHTML = '';\n",
              "          dataTable['output_type'] = 'display_data';\n",
              "          await google.colab.output.renderOutput(dataTable, element);\n",
              "          const docLink = document.createElement('div');\n",
              "          docLink.innerHTML = docLinkHtml;\n",
              "          element.appendChild(docLink);\n",
              "        }\n",
              "      </script>\n",
              "    </div>\n",
              "  </div>\n",
              "  "
            ],
            "text/plain": [
              "                                                 과제명  label\n",
              "0                       유전정보를 활용한 새로운 해충 분류군 동정기술 개발     24\n",
              "1  대장암의 TRAIL 내성 표적 인자 발굴 및 TRAIL 반응 예측 유전자 지도 구축...      0\n",
              "2  비목질계 셀룰로오스 식물자원을 활용한 기능성 부직포 및 고부가가치 뷰티케어 faci...      0\n",
              "3                            소화기 암 진단용 분자영상 형광프로브 개발      0\n",
              "4                        위암환자의 항암제반응예측을 위한 BRCA 발현검사      0\n",
              "5       국제 핵융합 재료조사시설(IFMIF)의 안정적 운전을 위한 고강도 빔 물리 연구      2\n",
              "6                        마이크로시스를 적용한 옥내·외 겸용 광케이블 개발      0\n",
              "7                   임상·오믹스 정보 통합 개방형 플랫폼 구축 및 다기관 검증      0\n",
              "8                           IoT기반 수출배 선과장 물류체계화 기술개발      0\n",
              "9                    지역 창조경제 생태계 활성화를 위한 바이오산업 인재 양성      0"
            ]
          },
          "metadata": {},
          "execution_count": 32
        }
      ],
      "source": [
        "train01 = train[['과제명','label']]\n",
        "train01.head(10)"
      ]
    },
    {
      "cell_type": "code",
      "execution_count": null,
      "metadata": {
        "colab": {
          "base_uri": "https://localhost:8080/"
        },
        "id": "sC5nheUHfK8q",
        "outputId": "e7be16d7-bc3c-4096-c069-c13e07f3b675"
      },
      "outputs": [
        {
          "output_type": "execute_result",
          "data": {
            "text/plain": [
              "0    R-FSSW 기술 적용 경량 차체 부품 개발 및 품질 평가를 위한 64채널 C-SC...\n",
              "1                             다입자계를 묘사하는 편미분방정식에 대한 연구\n",
              "2                저출생체중아 가족을 위한 지역사회중심의 퇴원후 추후관리프로그램 개발\n",
              "3                           폴리싱용 5축 CNC 정밀 마이크로 시스템 개발\n",
              "4             다결정재료의 미세조직구조를 고려한 확률론적 응력부식균열 생성예측모델 개발\n",
              "5                          DC 그리드용 차세대 DC 전력차단기에 관한 연구\n",
              "6                   현존선을 LNG연료추진선으로 Retrofit하기 위한 기술개발\n",
              "7    전이 암세포의 점탄성 관련 keratin 재구축 조절 타겟들의 암 미세환경에서의 역...\n",
              "8                                         국민안전 분석기술 개발\n",
              "9             선택적 방사선 감응 기반 차세대 고성능 양이온 이차전지용 세퍼레이터 개발\n",
              "Name: 과제명, dtype: object"
            ]
          },
          "metadata": {},
          "execution_count": 33
        }
      ],
      "source": [
        "test01=test['과제명']\n",
        "test01.head(10)"
      ]
    },
    {
      "cell_type": "code",
      "execution_count": null,
      "metadata": {
        "id": "HewTuT-WUHRh"
      },
      "outputs": [],
      "source": []
    },
    {
      "cell_type": "code",
      "execution_count": null,
      "metadata": {
        "id": "S7-AKxzTMAdw"
      },
      "outputs": [],
      "source": []
    },
    {
      "cell_type": "markdown",
      "metadata": {
        "id": "FbFpS0d2MBB5"
      },
      "source": [
        "### column 과제명 & 요약문_연구내용\n",
        "\n",
        "과제명과 연구내용요약문을 합쳐서 새로운 열 'data'를 만든다"
      ]
    },
    {
      "cell_type": "code",
      "execution_count": null,
      "metadata": {
        "colab": {
          "base_uri": "https://localhost:8080/"
        },
        "id": "efAl8N9PySK1",
        "outputId": "f44d0874-96bb-49eb-d88d-ef3bf9f3ad21"
      },
      "outputs": [
        {
          "output_type": "execute_result",
          "data": {
            "text/plain": [
              "index           0\n",
              "제출년도            0\n",
              "사업명             0\n",
              "사업_부처명          0\n",
              "계속과제여부          0\n",
              "내역사업명           0\n",
              "과제명             0\n",
              "요약문_연구목표     3002\n",
              "요약문_연구내용     3001\n",
              "요약문_기대효과     3051\n",
              "요약문_한글키워드    3028\n",
              "요약문_영문키워드    3087\n",
              "label           0\n",
              "dtype: int64"
            ]
          },
          "metadata": {},
          "execution_count": 34
        }
      ],
      "source": [
        "train.isna().sum()\n",
        "# train 요약문_연구내용에 na가 3001개"
      ]
    },
    {
      "cell_type": "code",
      "execution_count": null,
      "metadata": {
        "colab": {
          "base_uri": "https://localhost:8080/"
        },
        "id": "km3jXzvyMLt8",
        "outputId": "05f1ff56-fb5b-46c7-ad02-2fa6a941a77c"
      },
      "outputs": [
        {
          "output_type": "execute_result",
          "data": {
            "text/plain": [
              "index          0\n",
              "제출년도           0\n",
              "사업명            0\n",
              "사업_부처명         0\n",
              "계속과제여부         0\n",
              "내역사업명          0\n",
              "과제명            0\n",
              "요약문_연구목표     755\n",
              "요약문_연구내용     755\n",
              "요약문_기대효과     761\n",
              "요약문_한글키워드    760\n",
              "요약문_영문키워드    772\n",
              "dtype: int64"
            ]
          },
          "metadata": {},
          "execution_count": 35
        }
      ],
      "source": [
        "test.isna().sum()\n",
        "#test 요약문 na 755개"
      ]
    },
    {
      "cell_type": "code",
      "execution_count": null,
      "metadata": {
        "colab": {
          "base_uri": "https://localhost:8080/"
        },
        "id": "AAIRbr0TMLxJ",
        "outputId": "5cee5496-ef24-4d98-8002-9ee2fab6c813"
      },
      "outputs": [
        {
          "output_type": "stream",
          "name": "stderr",
          "text": [
            "/usr/local/lib/python3.7/dist-packages/pandas/core/series.py:4536: SettingWithCopyWarning: \n",
            "A value is trying to be set on a copy of a slice from a DataFrame\n",
            "\n",
            "See the caveats in the documentation: https://pandas.pydata.org/pandas-docs/stable/user_guide/indexing.html#returning-a-view-versus-a-copy\n",
            "  downcast=downcast,\n",
            "/usr/local/lib/python3.7/dist-packages/ipykernel_launcher.py:10: SettingWithCopyWarning: \n",
            "A value is trying to be set on a copy of a slice from a DataFrame.\n",
            "Try using .loc[row_indexer,col_indexer] = value instead\n",
            "\n",
            "See the caveats in the documentation: https://pandas.pydata.org/pandas-docs/stable/user_guide/indexing.html#returning-a-view-versus-a-copy\n",
            "  # Remove the CWD from sys.path while we load stuff.\n",
            "/usr/local/lib/python3.7/dist-packages/ipykernel_launcher.py:11: SettingWithCopyWarning: \n",
            "A value is trying to be set on a copy of a slice from a DataFrame.\n",
            "Try using .loc[row_indexer,col_indexer] = value instead\n",
            "\n",
            "See the caveats in the documentation: https://pandas.pydata.org/pandas-docs/stable/user_guide/indexing.html#returning-a-view-versus-a-copy\n",
            "  # This is added back by InteractiveShellApp.init_path()\n"
          ]
        }
      ],
      "source": [
        "#과제명 & 요약문_연구내용\n",
        "train1 = train[['과제명','요약문_연구내용','label']]\n",
        "test1 = test[['과제명','요약문_연구내용']]\n",
        "\n",
        "#요약문_연구내용 na 자리에 'NAN' 채우기\n",
        "train1['요약문_연구내용'].fillna('NAN',inplace=True)\n",
        "test1['요약문_연구내용'].fillna('NAN',inplace=True)\n",
        "\n",
        "#'data' 열 만들기 = 과제명과 요약문 연구내용을 합침\n",
        "train1['data']=train1['과제명']+train1['요약문_연구내용']\n",
        "test1['data']=test1['과제명']+test1['요약문_연구내용']"
      ]
    },
    {
      "cell_type": "code",
      "execution_count": null,
      "metadata": {
        "colab": {
          "base_uri": "https://localhost:8080/"
        },
        "id": "-dPwH-W8MLyz",
        "outputId": "b4d0968a-5a83-4b0b-8330-89476477f00e"
      },
      "outputs": [
        {
          "output_type": "stream",
          "name": "stdout",
          "text": [
            "(174304, 4)\n",
            "(43576, 3)\n"
          ]
        }
      ],
      "source": [
        "print(train1.shape)\n",
        "print(test1.shape)"
      ]
    },
    {
      "cell_type": "code",
      "execution_count": null,
      "metadata": {
        "colab": {
          "base_uri": "https://localhost:8080/",
          "height": 337
        },
        "id": "o0Q57hFM00XR",
        "outputId": "1521393b-7e0b-45c0-e2fe-18442864d2c7"
      },
      "outputs": [
        {
          "output_type": "execute_result",
          "data": {
            "text/html": [
              "\n",
              "  <div id=\"df-00a6679d-8e17-4576-8ec9-c34dc46395bf\">\n",
              "    <div class=\"colab-df-container\">\n",
              "      <div>\n",
              "<style scoped>\n",
              "    .dataframe tbody tr th:only-of-type {\n",
              "        vertical-align: middle;\n",
              "    }\n",
              "\n",
              "    .dataframe tbody tr th {\n",
              "        vertical-align: top;\n",
              "    }\n",
              "\n",
              "    .dataframe thead th {\n",
              "        text-align: right;\n",
              "    }\n",
              "</style>\n",
              "<table border=\"1\" class=\"dataframe\">\n",
              "  <thead>\n",
              "    <tr style=\"text-align: right;\">\n",
              "      <th></th>\n",
              "      <th>과제명</th>\n",
              "      <th>요약문_연구내용</th>\n",
              "      <th>label</th>\n",
              "      <th>data</th>\n",
              "    </tr>\n",
              "  </thead>\n",
              "  <tbody>\n",
              "    <tr>\n",
              "      <th>0</th>\n",
              "      <td>유전정보를 활용한 새로운 해충 분류군 동정기술 개발</td>\n",
              "      <td>(가) 외래 및 돌발해충의 발생조사 및 종 동정\\n\\n\\n    ○ 대상해충 : 최...</td>\n",
              "      <td>24</td>\n",
              "      <td>유전정보를 활용한 새로운 해충 분류군 동정기술 개발(가) 외래 및 돌발해충의 발생조...</td>\n",
              "    </tr>\n",
              "    <tr>\n",
              "      <th>1</th>\n",
              "      <td>대장암의 TRAIL 내성 표적 인자 발굴 및 TRAIL 반응 예측 유전자 지도 구축...</td>\n",
              "      <td>1차년도\\n1) Microarray를 통한 선천적 TRAIL 내성 표적 후보 유전자...</td>\n",
              "      <td>0</td>\n",
              "      <td>대장암의 TRAIL 내성 표적 인자 발굴 및 TRAIL 반응 예측 유전자 지도 구축...</td>\n",
              "    </tr>\n",
              "    <tr>\n",
              "      <th>2</th>\n",
              "      <td>비목질계 셀룰로오스 식물자원을 활용한 기능성 부직포 및 고부가가치 뷰티케어 faci...</td>\n",
              "      <td>* 식물계자원 정련 및 최적 신서란 파이버 기초연구 개발\\n\\n\\n- Tencel/...</td>\n",
              "      <td>0</td>\n",
              "      <td>비목질계 셀룰로오스 식물자원을 활용한 기능성 부직포 및 고부가가치 뷰티케어 faci...</td>\n",
              "    </tr>\n",
              "    <tr>\n",
              "      <th>3</th>\n",
              "      <td>소화기 암 진단용 분자영상 형광프로브 개발</td>\n",
              "      <td># 소화기 암 진단용 분자영상 형광프로브 개발\\n\\n\\n- 국소 도포형 소화기 암 ...</td>\n",
              "      <td>0</td>\n",
              "      <td>소화기 암 진단용 분자영상 형광프로브 개발# 소화기 암 진단용 분자영상 형광프로브 ...</td>\n",
              "    </tr>\n",
              "    <tr>\n",
              "      <th>4</th>\n",
              "      <td>위암환자의 항암제반응예측을 위한 BRCA 발현검사</td>\n",
              "      <td>-In situ hybridization 검사의 정확성을 확인하기 위해 위암세포주 ...</td>\n",
              "      <td>0</td>\n",
              "      <td>위암환자의 항암제반응예측을 위한 BRCA 발현검사-In situ hybridizat...</td>\n",
              "    </tr>\n",
              "  </tbody>\n",
              "</table>\n",
              "</div>\n",
              "      <button class=\"colab-df-convert\" onclick=\"convertToInteractive('df-00a6679d-8e17-4576-8ec9-c34dc46395bf')\"\n",
              "              title=\"Convert this dataframe to an interactive table.\"\n",
              "              style=\"display:none;\">\n",
              "        \n",
              "  <svg xmlns=\"http://www.w3.org/2000/svg\" height=\"24px\"viewBox=\"0 0 24 24\"\n",
              "       width=\"24px\">\n",
              "    <path d=\"M0 0h24v24H0V0z\" fill=\"none\"/>\n",
              "    <path d=\"M18.56 5.44l.94 2.06.94-2.06 2.06-.94-2.06-.94-.94-2.06-.94 2.06-2.06.94zm-11 1L8.5 8.5l.94-2.06 2.06-.94-2.06-.94L8.5 2.5l-.94 2.06-2.06.94zm10 10l.94 2.06.94-2.06 2.06-.94-2.06-.94-.94-2.06-.94 2.06-2.06.94z\"/><path d=\"M17.41 7.96l-1.37-1.37c-.4-.4-.92-.59-1.43-.59-.52 0-1.04.2-1.43.59L10.3 9.45l-7.72 7.72c-.78.78-.78 2.05 0 2.83L4 21.41c.39.39.9.59 1.41.59.51 0 1.02-.2 1.41-.59l7.78-7.78 2.81-2.81c.8-.78.8-2.07 0-2.86zM5.41 20L4 18.59l7.72-7.72 1.47 1.35L5.41 20z\"/>\n",
              "  </svg>\n",
              "      </button>\n",
              "      \n",
              "  <style>\n",
              "    .colab-df-container {\n",
              "      display:flex;\n",
              "      flex-wrap:wrap;\n",
              "      gap: 12px;\n",
              "    }\n",
              "\n",
              "    .colab-df-convert {\n",
              "      background-color: #E8F0FE;\n",
              "      border: none;\n",
              "      border-radius: 50%;\n",
              "      cursor: pointer;\n",
              "      display: none;\n",
              "      fill: #1967D2;\n",
              "      height: 32px;\n",
              "      padding: 0 0 0 0;\n",
              "      width: 32px;\n",
              "    }\n",
              "\n",
              "    .colab-df-convert:hover {\n",
              "      background-color: #E2EBFA;\n",
              "      box-shadow: 0px 1px 2px rgba(60, 64, 67, 0.3), 0px 1px 3px 1px rgba(60, 64, 67, 0.15);\n",
              "      fill: #174EA6;\n",
              "    }\n",
              "\n",
              "    [theme=dark] .colab-df-convert {\n",
              "      background-color: #3B4455;\n",
              "      fill: #D2E3FC;\n",
              "    }\n",
              "\n",
              "    [theme=dark] .colab-df-convert:hover {\n",
              "      background-color: #434B5C;\n",
              "      box-shadow: 0px 1px 3px 1px rgba(0, 0, 0, 0.15);\n",
              "      filter: drop-shadow(0px 1px 2px rgba(0, 0, 0, 0.3));\n",
              "      fill: #FFFFFF;\n",
              "    }\n",
              "  </style>\n",
              "\n",
              "      <script>\n",
              "        const buttonEl =\n",
              "          document.querySelector('#df-00a6679d-8e17-4576-8ec9-c34dc46395bf button.colab-df-convert');\n",
              "        buttonEl.style.display =\n",
              "          google.colab.kernel.accessAllowed ? 'block' : 'none';\n",
              "\n",
              "        async function convertToInteractive(key) {\n",
              "          const element = document.querySelector('#df-00a6679d-8e17-4576-8ec9-c34dc46395bf');\n",
              "          const dataTable =\n",
              "            await google.colab.kernel.invokeFunction('convertToInteractive',\n",
              "                                                     [key], {});\n",
              "          if (!dataTable) return;\n",
              "\n",
              "          const docLinkHtml = 'Like what you see? Visit the ' +\n",
              "            '<a target=\"_blank\" href=https://colab.research.google.com/notebooks/data_table.ipynb>data table notebook</a>'\n",
              "            + ' to learn more about interactive tables.';\n",
              "          element.innerHTML = '';\n",
              "          dataTable['output_type'] = 'display_data';\n",
              "          await google.colab.output.renderOutput(dataTable, element);\n",
              "          const docLink = document.createElement('div');\n",
              "          docLink.innerHTML = docLinkHtml;\n",
              "          element.appendChild(docLink);\n",
              "        }\n",
              "      </script>\n",
              "    </div>\n",
              "  </div>\n",
              "  "
            ],
            "text/plain": [
              "                                                 과제명  ...                                               data\n",
              "0                       유전정보를 활용한 새로운 해충 분류군 동정기술 개발  ...  유전정보를 활용한 새로운 해충 분류군 동정기술 개발(가) 외래 및 돌발해충의 발생조...\n",
              "1  대장암의 TRAIL 내성 표적 인자 발굴 및 TRAIL 반응 예측 유전자 지도 구축...  ...  대장암의 TRAIL 내성 표적 인자 발굴 및 TRAIL 반응 예측 유전자 지도 구축...\n",
              "2  비목질계 셀룰로오스 식물자원을 활용한 기능성 부직포 및 고부가가치 뷰티케어 faci...  ...  비목질계 셀룰로오스 식물자원을 활용한 기능성 부직포 및 고부가가치 뷰티케어 faci...\n",
              "3                            소화기 암 진단용 분자영상 형광프로브 개발  ...  소화기 암 진단용 분자영상 형광프로브 개발# 소화기 암 진단용 분자영상 형광프로브 ...\n",
              "4                        위암환자의 항암제반응예측을 위한 BRCA 발현검사  ...  위암환자의 항암제반응예측을 위한 BRCA 발현검사-In situ hybridizat...\n",
              "\n",
              "[5 rows x 4 columns]"
            ]
          },
          "metadata": {},
          "execution_count": 38
        }
      ],
      "source": [
        "train1.head()"
      ]
    },
    {
      "cell_type": "code",
      "execution_count": null,
      "metadata": {
        "colab": {
          "base_uri": "https://localhost:8080/",
          "height": 543
        },
        "id": "pcwPs1PFwURN",
        "outputId": "786b46a8-9b5b-4aaf-a695-3e2b6f7f39ac"
      },
      "outputs": [
        {
          "output_type": "execute_result",
          "data": {
            "text/plain": [
              "(array([4.2110e+03, 1.3441e+04, 1.7477e+04, 1.6763e+04, 1.6569e+04,\n",
              "        1.6473e+04, 1.4956e+04, 1.3086e+04, 1.1130e+04, 9.3010e+03,\n",
              "        7.7460e+03, 5.6640e+03, 5.0630e+03, 6.9280e+03, 3.1860e+03,\n",
              "        2.5880e+03, 2.3880e+03, 2.2450e+03, 1.5490e+03, 9.0900e+02,\n",
              "        8.8400e+02, 4.1500e+02, 3.2100e+02, 3.2300e+02, 2.7200e+02,\n",
              "        1.9600e+02, 9.3000e+01, 4.7000e+01, 2.8000e+01, 2.7000e+01,\n",
              "        4.0000e+00, 5.0000e+00, 1.0000e+00, 0.0000e+00, 4.0000e+00,\n",
              "        1.0000e+00, 0.0000e+00, 2.0000e+00, 4.0000e+00, 4.0000e+00]),\n",
              " array([   6.   ,  108.375,  210.75 ,  313.125,  415.5  ,  517.875,\n",
              "         620.25 ,  722.625,  825.   ,  927.375, 1029.75 , 1132.125,\n",
              "        1234.5  , 1336.875, 1439.25 , 1541.625, 1644.   , 1746.375,\n",
              "        1848.75 , 1951.125, 2053.5  , 2155.875, 2258.25 , 2360.625,\n",
              "        2463.   , 2565.375, 2667.75 , 2770.125, 2872.5  , 2974.875,\n",
              "        3077.25 , 3179.625, 3282.   , 3384.375, 3486.75 , 3589.125,\n",
              "        3691.5  , 3793.875, 3896.25 , 3998.625, 4101.   ]),\n",
              " <a list of 40 Patch objects>)"
            ]
          },
          "metadata": {},
          "execution_count": 39
        },
        {
          "output_type": "display_data",
          "data": {
            "image/png": "[encoded data removed]",
            "text/plain": [
              "<Figure size 432x288 with 1 Axes>"
            ]
          },
          "metadata": {
            "needs_background": "light"
          }
        }
      ],
      "source": [
        "plt.hist(train1['data'].astype(str).apply(len),bins=40)"
      ]
    },
    {
      "cell_type": "code",
      "execution_count": null,
      "metadata": {
        "colab": {
          "base_uri": "https://localhost:8080/",
          "height": 337
        },
        "id": "DdPSqRNl0-Q3",
        "outputId": "3bf6f1ac-ef7c-46ca-e8de-de04bafc44a2"
      },
      "outputs": [
        {
          "output_type": "execute_result",
          "data": {
            "text/html": [
              "\n",
              "  <div id=\"df-6a67b294-3d20-4505-a26e-bfb2c0c72022\">\n",
              "    <div class=\"colab-df-container\">\n",
              "      <div>\n",
              "<style scoped>\n",
              "    .dataframe tbody tr th:only-of-type {\n",
              "        vertical-align: middle;\n",
              "    }\n",
              "\n",
              "    .dataframe tbody tr th {\n",
              "        vertical-align: top;\n",
              "    }\n",
              "\n",
              "    .dataframe thead th {\n",
              "        text-align: right;\n",
              "    }\n",
              "</style>\n",
              "<table border=\"1\" class=\"dataframe\">\n",
              "  <thead>\n",
              "    <tr style=\"text-align: right;\">\n",
              "      <th></th>\n",
              "      <th>과제명</th>\n",
              "      <th>요약문_연구내용</th>\n",
              "      <th>data</th>\n",
              "    </tr>\n",
              "  </thead>\n",
              "  <tbody>\n",
              "    <tr>\n",
              "      <th>0</th>\n",
              "      <td>R-FSSW 기술 적용 경량 차체 부품 개발 및 품질 평가를 위한 64채널 C-SC...</td>\n",
              "      <td>○ 1차년도\\n\\n    . 개발 탐촉 시스템의 성능 평가 위한 표준 시편 제작 시...</td>\n",
              "      <td>R-FSSW 기술 적용 경량 차체 부품 개발 및 품질 평가를 위한 64채널 C-SC...</td>\n",
              "    </tr>\n",
              "    <tr>\n",
              "      <th>1</th>\n",
              "      <td>다입자계를 묘사하는 편미분방정식에 대한 연구</td>\n",
              "      <td>연구과제1. 무한입자계의 동역학 / 작용소(operator) 방정식에 대한 연구\\n...</td>\n",
              "      <td>다입자계를 묘사하는 편미분방정식에 대한 연구연구과제1. 무한입자계의 동역학 / 작용...</td>\n",
              "    </tr>\n",
              "    <tr>\n",
              "      <th>2</th>\n",
              "      <td>저출생체중아 가족을 위한 지역사회중심의 퇴원후 추후관리프로그램 개발</td>\n",
              "      <td>본 연구는 퇴원 후 저출생체중아의 퇴원 후 추후관리 프로그램 중 가정방문 모델과 가...</td>\n",
              "      <td>저출생체중아 가족을 위한 지역사회중심의 퇴원후 추후관리프로그램 개발본 연구는 퇴원 ...</td>\n",
              "    </tr>\n",
              "    <tr>\n",
              "      <th>3</th>\n",
              "      <td>폴리싱용 5축 CNC 정밀 마이크로 시스템 개발</td>\n",
              "      <td>(1) 0.5~1㎛의 가공정밀도(면조도) 구현\\n\\n\\n - 국내에서는 연삭기를 제...</td>\n",
              "      <td>폴리싱용 5축 CNC 정밀 마이크로 시스템 개발(1) 0.5~1㎛의 가공정밀도(면조...</td>\n",
              "    </tr>\n",
              "    <tr>\n",
              "      <th>4</th>\n",
              "      <td>다결정재료의 미세조직구조를 고려한 확률론적 응력부식균열 생성예측모델 개발</td>\n",
              "      <td>총 연구기간은 3년으로, 연차별 연구내용 및 범위는 다음과 같다.\\n\\n  ∙ 1차...</td>\n",
              "      <td>다결정재료의 미세조직구조를 고려한 확률론적 응력부식균열 생성예측모델 개발총 연구기간...</td>\n",
              "    </tr>\n",
              "  </tbody>\n",
              "</table>\n",
              "</div>\n",
              "      <button class=\"colab-df-convert\" onclick=\"convertToInteractive('df-6a67b294-3d20-4505-a26e-bfb2c0c72022')\"\n",
              "              title=\"Convert this dataframe to an interactive table.\"\n",
              "              style=\"display:none;\">\n",
              "        \n",
              "  <svg xmlns=\"http://www.w3.org/2000/svg\" height=\"24px\"viewBox=\"0 0 24 24\"\n",
              "       width=\"24px\">\n",
              "    <path d=\"M0 0h24v24H0V0z\" fill=\"none\"/>\n",
              "    <path d=\"M18.56 5.44l.94 2.06.94-2.06 2.06-.94-2.06-.94-.94-2.06-.94 2.06-2.06.94zm-11 1L8.5 8.5l.94-2.06 2.06-.94-2.06-.94L8.5 2.5l-.94 2.06-2.06.94zm10 10l.94 2.06.94-2.06 2.06-.94-2.06-.94-.94-2.06-.94 2.06-2.06.94z\"/><path d=\"M17.41 7.96l-1.37-1.37c-.4-.4-.92-.59-1.43-.59-.52 0-1.04.2-1.43.59L10.3 9.45l-7.72 7.72c-.78.78-.78 2.05 0 2.83L4 21.41c.39.39.9.59 1.41.59.51 0 1.02-.2 1.41-.59l7.78-7.78 2.81-2.81c.8-.78.8-2.07 0-2.86zM5.41 20L4 18.59l7.72-7.72 1.47 1.35L5.41 20z\"/>\n",
              "  </svg>\n",
              "      </button>\n",
              "      \n",
              "  <style>\n",
              "    .colab-df-container {\n",
              "      display:flex;\n",
              "      flex-wrap:wrap;\n",
              "      gap: 12px;\n",
              "    }\n",
              "\n",
              "    .colab-df-convert {\n",
              "      background-color: #E8F0FE;\n",
              "      border: none;\n",
              "      border-radius: 50%;\n",
              "      cursor: pointer;\n",
              "      display: none;\n",
              "      fill: #1967D2;\n",
              "      height: 32px;\n",
              "      padding: 0 0 0 0;\n",
              "      width: 32px;\n",
              "    }\n",
              "\n",
              "    .colab-df-convert:hover {\n",
              "      background-color: #E2EBFA;\n",
              "      box-shadow: 0px 1px 2px rgba(60, 64, 67, 0.3), 0px 1px 3px 1px rgba(60, 64, 67, 0.15);\n",
              "      fill: #174EA6;\n",
              "    }\n",
              "\n",
              "    [theme=dark] .colab-df-convert {\n",
              "      background-color: #3B4455;\n",
              "      fill: #D2E3FC;\n",
              "    }\n",
              "\n",
              "    [theme=dark] .colab-df-convert:hover {\n",
              "      background-color: #434B5C;\n",
              "      box-shadow: 0px 1px 3px 1px rgba(0, 0, 0, 0.15);\n",
              "      filter: drop-shadow(0px 1px 2px rgba(0, 0, 0, 0.3));\n",
              "      fill: #FFFFFF;\n",
              "    }\n",
              "  </style>\n",
              "\n",
              "      <script>\n",
              "        const buttonEl =\n",
              "          document.querySelector('#df-6a67b294-3d20-4505-a26e-bfb2c0c72022 button.colab-df-convert');\n",
              "        buttonEl.style.display =\n",
              "          google.colab.kernel.accessAllowed ? 'block' : 'none';\n",
              "\n",
              "        async function convertToInteractive(key) {\n",
              "          const element = document.querySelector('#df-6a67b294-3d20-4505-a26e-bfb2c0c72022');\n",
              "          const dataTable =\n",
              "            await google.colab.kernel.invokeFunction('convertToInteractive',\n",
              "                                                     [key], {});\n",
              "          if (!dataTable) return;\n",
              "\n",
              "          const docLinkHtml = 'Like what you see? Visit the ' +\n",
              "            '<a target=\"_blank\" href=https://colab.research.google.com/notebooks/data_table.ipynb>data table notebook</a>'\n",
              "            + ' to learn more about interactive tables.';\n",
              "          element.innerHTML = '';\n",
              "          dataTable['output_type'] = 'display_data';\n",
              "          await google.colab.output.renderOutput(dataTable, element);\n",
              "          const docLink = document.createElement('div');\n",
              "          docLink.innerHTML = docLinkHtml;\n",
              "          element.appendChild(docLink);\n",
              "        }\n",
              "      </script>\n",
              "    </div>\n",
              "  </div>\n",
              "  "
            ],
            "text/plain": [
              "                                                 과제명  ...                                               data\n",
              "0  R-FSSW 기술 적용 경량 차체 부품 개발 및 품질 평가를 위한 64채널 C-SC...  ...  R-FSSW 기술 적용 경량 차체 부품 개발 및 품질 평가를 위한 64채널 C-SC...\n",
              "1                           다입자계를 묘사하는 편미분방정식에 대한 연구  ...  다입자계를 묘사하는 편미분방정식에 대한 연구연구과제1. 무한입자계의 동역학 / 작용...\n",
              "2              저출생체중아 가족을 위한 지역사회중심의 퇴원후 추후관리프로그램 개발  ...  저출생체중아 가족을 위한 지역사회중심의 퇴원후 추후관리프로그램 개발본 연구는 퇴원 ...\n",
              "3                         폴리싱용 5축 CNC 정밀 마이크로 시스템 개발  ...  폴리싱용 5축 CNC 정밀 마이크로 시스템 개발(1) 0.5~1㎛의 가공정밀도(면조...\n",
              "4           다결정재료의 미세조직구조를 고려한 확률론적 응력부식균열 생성예측모델 개발  ...  다결정재료의 미세조직구조를 고려한 확률론적 응력부식균열 생성예측모델 개발총 연구기간...\n",
              "\n",
              "[5 rows x 3 columns]"
            ]
          },
          "metadata": {},
          "execution_count": 40
        }
      ],
      "source": [
        "test1.head()"
      ]
    },
    {
      "cell_type": "code",
      "execution_count": null,
      "metadata": {
        "colab": {
          "base_uri": "https://localhost:8080/",
          "height": 508
        },
        "id": "r0nSnXNjwTAd",
        "outputId": "b4198e77-b60d-4054-fe6e-f7daa537148f"
      },
      "outputs": [
        {
          "output_type": "execute_result",
          "data": {
            "text/plain": [
              "(array([1.032e+03, 2.856e+03, 3.990e+03, 4.018e+03, 4.004e+03, 3.849e+03,\n",
              "        3.640e+03, 3.336e+03, 2.883e+03, 2.401e+03, 2.096e+03, 1.546e+03,\n",
              "        1.299e+03, 1.212e+03, 1.559e+03, 6.700e+02, 6.180e+02, 5.900e+02,\n",
              "        5.700e+02, 4.300e+02, 2.470e+02, 2.270e+02, 1.220e+02, 8.900e+01,\n",
              "        8.800e+01, 6.800e+01, 4.500e+01, 3.800e+01, 1.700e+01, 1.100e+01,\n",
              "        1.000e+01, 3.000e+00, 2.000e+00, 0.000e+00, 3.000e+00, 0.000e+00,\n",
              "        2.000e+00, 1.000e+00, 2.000e+00, 2.000e+00]),\n",
              " array([   6.  ,  102.35,  198.7 ,  295.05,  391.4 ,  487.75,  584.1 ,\n",
              "         680.45,  776.8 ,  873.15,  969.5 , 1065.85, 1162.2 , 1258.55,\n",
              "        1354.9 , 1451.25, 1547.6 , 1643.95, 1740.3 , 1836.65, 1933.  ,\n",
              "        2029.35, 2125.7 , 2222.05, 2318.4 , 2414.75, 2511.1 , 2607.45,\n",
              "        2703.8 , 2800.15, 2896.5 , 2992.85, 3089.2 , 3185.55, 3281.9 ,\n",
              "        3378.25, 3474.6 , 3570.95, 3667.3 , 3763.65, 3860.  ]),\n",
              " <a list of 40 Patch objects>)"
            ]
          },
          "metadata": {},
          "execution_count": 41
        },
        {
          "output_type": "display_data",
          "data": {
            "image/png": "[encoded data removed]",
            "text/plain": [
              "<Figure size 432x288 with 1 Axes>"
            ]
          },
          "metadata": {
            "needs_background": "light"
          }
        }
      ],
      "source": [
        "plt.hist(test1['data'].astype(str).apply(len),bins=40)"
      ]
    },
    {
      "cell_type": "code",
      "execution_count": null,
      "metadata": {
        "colab": {
          "base_uri": "https://localhost:8080/"
        },
        "id": "3GR9hr5jV064",
        "outputId": "b74437b0-5816-44d1-dbd6-bb69c9317ec3"
      },
      "outputs": [
        {
          "output_type": "execute_result",
          "data": {
            "text/plain": [
              "3860"
            ]
          },
          "metadata": {},
          "execution_count": 42
        }
      ],
      "source": [
        "max(test1['data'].astype(str).apply(len)) #최대 길이"
      ]
    },
    {
      "cell_type": "code",
      "execution_count": null,
      "metadata": {
        "id": "d8RyZhKH00Zi"
      },
      "outputs": [],
      "source": []
    },
    {
      "cell_type": "code",
      "execution_count": null,
      "metadata": {
        "id": "EZCV1oZG00cC"
      },
      "outputs": [],
      "source": []
    },
    {
      "cell_type": "code",
      "execution_count": null,
      "metadata": {
        "id": "nsxCOG9M00ed"
      },
      "outputs": [],
      "source": []
    },
    {
      "cell_type": "code",
      "execution_count": null,
      "metadata": {
        "id": "e-avS5mu00k5"
      },
      "outputs": [],
      "source": []
    },
    {
      "cell_type": "code",
      "execution_count": null,
      "metadata": {
        "id": "8IHeoNqaML10"
      },
      "outputs": [],
      "source": []
    },
    {
      "cell_type": "markdown",
      "metadata": {
        "id": "VHCKmygiyjFT"
      },
      "source": [
        "## 모델링 (BERT)\n",
        "\n",
        "https://han-py.tistory.com/267\n"
      ]
    },
    {
      "cell_type": "markdown",
      "metadata": {
        "id": "VYFY06Lb_DhX"
      },
      "source": [
        "### bert tokenizing"
      ]
    },
    {
      "cell_type": "markdown",
      "metadata": {
        "id": "4luZsiHMfFOk"
      },
      "source": [
        "트랜스포머가 인코더-디코더 구조에서 LSTM 보다 좋은 성능"
      ]
    },
    {
      "cell_type": "markdown",
      "metadata": {
        "id": "azsF8-5bMDlQ"
      },
      "source": [
        "https://han-py.tistory.com/252\n",
        ""
      ]
    },
    {
      "cell_type": "code",
      "execution_count": null,
      "metadata": {
        "colab": {
          "base_uri": "https://localhost:8080/",
          "height": 70
        },
        "id": "HwtEFCt1NFwZ",
        "outputId": "452c595c-29b5-44ae-973a-32305eacf926"
      },
      "outputs": [
        {
          "output_type": "execute_result",
          "data": {
            "application/vnd.google.colaboratory.intrinsic+json": {
              "type": "string"
            },
            "text/plain": [
              "'\\n<WordPiece tokenizing.>\\n데이터를 전처리 이후에 tokenizing. \\n많이 나오는 단어수를 빈도수에 맞게 tokenizing으로 분류한다고 생각하면 된다.\\n\\n1단계로 모든 단어마다 tokenizing을 진행한다. \\n2단계로는 빈도수가 많은 단어의 묶음을 반복하여 계속 확인을 한다. \\n그러면, 특정 반복을 통해 만들어진 vocab을 최종 vocab으로 저장을 한다.\\n\\n'"
            ]
          },
          "metadata": {},
          "execution_count": 43
        }
      ],
      "source": [
        "\"\"\"\n",
        "<WordPiece tokenizing.>\n",
        "데이터를 전처리 이후에 tokenizing.\n",
        "많이 나오는 단어수를 빈도수에 맞게 tokenizing으로 분류한다고 생각하면 된다.\n",
        "\n",
        "1단계로 모든 단어마다 tokenizing을 진행한다.\n",
        "2단계로는 빈도수가 많은 단어의 묶음을 반복하여 계속 확인을 한다.\n",
        "그러면, 특정 반복을 통해 만들어진 vocab을 최종 vocab으로 저장을 한다.\n",
        "\n",
        "\"\"\""
      ]
    },
    {
      "cell_type": "markdown",
      "metadata": {
        "id": "UCmHyVoaNsZh"
      },
      "source": [
        "![123123.png](data:image/png;base64,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)"
      ]
    },
    {
      "cell_type": "code",
      "execution_count": null,
      "metadata": {
        "colab": {
          "base_uri": "https://localhost:8080/"
        },
        "id": "8ii-4Fbn_9VF",
        "outputId": "2055e74c-5acc-4ca9-e0a6-1a0573854c94"
      },
      "outputs": [
        {
          "output_type": "stream",
          "name": "stdout",
          "text": [
            "Collecting transformers\n",
            "  Downloading transformers-4.15.0-py3-none-any.whl (3.4 MB)\n",
            "\u001b[K     |████████████████████████████████| 3.4 MB 5.4 MB/s \n",
            "\u001b[?25hRequirement already satisfied: tqdm>=4.27 in /usr/local/lib/python3.7/dist-packages (from transformers) (4.62.3)\n",
            "Requirement already satisfied: numpy>=1.17 in /usr/local/lib/python3.7/dist-packages (from transformers) (1.19.5)\n",
            "Requirement already satisfied: regex!=2019.12.17 in /usr/local/lib/python3.7/dist-packages (from transformers) (2019.12.20)\n",
            "Requirement already satisfied: requests in /usr/local/lib/python3.7/dist-packages (from transformers) (2.23.0)\n",
            "Collecting sacremoses\n",
            "  Downloading sacremoses-0.0.47-py2.py3-none-any.whl (895 kB)\n",
            "\u001b[K     |████████████████████████████████| 895 kB 41.1 MB/s \n",
            "\u001b[?25hCollecting tokenizers<0.11,>=0.10.1\n",
            "  Downloading tokenizers-0.10.3-cp37-cp37m-manylinux_2_5_x86_64.manylinux1_x86_64.manylinux_2_12_x86_64.manylinux2010_x86_64.whl (3.3 MB)\n",
            "\u001b[K     |████████████████████████████████| 3.3 MB 35.2 MB/s \n",
            "\u001b[?25hRequirement already satisfied: filelock in /usr/local/lib/python3.7/dist-packages (from transformers) (3.4.2)\n",
            "Requirement already satisfied: packaging>=20.0 in /usr/local/lib/python3.7/dist-packages (from transformers) (21.3)\n",
            "Collecting pyyaml>=5.1\n",
            "  Downloading PyYAML-6.0-cp37-cp37m-manylinux_2_5_x86_64.manylinux1_x86_64.manylinux_2_12_x86_64.manylinux2010_x86_64.whl (596 kB)\n",
            "\u001b[K     |████████████████████████████████| 596 kB 50.5 MB/s \n",
            "\u001b[?25hCollecting huggingface-hub<1.0,>=0.1.0\n",
            "  Downloading huggingface_hub-0.4.0-py3-none-any.whl (67 kB)\n",
            "\u001b[K     |████████████████████████████████| 67 kB 4.9 MB/s \n",
            "\u001b[?25hRequirement already satisfied: importlib-metadata in /usr/local/lib/python3.7/dist-packages (from transformers) (4.10.0)\n",
            "Requirement already satisfied: typing-extensions>=3.7.4.3 in /usr/local/lib/python3.7/dist-packages (from huggingface-hub<1.0,>=0.1.0->transformers) (3.10.0.2)\n",
            "Requirement already satisfied: pyparsing!=3.0.5,>=2.0.2 in /usr/local/lib/python3.7/dist-packages (from packaging>=20.0->transformers) (3.0.6)\n",
            "Requirement already satisfied: zipp>=0.5 in /usr/local/lib/python3.7/dist-packages (from importlib-metadata->transformers) (3.7.0)\n",
            "Requirement already satisfied: idna<3,>=2.5 in /usr/local/lib/python3.7/dist-packages (from requests->transformers) (2.10)\n",
            "Requirement already satisfied: certifi>=2017.4.17 in /usr/local/lib/python3.7/dist-packages (from requests->transformers) (2021.10.8)\n",
            "Requirement already satisfied: urllib3!=1.25.0,!=1.25.1,<1.26,>=1.21.1 in /usr/local/lib/python3.7/dist-packages (from requests->transformers) (1.24.3)\n",
            "Requirement already satisfied: chardet<4,>=3.0.2 in /usr/local/lib/python3.7/dist-packages (from requests->transformers) (3.0.4)\n",
            "Requirement already satisfied: six in /usr/local/lib/python3.7/dist-packages (from sacremoses->transformers) (1.15.0)\n",
            "Requirement already satisfied: click in /usr/local/lib/python3.7/dist-packages (from sacremoses->transformers) (7.1.2)\n",
            "Requirement already satisfied: joblib in /usr/local/lib/python3.7/dist-packages (from sacremoses->transformers) (1.1.0)\n",
            "Installing collected packages: pyyaml, tokenizers, sacremoses, huggingface-hub, transformers\n",
            "  Attempting uninstall: pyyaml\n",
            "    Found existing installation: PyYAML 3.13\n",
            "    Uninstalling PyYAML-3.13:\n",
            "      Successfully uninstalled PyYAML-3.13\n",
            "Successfully installed huggingface-hub-0.4.0 pyyaml-6.0 sacremoses-0.0.47 tokenizers-0.10.3 transformers-4.15.0\n",
            "Collecting sentencepiece\n",
            "  Downloading sentencepiece-0.1.96-cp37-cp37m-manylinux_2_17_x86_64.manylinux2014_x86_64.whl (1.2 MB)\n",
            "\u001b[K     |████████████████████████████████| 1.2 MB 5.4 MB/s \n",
            "\u001b[?25hInstalling collected packages: sentencepiece\n",
            "Successfully installed sentencepiece-0.1.96\n"
          ]
        }
      ],
      "source": [
        "! pip install transformers\n",
        "! pip install sentencepiece"
      ]
    },
    {
      "cell_type": "markdown",
      "metadata": {
        "id": "0NRt45RUTdDc"
      },
      "source": [
        "https://github.com/NLP-kr/tensorflow-ml-nlp-tf2/blob/master/7.PRETRAIN_METHOD/7.2.1.bert_finetune_NSMC.ipynb\n",
        "\n",
        "\n",
        "\n",
        "http://yonghee.io/bert_binary_classification_naver/\n",
        "\n",
        "\n",
        "\n",
        "\n"
      ]
    },
    {
      "cell_type": "code",
      "execution_count": null,
      "metadata": {
        "id": "msakvwOaecbC"
      },
      "outputs": [],
      "source": [
        "import tensorflow as tf\n",
        "import json\n",
        "import os\n",
        "\n",
        "import sklearn\n",
        "from sklearn.preprocessing import LabelEncoder\n",
        "from sklearn.metrics import log_loss , accuracy_score, f1_score\n",
        "\n",
        "from tensorflow.keras.preprocessing.sequence import pad_sequences\n",
        "from tensorflow.keras.preprocessing.text import Tokenizer\n",
        "from tensorflow.keras.callbacks import EarlyStopping, ModelCheckpoint\n",
        "\n",
        "from transformers import BertModel\n",
        "from transformers import BertTokenizer\n"
      ]
    },
    {
      "cell_type": "code",
      "execution_count": null,
      "metadata": {
        "id": "V0it_xAeTZEi"
      },
      "outputs": [],
      "source": [
        "#random seed 고정\n",
        "tf.random.set_seed(1234)\n",
        "np.random.seed(1234)\n",
        "\n",
        "BATCH_SIZE = 32 # 한번에 넣을 데이터 양\n",
        "NUM_EPOCHS = 3 # 순환 수\n",
        "VALID_SPLIT = 0.2 #train set 0.8:0.2\n",
        "MAX_LEN = 100 #EDA 에서 추출된 max length .. token들의 max length 보다 크게 설정"
      ]
    },
    {
      "cell_type": "code",
      "execution_count": null,
      "metadata": {
        "colab": {
          "base_uri": "https://localhost:8080/",
          "height": 200,
          "referenced_widgets": [
            "12bbe2ed21884db99f6502e2fa7a81f5",
            "8b1a32e5abda4d1a9aed8dfefb43b430",
            "43623b09f2fb46aab4dac371448abcf5",
            "69369e109762495bbca651a1277cf0b6",
            "7a4cb437a93a40c395b4fb18025a0bce",
            "fe8d1756d1ee4ba78a006b5129d847ad",
            "a933c1c2b2604848b3b1d0637830e482",
            "45053deb42104f32a5523f864fb62b2e",
            "2017fe211b19491baaae8eee3d0128de",
            "2e6b8df929644cd481ad7416bce4c9f8",
            "e5200d6bb31240eea99697308b017609",
            "3312aac685be47f4981ee099d0d74e01",
            "c60c7bc438c349218d1c30c96fe0490a",
            "0fbc0568cd5a49a5ab5cb620d16e36df",
            "57c75fafeabc4466a61dffe85768cdeb",
            "231e0a3c15d5412f99e6fb14e3dcb956",
            "3cfc647fbcd446829f1fd2bbf69f6c76",
            "973f61c1991845648f0184797b1990d2",
            "dc2c70dbde5549b99eeef23a50cfe796",
            "634b564647274700a7d349a8b87bca79",
            "8cf6c768fa774487b0ce2d6fd35a46d5",
            "c8b26c77fdf44d79a7166396074afaaa",
            "841abe7166f449da951bfe6dd6642d3e",
            "9a61790f8cb047caa49c4332aa5ee60f",
            "a6341650426a4093b319e67deae19fb4",
            "0df13a58adae4a2c98e73876e87f4434",
            "8bad88d623b848cb89139a4386498f21",
            "d31f50fb2cdb4be9bd70b0b4081e7c30",
            "f54fae5a61a14ef984f3035dd5054f41",
            "80e147be307f4ed8a808ecb915355f25",
            "321a3c152cf146ea975c1ac168d1063b",
            "5d08ea6a140a4a6d99557aeae052bfda",
            "9ea62fb0d2fa4b5d9235c0c43e6a00e9",
            "7acb288011e84d7aa3ac7e0a0eac21de",
            "b24a495c90d1457a9be3dd41fd095e25",
            "fe971f99acf643b19f57ace209687798",
            "c21c9a6ed09a4225905f8b4258d158ab",
            "7307a1fcfe4e4f4ab92a6bd9801744f4",
            "355991a780164087b61ec83d9fc0efec",
            "7b66861ff7cd4b8ab8faecd61f929852",
            "ae28fb844d0a48cb915cd3213f14a183",
            "413186cb4d9543efb33085d7ab8be439",
            "ee6b03f10364427fa02951dde1010b8a",
            "95a2655d96ac4573a0244f0ea22fa159"
          ]
        },
        "id": "7ZzlRHEKeYX6",
        "outputId": "761c92ab-53cb-4841-ac0f-e4cd49ddc44b"
      },
      "outputs": [
        {
          "output_type": "display_data",
          "data": {
            "application/vnd.jupyter.widget-view+json": {
              "model_id": "12bbe2ed21884db99f6502e2fa7a81f5",
              "version_minor": 0,
              "version_major": 2
            },
            "text/plain": [
              "Downloading:   0%|          | 0.00/972k [00:00<?, ?B/s]"
            ]
          },
          "metadata": {}
        },
        {
          "output_type": "display_data",
          "data": {
            "application/vnd.jupyter.widget-view+json": {
              "model_id": "3312aac685be47f4981ee099d0d74e01",
              "version_minor": 0,
              "version_major": 2
            },
            "text/plain": [
              "Downloading:   0%|          | 0.00/29.0 [00:00<?, ?B/s]"
            ]
          },
          "metadata": {}
        },
        {
          "output_type": "display_data",
          "data": {
            "application/vnd.jupyter.widget-view+json": {
              "model_id": "841abe7166f449da951bfe6dd6642d3e",
              "version_minor": 0,
              "version_major": 2
            },
            "text/plain": [
              "Downloading:   0%|          | 0.00/1.87M [00:00<?, ?B/s]"
            ]
          },
          "metadata": {}
        },
        {
          "output_type": "display_data",
          "data": {
            "application/vnd.jupyter.widget-view+json": {
              "model_id": "7acb288011e84d7aa3ac7e0a0eac21de",
              "version_minor": 0,
              "version_major": 2
            },
            "text/plain": [
              "Downloading:   0%|          | 0.00/625 [00:00<?, ?B/s]"
            ]
          },
          "metadata": {}
        },
        {
          "output_type": "stream",
          "name": "stderr",
          "text": [
            "/usr/local/lib/python3.7/dist-packages/transformers/tokenization_utils_base.py:2232: FutureWarning: The `pad_to_max_length` argument is deprecated and will be removed in a future version, use `padding=True` or `padding='longest'` to pad to the longest sequence in the batch, or use `padding='max_length'` to pad to a max length. In this case, you can give a specific length with `max_length` (e.g. `max_length=45`) or leave max_length to None to pad to the maximal input size of the model (e.g. 512 for Bert).\n",
            "  FutureWarning,\n"
          ]
        }
      ],
      "source": [
        "#사전학습된 BERT multilingual 모델 내 포함된 토크나이저를 활용하여 토크나이징\n",
        "tokenizer = BertTokenizer.from_pretrained('bert-base-multilingual-cased', #bert-base 토크나이저\n",
        "                                          cache_dir='bert_ckpt',\n",
        "                                           do_lower_case=False)\n",
        "\n",
        "\n",
        "\n",
        "#bert tokenizer\n",
        "#버트 문장 전처리\n",
        "\"\"\"\n",
        " 버트는 일반적으로 3가지 입력값: input_ids / attention_mask / token_type_ids\n",
        "\"\"\"\n",
        "def bert_tokenizer(sent, MAX_LEN):\n",
        "\n",
        "    #encoded_dict 생성\n",
        "    encoded_dict=tokenizer.encode_plus(\n",
        "      #encode_plus: 버트에 필요한 입력 형태로 변환할 문장을 최대 길이에 맞게 패딩하고 결괏값을 딕셔너리로 출력\n",
        "      text = sent, #문장을 토크나이징한다.\n",
        "      add_special_tokens=True, # True로 지정하면 토큰의 시작점에 '[CLS]' 토큰, 토큰의 마지막에 '[SEP]' 토큰을 붙인다.\n",
        "      max_length=MAX_LEN, #MAX_LEN 최대 길이에 따라 문장의 길이를 맞추는 작업을 진행\n",
        "      pad_to_max_length=True, #padding . MAX_LEN의 길이에 미치지 못하는 문장에 패딩을 적용\n",
        "      return_attention_mask=True, #어텐션 마스크를 생성\n",
        "      truncation = True)\n",
        "    \"\"\"\n",
        "    토큰 타입은 문장이 1개일 경우 0으로, 문장이 2개일 경우 0과 1로 구분해서 생성한다.\n",
        "    문장이 바뀔 때 마다 0에서 1로 바뀐 후 다시 1에서 0으로 바뀐다.\n",
        "    ex [0, 0, 0, 0, 1, 1, 1, 1, 1, 1, 1, 0, 0, 0, 0, 0, 0] <= 3문장이라는 것을 알 수 있다.\n",
        "    \"\"\"\n",
        "\n",
        "\n",
        "    #input_ids : 문장을 토크나이즈해서 인덱스 값으로 변환.\n",
        "    #일반적으로 버트에서는 단어를 subword 단위로 변환 시키는 워드 피스 토크나이저로 활용을 한다.\n",
        "    input_id=encoded_dict['input_ids']\n",
        "\n",
        "    #어텐션 마스크 : 학습 속도를 높이기 위해 실 데이터가 있는 곳과 padding이 있는 곳을 알려준다.\n",
        "    #버트 토크나이저에서는 1은 어텐션에 영향을 받는 토큰을 나타내고, 0은 영향을 받지 않는 토큰을 나타낸다.\n",
        "    attention_mask=encoded_dict['attention_mask']\n",
        "\n",
        "    #token_type_ids : 0과 1로 문장의 토큰 값을 분리한다.\n",
        "    #[CLS]는 문장의 시작을 의미하고, [SEP]는 문장이 분리되는 부분을 의미하는 토큰이다.\n",
        "    token_type_id = encoded_dict['token_type_ids']\n",
        "\n",
        "    return input_id, attention_mask, token_type_id\n",
        "\n",
        "\n",
        "\n",
        "\n",
        "\n",
        "\n",
        "\n",
        "input_ids =[]\n",
        "attention_masks =[]\n",
        "token_type_ids =[]\n",
        "train_data_labels = [] #최종 행렬\n",
        "\n",
        "\n",
        "\n",
        "\n",
        "\n",
        "#텍스트 처리\n",
        "def clean_text(sent):\n",
        "    sent_clean=re.sub(\"[^가-힣ㄱ-하-ㅣ]\", \" \", sent) #resub 한글 제외 전부 공백 처리\n",
        "    return sent_clean\n",
        "\n",
        "\n",
        "\n",
        "\n",
        "for train_sent, train_label in zip(train1['과제명'], train1['label']): ##!!과제명\n",
        "    #train 의 과제명와 label 열\n",
        "    try:\n",
        "        input_id, attention_mask, token_type_id = bert_tokenizer(clean_text(train_sent), MAX_LEN=MAX_LEN)\n",
        "\n",
        "        input_ids.append(input_id)\n",
        "        attention_masks.append(attention_mask)\n",
        "        token_type_ids.append(token_type_id)\n",
        "        #########################################\n",
        "        train_data_labels.append(train_label)\n",
        "\n",
        "    except Exception as e:\n",
        "        print(e)\n",
        "        print(train_sent)\n",
        "        pass\n",
        "\n",
        "\n",
        "\n",
        "\n",
        "#학습에 사용할 train 데이터들을 행렬 형태로\n",
        "train_input_ids=np.array(input_ids, dtype=int)\n",
        "train_attention_masks=np.array(attention_masks, dtype=int)\n",
        "train_token_type_ids=np.array(token_type_ids, dtype=int)\n",
        "###########################################################\n",
        "train_inputs=(train_input_ids, train_attention_masks, train_token_type_ids) #행렬 합치기 (id mask tokentype)\n",
        "\n",
        "train_labels=np.asarray(train_data_labels, dtype=np.int32)\n",
        "\n"
      ]
    },
    {
      "cell_type": "code",
      "execution_count": null,
      "metadata": {
        "colab": {
          "base_uri": "https://localhost:8080/"
        },
        "id": "drBRnMMieYah",
        "outputId": "f2c73d1d-7833-4ad6-bb6a-580d205a884c"
      },
      "outputs": [
        {
          "output_type": "stream",
          "name": "stdout",
          "text": [
            "[   101   9069  13890 119115  10459   8996  17138   9934  14801   9640\n",
            "  13764   9323 118654   9316   9321 119187   9576 119281   9625  16617\n",
            "  13764   9706  12092   8908  70122  10530  42300  91785    102      0\n",
            "      0      0      0      0      0      0      0      0      0      0\n",
            "      0      0      0      0      0      0      0      0      0      0\n",
            "      0      0      0      0      0      0      0      0      0      0\n",
            "      0      0      0      0      0      0      0      0      0      0\n",
            "      0      0      0      0      0      0      0      0      0      0\n",
            "      0      0      0      0      0      0      0      0      0      0\n",
            "      0      0      0      0      0      0      0      0      0      0]\n"
          ]
        }
      ],
      "source": [
        "print(train_input_ids[1])"
      ]
    },
    {
      "cell_type": "code",
      "execution_count": null,
      "metadata": {
        "colab": {
          "base_uri": "https://localhost:8080/"
        },
        "id": "5z0nhy-XK_MY",
        "outputId": "4095401b-1a28-42ef-b6e2-9d315e7d1363"
      },
      "outputs": [
        {
          "output_type": "stream",
          "name": "stdout",
          "text": [
            "[CLS] 대장암의 내성 표적 인자 발굴 및 반응 예측 유전자 지도 구축에 관한 연구 [SEP] [PAD] [PAD] [PAD] [PAD] [PAD] [PAD] [PAD] [PAD] [PAD] [PAD] [PAD] [PAD] [PAD] [PAD] [PAD] [PAD] [PAD] [PAD] [PAD] [PAD] [PAD] [PAD] [PAD] [PAD] [PAD] [PAD] [PAD] [PAD] [PAD] [PAD] [PAD] [PAD] [PAD] [PAD] [PAD] [PAD] [PAD] [PAD] [PAD] [PAD] [PAD] [PAD] [PAD] [PAD] [PAD] [PAD] [PAD] [PAD] [PAD] [PAD] [PAD] [PAD] [PAD] [PAD] [PAD] [PAD] [PAD] [PAD] [PAD] [PAD] [PAD] [PAD] [PAD] [PAD] [PAD] [PAD] [PAD] [PAD] [PAD] [PAD] [PAD]\n"
          ]
        }
      ],
      "source": [
        "print(tokenizer.decode(train_input_ids[1]))"
      ]
    },
    {
      "cell_type": "code",
      "execution_count": null,
      "metadata": {
        "colab": {
          "base_uri": "https://localhost:8080/"
        },
        "id": "JFdzD0peeYdO",
        "outputId": "e3ebbb3b-2237-493c-d2f0-b0bb30a129c3"
      },
      "outputs": [
        {
          "output_type": "stream",
          "name": "stdout",
          "text": [
            "[1 1 1 1 1 1 1 1 1 1 1 1 1 1 1 1 1 1 1 1 1 1 1 1 1 1 1 1 1 0 0 0 0 0 0 0 0\n",
            " 0 0 0 0 0 0 0 0 0 0 0 0 0 0 0 0 0 0 0 0 0 0 0 0 0 0 0 0 0 0 0 0 0 0 0 0 0\n",
            " 0 0 0 0 0 0 0 0 0 0 0 0 0 0 0 0 0 0 0 0 0 0 0 0 0 0]\n"
          ]
        }
      ],
      "source": [
        "print(train_attention_masks[1])"
      ]
    },
    {
      "cell_type": "code",
      "execution_count": null,
      "metadata": {
        "colab": {
          "base_uri": "https://localhost:8080/"
        },
        "id": "ZSnYrDaOeYez",
        "outputId": "21132e21-9ced-43c6-c3fb-abead76d325f"
      },
      "outputs": [
        {
          "output_type": "stream",
          "name": "stdout",
          "text": [
            "[0 0 0 0 0 0 0 0 0 0 0 0 0 0 0 0 0 0 0 0 0 0 0 0 0 0 0 0 0 0 0 0 0 0 0 0 0\n",
            " 0 0 0 0 0 0 0 0 0 0 0 0 0 0 0 0 0 0 0 0 0 0 0 0 0 0 0 0 0 0 0 0 0 0 0 0 0\n",
            " 0 0 0 0 0 0 0 0 0 0 0 0 0 0 0 0 0 0 0 0 0 0 0 0 0 0]\n"
          ]
        }
      ],
      "source": [
        "print(train_token_type_ids[1])"
      ]
    },
    {
      "cell_type": "code",
      "execution_count": null,
      "metadata": {
        "colab": {
          "base_uri": "https://localhost:8080/"
        },
        "id": "cd9kjjSYLBsl",
        "outputId": "5a929b85-be75-4d66-b60b-0cf38c62ae92"
      },
      "outputs": [
        {
          "output_type": "stream",
          "name": "stdout",
          "text": [
            "[CLS] 대장암의 내성 표적 인자 발굴 및 반응 예측 유전자 지도 구축에 관한 연구 [SEP] [PAD] [PAD] [PAD] [PAD] [PAD] [PAD] [PAD] [PAD] [PAD] [PAD] [PAD] [PAD] [PAD] [PAD] [PAD] [PAD] [PAD] [PAD] [PAD] [PAD] [PAD] [PAD] [PAD] [PAD] [PAD] [PAD] [PAD] [PAD] [PAD] [PAD] [PAD] [PAD] [PAD] [PAD] [PAD] [PAD] [PAD] [PAD] [PAD] [PAD] [PAD] [PAD] [PAD] [PAD] [PAD] [PAD] [PAD] [PAD] [PAD] [PAD] [PAD] [PAD] [PAD] [PAD] [PAD] [PAD] [PAD] [PAD] [PAD] [PAD] [PAD] [PAD] [PAD] [PAD] [PAD] [PAD] [PAD] [PAD] [PAD] [PAD] [PAD]\n"
          ]
        }
      ],
      "source": [
        "print(tokenizer.decode(train_input_ids[1]))"
      ]
    },
    {
      "cell_type": "markdown",
      "metadata": {
        "id": "f5da_0m3RCun"
      },
      "source": [
        "### TF Bert Classifier"
      ]
    },
    {
      "cell_type": "markdown",
      "metadata": {
        "id": "eZ8U_LcVkxdE"
      },
      "source": [
        "https://github.com/NLP-kr/tensorflow-ml-nlp-tf2/blob/master/7.PRETRAIN_METHOD/7.2.1.bert_finetune_NSMC.ipynb\n"
      ]
    },
    {
      "cell_type": "code",
      "execution_count": null,
      "metadata": {
        "id": "cCnfxnr0g77v"
      },
      "outputs": [],
      "source": [
        "from transformers import *"
      ]
    },
    {
      "cell_type": "code",
      "execution_count": null,
      "metadata": {
        "id": "2gfDFNZ2NP-f"
      },
      "outputs": [],
      "source": [
        "import tqdm"
      ]
    },
    {
      "cell_type": "markdown",
      "metadata": {
        "id": "UQ2ceyKblTII"
      },
      "source": [
        "#### train1 data"
      ]
    },
    {
      "cell_type": "code",
      "execution_count": null,
      "metadata": {
        "colab": {
          "base_uri": "https://localhost:8080/",
          "height": 225,
          "referenced_widgets": [
            "422587241c0442c18b7e854a16a09df8",
            "81c0694b85504597b60e5c6cf751a7db",
            "ccb8ec33b21a4da2af1cc1948ba71b6f",
            "adae69b6d7524680adb6a796c19cf95d",
            "7a915f57775c49f8a7d66c7d04850431",
            "29d934f7a2d3413d938c915722ca7872",
            "5ab8799acd424e2f83ef300888ba82b0",
            "2e94d21183e14418bce21fc6556dcb47",
            "9a820169fed84bd8812d0b8ac823a3e5",
            "61234a2a51984e699865b105e5d2d7f7",
            "6f04a3087aff498dbf9cac0b672375f9"
          ]
        },
        "id": "AGUAeeC6LBzM",
        "outputId": "8baee354-1800-4039-d779-932b58db204f"
      },
      "outputs": [
        {
          "output_type": "display_data",
          "data": {
            "application/vnd.jupyter.widget-view+json": {
              "model_id": "422587241c0442c18b7e854a16a09df8",
              "version_minor": 0,
              "version_major": 2
            },
            "text/plain": [
              "Downloading:   0%|          | 0.00/1.01G [00:00<?, ?B/s]"
            ]
          },
          "metadata": {}
        },
        {
          "output_type": "stream",
          "name": "stderr",
          "text": [
            "Some layers from the model checkpoint at bert-base-multilingual-cased were not used when initializing TFBertModel: ['nsp___cls', 'mlm___cls']\n",
            "- This IS expected if you are initializing TFBertModel from the checkpoint of a model trained on another task or with another architecture (e.g. initializing a BertForSequenceClassification model from a BertForPreTraining model).\n",
            "- This IS NOT expected if you are initializing TFBertModel from the checkpoint of a model that you expect to be exactly identical (initializing a BertForSequenceClassification model from a BertForSequenceClassification model).\n",
            "All the layers of TFBertModel were initialized from the model checkpoint at bert-base-multilingual-cased.\n",
            "If your task is similar to the task the model of the checkpoint was trained on, you can already use TFBertModel for predictions without further training.\n"
          ]
        },
        {
          "output_type": "stream",
          "name": "stdout",
          "text": [
            "tf2_bert_classifier -- Folder create complete \n",
            "\n",
            "Epoch 1/10\n",
            "3135/8716 [=========>....................] - ETA: 1:04:08 - loss: 0.8453 - accuracy: 0.8268"
          ]
        }
      ],
      "source": [
        "class TFBertClassifier(tf.keras.Model):\n",
        "\n",
        "    def __init__(self, model_name, dir_path, num_class):\n",
        "        super(TFBertClassifier, self).__init__()\n",
        "\n",
        "        self.bert = TFBertModel.from_pretrained(model_name, cache_dir=dir_path) #pretrained 한 모델 사용\n",
        "        self.dropout = tf.keras.layers.Dropout(self.bert.config.hidden_dropout_prob)\n",
        "        #droupout = 정규화 방식 중 하나. 모델의 과적합 문제를 해결한다.\n",
        "        self.classifier = tf.keras.layers.Dense(num_class,\n",
        "                                                kernel_initializer=tf.keras.initializers.TruncatedNormal(self.bert.config.initializer_range),\n",
        "                                                name=\"classifier\")\n",
        "        ##Dense() 전결합층 추가\n",
        "        #kernel_initializer = 가중치를 초기화 하는 방법\n",
        "\n",
        "    def call(self, inputs, attention_mask=None, token_type_ids=None, training=False):\n",
        "\n",
        "        #outputs 값: # sequence_output, pooled_output, (hidden_states), (attentions)\n",
        "        outputs = self.bert(inputs, attention_mask=attention_mask, token_type_ids=token_type_ids)\n",
        "        pooled_output = outputs[1]\n",
        "        pooled_output = self.dropout(pooled_output, training=training)\n",
        "        logits = self.classifier(pooled_output)\n",
        "\n",
        "        return logits\n",
        "\n",
        "cls_model = TFBertClassifier(model_name='bert-base-multilingual-cased',\n",
        "                                  dir_path='bert_ckpt',\n",
        "                                  num_class=46)\n",
        "\n",
        "\n",
        "\n",
        "\n",
        "# 학습 준비하기\n",
        "optimizer = tf.keras.optimizers.Adam(3e-5) #optimizer : Adam 최적화 알고리즘(방향 스텝사이즈 적절하게)\n",
        "loss = tf.keras.losses.SparseCategoricalCrossentropy(from_logits=True) #손실 함수\n",
        "metric = tf.keras.metrics.SparseCategoricalAccuracy('accuracy') #평가지표 accuracy\n",
        "cls_model.compile(optimizer=optimizer, loss=loss, metrics=[metric])\n",
        "\n",
        "\n",
        "\n",
        "\n",
        "\n",
        "\n",
        "model_name = \"tf2_bert_classifier\"\n",
        "\n",
        "# overfitting을 막기 위한 ealrystop 추가\n",
        "earlystop_callback = EarlyStopping(monitor='val_accuracy', min_delta=0.0001,patience=5)\n",
        "# min_delta: the threshold that triggers the termination (acc should at least improve 0.0001)\n",
        "# patience: no improvment epochs (patience = 1, 1번 이상 상승이 없으면 종료)\\\n",
        "\n",
        "checkpoint_path = os.path.join(model_name, 'weights.h5')\n",
        "checkpoint_dir = os.path.dirname(checkpoint_path)\n",
        "\n",
        "# Create path if exists\n",
        "if os.path.exists(checkpoint_dir):\n",
        "    print(\"{} -- Folder already exists \\n\".format(checkpoint_dir))\n",
        "else:\n",
        "    os.makedirs(checkpoint_dir, exist_ok=True)\n",
        "    print(\"{} -- Folder create complete \\n\".format(checkpoint_dir))\n",
        "\n",
        "cp_callback = ModelCheckpoint(\n",
        "    checkpoint_path, monitor='val_accuracy', verbose=1, save_best_only=True, save_weights_only=True)\n",
        "\n",
        "\n",
        "\n",
        "\n",
        "# 학습과 eval 시작 #fit 시작\n",
        "history = cls_model.fit(train_inputs, train_labels, epochs=10, batch_size=16,\n",
        "                    validation_split = VALID_SPLIT, callbacks=[earlystop_callback, cp_callback])"
      ]
    },
    {
      "cell_type": "code",
      "execution_count": null,
      "metadata": {
        "id": "AHl0t9T2eL2A"
      },
      "outputs": [],
      "source": [
        "cls_model.summary()"
      ]
    },
    {
      "cell_type": "markdown",
      "metadata": {
        "id": "eaKrp3vBlOD6"
      },
      "source": [
        "#### test1 data\n",
        "(동일하게 진행한다)"
      ]
    },
    {
      "cell_type": "code",
      "execution_count": null,
      "metadata": {
        "id": "MQFybPv5LB15"
      },
      "outputs": [],
      "source": [
        "\n",
        "input_ids =[]\n",
        "attention_masks =[]\n",
        "token_type_ids =[]\n",
        "train_data_labels = [] #최종\n",
        "\n",
        "def clean_text(sent):\n",
        "    sent_clean=re.sub(\"[^가-힣ㄱ-하-ㅣ]\", \" \", sent)\n",
        "    return sent_clean\n",
        "\n",
        "for test_sent in test1['과제명']:\n",
        "    try:\n",
        "        input_id, attention_mask, token_type_id = bert_tokenizer(clean_text(test_sent), MAX_LEN=40)\n",
        "\n",
        "        input_ids.append(input_id)\n",
        "        attention_masks.append(attention_mask)\n",
        "        token_type_ids.append(token_type_id)\n",
        "        #########################################\n",
        "\n",
        "    except Exception as e:\n",
        "        print(e)\n",
        "        print(test_sent)\n",
        "        pass\n",
        "\n",
        "test_input_ids=np.array(input_ids, dtype=int)\n",
        "test_attention_masks=np.array(attention_masks, dtype=int)\n",
        "test_token_type_ids=np.array(token_type_ids, dtype=int)\n",
        "###########################################################\n",
        "\n",
        "test_inputs=(test_input_ids, test_attention_masks, test_token_type_ids)  #최종\n",
        "#결과 도출에 사용할 test 데이터"
      ]
    },
    {
      "cell_type": "code",
      "execution_count": null,
      "metadata": {
        "id": "RyfXOYsuTFbK"
      },
      "outputs": [],
      "source": [
        "results = cls_model.predict(test_inputs)\n",
        "results=tf.argmax(results, axis=1)"
      ]
    },
    {
      "cell_type": "code",
      "execution_count": null,
      "metadata": {
        "id": "a4BUI6dOTFeX"
      },
      "outputs": [],
      "source": []
    },
    {
      "cell_type": "code",
      "execution_count": null,
      "metadata": {
        "id": "gkEIbrMCTFf9"
      },
      "outputs": [],
      "source": []
    },
    {
      "cell_type": "code",
      "execution_count": null,
      "metadata": {
        "id": "_eRl_QwdLB5V"
      },
      "outputs": [],
      "source": []
    },
    {
      "cell_type": "markdown",
      "metadata": {
        "id": "8YnkKz9UGMlX"
      },
      "source": [
        "## 예측 & 결과제출"
      ]
    },
    {
      "cell_type": "code",
      "execution_count": null,
      "metadata": {
        "id": "5OuYMPDEKvun"
      },
      "outputs": [],
      "source": [
        "sample['label']=results"
      ]
    },
    {
      "cell_type": "code",
      "execution_count": null,
      "metadata": {
        "id": "gsU3TBFlph6w"
      },
      "outputs": [],
      "source": [
        "sample"
      ]
    },
    {
      "cell_type": "code",
      "execution_count": null,
      "metadata": {
        "id": "e9ch-59WpjFn"
      },
      "outputs": [],
      "source": [
        "sample.to_csv('bert_baseline.csv',index=False)"
      ]
    }
  ],
  "metadata": {
    "accelerator": "GPU",
    "colab": {
      "provenance": [],
      "toc_visible": true,
      "mount_file_id": "1l2k_8k1PSpkKsHGD-Bm168WdUxZKbk0_",
      "authorship_tag": "ABX9TyOwTO27zrNMYunAeT7gI9nx",
      "include_colab_link": true
    },
    "kernelspec": {
      "display_name": "Python 3",
      "name": "python3"
    },
    "language_info": {
      "name": "python"
    },
    "widgets": {
      "application/vnd.jupyter.widget-state+json": {
        "12bbe2ed21884db99f6502e2fa7a81f5": {
          "model_module": "@jupyter-widgets/controls",
          "model_name": "HBoxModel",
          "model_module_version": "1.5.0",
          "state": {
            "_view_name": "HBoxView",
            "_dom_classes": [],
            "_model_name": "HBoxModel",
            "_view_module": "@jupyter-widgets/controls",
            "_model_module_version": "1.5.0",
            "_view_count": null,
            "_view_module_version": "1.5.0",
            "box_style": "",
            "layout": "IPY_MODEL_8b1a32e5abda4d1a9aed8dfefb43b430",
            "_model_module": "@jupyter-widgets/controls",
            "children": [
              "IPY_MODEL_43623b09f2fb46aab4dac371448abcf5",
              "IPY_MODEL_69369e109762495bbca651a1277cf0b6",
              "IPY_MODEL_7a4cb437a93a40c395b4fb18025a0bce"
            ]
          }
        },
        "8b1a32e5abda4d1a9aed8dfefb43b430": {
          "model_module": "@jupyter-widgets/base",
          "model_name": "LayoutModel",
          "model_module_version": "1.2.0",
          "state": {
            "_view_name": "LayoutView",
            "grid_template_rows": null,
            "right": null,
            "justify_content": null,
            "_view_module": "@jupyter-widgets/base",
            "overflow": null,
            "_model_module_version": "1.2.0",
            "_view_count": null,
            "flex_flow": null,
            "width": null,
            "min_width": null,
            "border": null,
            "align_items": null,
            "bottom": null,
            "_model_module": "@jupyter-widgets/base",
            "top": null,
            "grid_column": null,
            "overflow_y": null,
            "overflow_x": null,
            "grid_auto_flow": null,
            "grid_area": null,
            "grid_template_columns": null,
            "flex": null,
            "_model_name": "LayoutModel",
            "justify_items": null,
            "grid_row": null,
            "max_height": null,
            "align_content": null,
            "visibility": null,
            "align_self": null,
            "height": null,
            "min_height": null,
            "padding": null,
            "grid_auto_rows": null,
            "grid_gap": null,
            "max_width": null,
            "order": null,
            "_view_module_version": "1.2.0",
            "grid_template_areas": null,
            "object_position": null,
            "object_fit": null,
            "grid_auto_columns": null,
            "margin": null,
            "display": null,
            "left": null
          }
        },
        "43623b09f2fb46aab4dac371448abcf5": {
          "model_module": "@jupyter-widgets/controls",
          "model_name": "HTMLModel",
          "model_module_version": "1.5.0",
          "state": {
            "_view_name": "HTMLView",
            "style": "IPY_MODEL_fe8d1756d1ee4ba78a006b5129d847ad",
            "_dom_classes": [],
            "description": "",
            "_model_name": "HTMLModel",
            "placeholder": "​",
            "_view_module": "@jupyter-widgets/controls",
            "_model_module_version": "1.5.0",
            "value": "Downloading: 100%",
            "_view_count": null,
            "_view_module_version": "1.5.0",
            "description_tooltip": null,
            "_model_module": "@jupyter-widgets/controls",
            "layout": "IPY_MODEL_a933c1c2b2604848b3b1d0637830e482"
          }
        },
        "69369e109762495bbca651a1277cf0b6": {
          "model_module": "@jupyter-widgets/controls",
          "model_name": "FloatProgressModel",
          "model_module_version": "1.5.0",
          "state": {
            "_view_name": "ProgressView",
            "style": "IPY_MODEL_45053deb42104f32a5523f864fb62b2e",
            "_dom_classes": [],
            "description": "",
            "_model_name": "FloatProgressModel",
            "bar_style": "success",
            "max": 995526,
            "_view_module": "@jupyter-widgets/controls",
            "_model_module_version": "1.5.0",
            "value": 995526,
            "_view_count": null,
            "_view_module_version": "1.5.0",
            "orientation": "horizontal",
            "min": 0,
            "description_tooltip": null,
            "_model_module": "@jupyter-widgets/controls",
            "layout": "IPY_MODEL_2017fe211b19491baaae8eee3d0128de"
          }
        },
        "7a4cb437a93a40c395b4fb18025a0bce": {
          "model_module": "@jupyter-widgets/controls",
          "model_name": "HTMLModel",
          "model_module_version": "1.5.0",
          "state": {
            "_view_name": "HTMLView",
            "style": "IPY_MODEL_2e6b8df929644cd481ad7416bce4c9f8",
            "_dom_classes": [],
            "description": "",
            "_model_name": "HTMLModel",
            "placeholder": "​",
            "_view_module": "@jupyter-widgets/controls",
            "_model_module_version": "1.5.0",
            "value": " 972k/972k [00:00&lt;00:00, 4.56MB/s]",
            "_view_count": null,
            "_view_module_version": "1.5.0",
            "description_tooltip": null,
            "_model_module": "@jupyter-widgets/controls",
            "layout": "IPY_MODEL_e5200d6bb31240eea99697308b017609"
          }
        },
        "fe8d1756d1ee4ba78a006b5129d847ad": {
          "model_module": "@jupyter-widgets/controls",
          "model_name": "DescriptionStyleModel",
          "model_module_version": "1.5.0",
          "state": {
            "_view_name": "StyleView",
            "_model_name": "DescriptionStyleModel",
            "description_width": "",
            "_view_module": "@jupyter-widgets/base",
            "_model_module_version": "1.5.0",
            "_view_count": null,
            "_view_module_version": "1.2.0",
            "_model_module": "@jupyter-widgets/controls"
          }
        },
        "a933c1c2b2604848b3b1d0637830e482": {
          "model_module": "@jupyter-widgets/base",
          "model_name": "LayoutModel",
          "model_module_version": "1.2.0",
          "state": {
            "_view_name": "LayoutView",
            "grid_template_rows": null,
            "right": null,
            "justify_content": null,
            "_view_module": "@jupyter-widgets/base",
            "overflow": null,
            "_model_module_version": "1.2.0",
            "_view_count": null,
            "flex_flow": null,
            "width": null,
            "min_width": null,
            "border": null,
            "align_items": null,
            "bottom": null,
            "_model_module": "@jupyter-widgets/base",
            "top": null,
            "grid_column": null,
            "overflow_y": null,
            "overflow_x": null,
            "grid_auto_flow": null,
            "grid_area": null,
            "grid_template_columns": null,
            "flex": null,
            "_model_name": "LayoutModel",
            "justify_items": null,
            "grid_row": null,
            "max_height": null,
            "align_content": null,
            "visibility": null,
            "align_self": null,
            "height": null,
            "min_height": null,
            "padding": null,
            "grid_auto_rows": null,
            "grid_gap": null,
            "max_width": null,
            "order": null,
            "_view_module_version": "1.2.0",
            "grid_template_areas": null,
            "object_position": null,
            "object_fit": null,
            "grid_auto_columns": null,
            "margin": null,
            "display": null,
            "left": null
          }
        },
        "45053deb42104f32a5523f864fb62b2e": {
          "model_module": "@jupyter-widgets/controls",
          "model_name": "ProgressStyleModel",
          "model_module_version": "1.5.0",
          "state": {
            "_view_name": "StyleView",
            "_model_name": "ProgressStyleModel",
            "description_width": "",
            "_view_module": "@jupyter-widgets/base",
            "_model_module_version": "1.5.0",
            "_view_count": null,
            "_view_module_version": "1.2.0",
            "bar_color": null,
            "_model_module": "@jupyter-widgets/controls"
          }
        },
        "2017fe211b19491baaae8eee3d0128de": {
          "model_module": "@jupyter-widgets/base",
          "model_name": "LayoutModel",
          "model_module_version": "1.2.0",
          "state": {
            "_view_name": "LayoutView",
            "grid_template_rows": null,
            "right": null,
            "justify_content": null,
            "_view_module": "@jupyter-widgets/base",
            "overflow": null,
            "_model_module_version": "1.2.0",
            "_view_count": null,
            "flex_flow": null,
            "width": null,
            "min_width": null,
            "border": null,
            "align_items": null,
            "bottom": null,
            "_model_module": "@jupyter-widgets/base",
            "top": null,
            "grid_column": null,
            "overflow_y": null,
            "overflow_x": null,
            "grid_auto_flow": null,
            "grid_area": null,
            "grid_template_columns": null,
            "flex": null,
            "_model_name": "LayoutModel",
            "justify_items": null,
            "grid_row": null,
            "max_height": null,
            "align_content": null,
            "visibility": null,
            "align_self": null,
            "height": null,
            "min_height": null,
            "padding": null,
            "grid_auto_rows": null,
            "grid_gap": null,
            "max_width": null,
            "order": null,
            "_view_module_version": "1.2.0",
            "grid_template_areas": null,
            "object_position": null,
            "object_fit": null,
            "grid_auto_columns": null,
            "margin": null,
            "display": null,
            "left": null
          }
        },
        "2e6b8df929644cd481ad7416bce4c9f8": {
          "model_module": "@jupyter-widgets/controls",
          "model_name": "DescriptionStyleModel",
          "model_module_version": "1.5.0",
          "state": {
            "_view_name": "StyleView",
            "_model_name": "DescriptionStyleModel",
            "description_width": "",
            "_view_module": "@jupyter-widgets/base",
            "_model_module_version": "1.5.0",
            "_view_count": null,
            "_view_module_version": "1.2.0",
            "_model_module": "@jupyter-widgets/controls"
          }
        },
        "e5200d6bb31240eea99697308b017609": {
          "model_module": "@jupyter-widgets/base",
          "model_name": "LayoutModel",
          "model_module_version": "1.2.0",
          "state": {
            "_view_name": "LayoutView",
            "grid_template_rows": null,
            "right": null,
            "justify_content": null,
            "_view_module": "@jupyter-widgets/base",
            "overflow": null,
            "_model_module_version": "1.2.0",
            "_view_count": null,
            "flex_flow": null,
            "width": null,
            "min_width": null,
            "border": null,
            "align_items": null,
            "bottom": null,
            "_model_module": "@jupyter-widgets/base",
            "top": null,
            "grid_column": null,
            "overflow_y": null,
            "overflow_x": null,
            "grid_auto_flow": null,
            "grid_area": null,
            "grid_template_columns": null,
            "flex": null,
            "_model_name": "LayoutModel",
            "justify_items": null,
            "grid_row": null,
            "max_height": null,
            "align_content": null,
            "visibility": null,
            "align_self": null,
            "height": null,
            "min_height": null,
            "padding": null,
            "grid_auto_rows": null,
            "grid_gap": null,
            "max_width": null,
            "order": null,
            "_view_module_version": "1.2.0",
            "grid_template_areas": null,
            "object_position": null,
            "object_fit": null,
            "grid_auto_columns": null,
            "margin": null,
            "display": null,
            "left": null
          }
        },
        "3312aac685be47f4981ee099d0d74e01": {
          "model_module": "@jupyter-widgets/controls",
          "model_name": "HBoxModel",
          "model_module_version": "1.5.0",
          "state": {
            "_view_name": "HBoxView",
            "_dom_classes": [],
            "_model_name": "HBoxModel",
            "_view_module": "@jupyter-widgets/controls",
            "_model_module_version": "1.5.0",
            "_view_count": null,
            "_view_module_version": "1.5.0",
            "box_style": "",
            "layout": "IPY_MODEL_c60c7bc438c349218d1c30c96fe0490a",
            "_model_module": "@jupyter-widgets/controls",
            "children": [
              "IPY_MODEL_0fbc0568cd5a49a5ab5cb620d16e36df",
              "IPY_MODEL_57c75fafeabc4466a61dffe85768cdeb",
              "IPY_MODEL_231e0a3c15d5412f99e6fb14e3dcb956"
            ]
          }
        },
        "c60c7bc438c349218d1c30c96fe0490a": {
          "model_module": "@jupyter-widgets/base",
          "model_name": "LayoutModel",
          "model_module_version": "1.2.0",
          "state": {
            "_view_name": "LayoutView",
            "grid_template_rows": null,
            "right": null,
            "justify_content": null,
            "_view_module": "@jupyter-widgets/base",
            "overflow": null,
            "_model_module_version": "1.2.0",
            "_view_count": null,
            "flex_flow": null,
            "width": null,
            "min_width": null,
            "border": null,
            "align_items": null,
            "bottom": null,
            "_model_module": "@jupyter-widgets/base",
            "top": null,
            "grid_column": null,
            "overflow_y": null,
            "overflow_x": null,
            "grid_auto_flow": null,
            "grid_area": null,
            "grid_template_columns": null,
            "flex": null,
            "_model_name": "LayoutModel",
            "justify_items": null,
            "grid_row": null,
            "max_height": null,
            "align_content": null,
            "visibility": null,
            "align_self": null,
            "height": null,
            "min_height": null,
            "padding": null,
            "grid_auto_rows": null,
            "grid_gap": null,
            "max_width": null,
            "order": null,
            "_view_module_version": "1.2.0",
            "grid_template_areas": null,
            "object_position": null,
            "object_fit": null,
            "grid_auto_columns": null,
            "margin": null,
            "display": null,
            "left": null
          }
        },
        "0fbc0568cd5a49a5ab5cb620d16e36df": {
          "model_module": "@jupyter-widgets/controls",
          "model_name": "HTMLModel",
          "model_module_version": "1.5.0",
          "state": {
            "_view_name": "HTMLView",
            "style": "IPY_MODEL_3cfc647fbcd446829f1fd2bbf69f6c76",
            "_dom_classes": [],
            "description": "",
            "_model_name": "HTMLModel",
            "placeholder": "​",
            "_view_module": "@jupyter-widgets/controls",
            "_model_module_version": "1.5.0",
            "value": "Downloading: 100%",
            "_view_count": null,
            "_view_module_version": "1.5.0",
            "description_tooltip": null,
            "_model_module": "@jupyter-widgets/controls",
            "layout": "IPY_MODEL_973f61c1991845648f0184797b1990d2"
          }
        },
        "57c75fafeabc4466a61dffe85768cdeb": {
          "model_module": "@jupyter-widgets/controls",
          "model_name": "FloatProgressModel",
          "model_module_version": "1.5.0",
          "state": {
            "_view_name": "ProgressView",
            "style": "IPY_MODEL_dc2c70dbde5549b99eeef23a50cfe796",
            "_dom_classes": [],
            "description": "",
            "_model_name": "FloatProgressModel",
            "bar_style": "success",
            "max": 29,
            "_view_module": "@jupyter-widgets/controls",
            "_model_module_version": "1.5.0",
            "value": 29,
            "_view_count": null,
            "_view_module_version": "1.5.0",
            "orientation": "horizontal",
            "min": 0,
            "description_tooltip": null,
            "_model_module": "@jupyter-widgets/controls",
            "layout": "IPY_MODEL_634b564647274700a7d349a8b87bca79"
          }
        },
        "231e0a3c15d5412f99e6fb14e3dcb956": {
          "model_module": "@jupyter-widgets/controls",
          "model_name": "HTMLModel",
          "model_module_version": "1.5.0",
          "state": {
            "_view_name": "HTMLView",
            "style": "IPY_MODEL_8cf6c768fa774487b0ce2d6fd35a46d5",
            "_dom_classes": [],
            "description": "",
            "_model_name": "HTMLModel",
            "placeholder": "​",
            "_view_module": "@jupyter-widgets/controls",
            "_model_module_version": "1.5.0",
            "value": " 29.0/29.0 [00:00&lt;00:00, 744B/s]",
            "_view_count": null,
            "_view_module_version": "1.5.0",
            "description_tooltip": null,
            "_model_module": "@jupyter-widgets/controls",
            "layout": "IPY_MODEL_c8b26c77fdf44d79a7166396074afaaa"
          }
        },
        "3cfc647fbcd446829f1fd2bbf69f6c76": {
          "model_module": "@jupyter-widgets/controls",
          "model_name": "DescriptionStyleModel",
          "model_module_version": "1.5.0",
          "state": {
            "_view_name": "StyleView",
            "_model_name": "DescriptionStyleModel",
            "description_width": "",
            "_view_module": "@jupyter-widgets/base",
            "_model_module_version": "1.5.0",
            "_view_count": null,
            "_view_module_version": "1.2.0",
            "_model_module": "@jupyter-widgets/controls"
          }
        },
        "973f61c1991845648f0184797b1990d2": {
          "model_module": "@jupyter-widgets/base",
          "model_name": "LayoutModel",
          "model_module_version": "1.2.0",
          "state": {
            "_view_name": "LayoutView",
            "grid_template_rows": null,
            "right": null,
            "justify_content": null,
            "_view_module": "@jupyter-widgets/base",
            "overflow": null,
            "_model_module_version": "1.2.0",
            "_view_count": null,
            "flex_flow": null,
            "width": null,
            "min_width": null,
            "border": null,
            "align_items": null,
            "bottom": null,
            "_model_module": "@jupyter-widgets/base",
            "top": null,
            "grid_column": null,
            "overflow_y": null,
            "overflow_x": null,
            "grid_auto_flow": null,
            "grid_area": null,
            "grid_template_columns": null,
            "flex": null,
            "_model_name": "LayoutModel",
            "justify_items": null,
            "grid_row": null,
            "max_height": null,
            "align_content": null,
            "visibility": null,
            "align_self": null,
            "height": null,
            "min_height": null,
            "padding": null,
            "grid_auto_rows": null,
            "grid_gap": null,
            "max_width": null,
            "order": null,
            "_view_module_version": "1.2.0",
            "grid_template_areas": null,
            "object_position": null,
            "object_fit": null,
            "grid_auto_columns": null,
            "margin": null,
            "display": null,
            "left": null
          }
        },
        "dc2c70dbde5549b99eeef23a50cfe796": {
          "model_module": "@jupyter-widgets/controls",
          "model_name": "ProgressStyleModel",
          "model_module_version": "1.5.0",
          "state": {
            "_view_name": "StyleView",
            "_model_name": "ProgressStyleModel",
            "description_width": "",
            "_view_module": "@jupyter-widgets/base",
            "_model_module_version": "1.5.0",
            "_view_count": null,
            "_view_module_version": "1.2.0",
            "bar_color": null,
            "_model_module": "@jupyter-widgets/controls"
          }
        },
        "634b564647274700a7d349a8b87bca79": {
          "model_module": "@jupyter-widgets/base",
          "model_name": "LayoutModel",
          "model_module_version": "1.2.0",
          "state": {
            "_view_name": "LayoutView",
            "grid_template_rows": null,
            "right": null,
            "justify_content": null,
            "_view_module": "@jupyter-widgets/base",
            "overflow": null,
            "_model_module_version": "1.2.0",
            "_view_count": null,
            "flex_flow": null,
            "width": null,
            "min_width": null,
            "border": null,
            "align_items": null,
            "bottom": null,
            "_model_module": "@jupyter-widgets/base",
            "top": null,
            "grid_column": null,
            "overflow_y": null,
            "overflow_x": null,
            "grid_auto_flow": null,
            "grid_area": null,
            "grid_template_columns": null,
            "flex": null,
            "_model_name": "LayoutModel",
            "justify_items": null,
            "grid_row": null,
            "max_height": null,
            "align_content": null,
            "visibility": null,
            "align_self": null,
            "height": null,
            "min_height": null,
            "padding": null,
            "grid_auto_rows": null,
            "grid_gap": null,
            "max_width": null,
            "order": null,
            "_view_module_version": "1.2.0",
            "grid_template_areas": null,
            "object_position": null,
            "object_fit": null,
            "grid_auto_columns": null,
            "margin": null,
            "display": null,
            "left": null
          }
        },
        "8cf6c768fa774487b0ce2d6fd35a46d5": {
          "model_module": "@jupyter-widgets/controls",
          "model_name": "DescriptionStyleModel",
          "model_module_version": "1.5.0",
          "state": {
            "_view_name": "StyleView",
            "_model_name": "DescriptionStyleModel",
            "description_width": "",
            "_view_module": "@jupyter-widgets/base",
            "_model_module_version": "1.5.0",
            "_view_count": null,
            "_view_module_version": "1.2.0",
            "_model_module": "@jupyter-widgets/controls"
          }
        },
        "c8b26c77fdf44d79a7166396074afaaa": {
          "model_module": "@jupyter-widgets/base",
          "model_name": "LayoutModel",
          "model_module_version": "1.2.0",
          "state": {
            "_view_name": "LayoutView",
            "grid_template_rows": null,
            "right": null,
            "justify_content": null,
            "_view_module": "@jupyter-widgets/base",
            "overflow": null,
            "_model_module_version": "1.2.0",
            "_view_count": null,
            "flex_flow": null,
            "width": null,
            "min_width": null,
            "border": null,
            "align_items": null,
            "bottom": null,
            "_model_module": "@jupyter-widgets/base",
            "top": null,
            "grid_column": null,
            "overflow_y": null,
            "overflow_x": null,
            "grid_auto_flow": null,
            "grid_area": null,
            "grid_template_columns": null,
            "flex": null,
            "_model_name": "LayoutModel",
            "justify_items": null,
            "grid_row": null,
            "max_height": null,
            "align_content": null,
            "visibility": null,
            "align_self": null,
            "height": null,
            "min_height": null,
            "padding": null,
            "grid_auto_rows": null,
            "grid_gap": null,
            "max_width": null,
            "order": null,
            "_view_module_version": "1.2.0",
            "grid_template_areas": null,
            "object_position": null,
            "object_fit": null,
            "grid_auto_columns": null,
            "margin": null,
            "display": null,
            "left": null
          }
        },
        "841abe7166f449da951bfe6dd6642d3e": {
          "model_module": "@jupyter-widgets/controls",
          "model_name": "HBoxModel",
          "model_module_version": "1.5.0",
          "state": {
            "_view_name": "HBoxView",
            "_dom_classes": [],
            "_model_name": "HBoxModel",
            "_view_module": "@jupyter-widgets/controls",
            "_model_module_version": "1.5.0",
            "_view_count": null,
            "_view_module_version": "1.5.0",
            "box_style": "",
            "layout": "IPY_MODEL_9a61790f8cb047caa49c4332aa5ee60f",
            "_model_module": "@jupyter-widgets/controls",
            "children": [
              "IPY_MODEL_a6341650426a4093b319e67deae19fb4",
              "IPY_MODEL_0df13a58adae4a2c98e73876e87f4434",
              "IPY_MODEL_8bad88d623b848cb89139a4386498f21"
            ]
          }
        },
        "9a61790f8cb047caa49c4332aa5ee60f": {
          "model_module": "@jupyter-widgets/base",
          "model_name": "LayoutModel",
          "model_module_version": "1.2.0",
          "state": {
            "_view_name": "LayoutView",
            "grid_template_rows": null,
            "right": null,
            "justify_content": null,
            "_view_module": "@jupyter-widgets/base",
            "overflow": null,
            "_model_module_version": "1.2.0",
            "_view_count": null,
            "flex_flow": null,
            "width": null,
            "min_width": null,
            "border": null,
            "align_items": null,
            "bottom": null,
            "_model_module": "@jupyter-widgets/base",
            "top": null,
            "grid_column": null,
            "overflow_y": null,
            "overflow_x": null,
            "grid_auto_flow": null,
            "grid_area": null,
            "grid_template_columns": null,
            "flex": null,
            "_model_name": "LayoutModel",
            "justify_items": null,
            "grid_row": null,
            "max_height": null,
            "align_content": null,
            "visibility": null,
            "align_self": null,
            "height": null,
            "min_height": null,
            "padding": null,
            "grid_auto_rows": null,
            "grid_gap": null,
            "max_width": null,
            "order": null,
            "_view_module_version": "1.2.0",
            "grid_template_areas": null,
            "object_position": null,
            "object_fit": null,
            "grid_auto_columns": null,
            "margin": null,
            "display": null,
            "left": null
          }
        },
        "a6341650426a4093b319e67deae19fb4": {
          "model_module": "@jupyter-widgets/controls",
          "model_name": "HTMLModel",
          "model_module_version": "1.5.0",
          "state": {
            "_view_name": "HTMLView",
            "style": "IPY_MODEL_d31f50fb2cdb4be9bd70b0b4081e7c30",
            "_dom_classes": [],
            "description": "",
            "_model_name": "HTMLModel",
            "placeholder": "​",
            "_view_module": "@jupyter-widgets/controls",
            "_model_module_version": "1.5.0",
            "value": "Downloading: 100%",
            "_view_count": null,
            "_view_module_version": "1.5.0",
            "description_tooltip": null,
            "_model_module": "@jupyter-widgets/controls",
            "layout": "IPY_MODEL_f54fae5a61a14ef984f3035dd5054f41"
          }
        },
        "0df13a58adae4a2c98e73876e87f4434": {
          "model_module": "@jupyter-widgets/controls",
          "model_name": "FloatProgressModel",
          "model_module_version": "1.5.0",
          "state": {
            "_view_name": "ProgressView",
            "style": "IPY_MODEL_80e147be307f4ed8a808ecb915355f25",
            "_dom_classes": [],
            "description": "",
            "_model_name": "FloatProgressModel",
            "bar_style": "success",
            "max": 1961828,
            "_view_module": "@jupyter-widgets/controls",
            "_model_module_version": "1.5.0",
            "value": 1961828,
            "_view_count": null,
            "_view_module_version": "1.5.0",
            "orientation": "horizontal",
            "min": 0,
            "description_tooltip": null,
            "_model_module": "@jupyter-widgets/controls",
            "layout": "IPY_MODEL_321a3c152cf146ea975c1ac168d1063b"
          }
        },
        "8bad88d623b848cb89139a4386498f21": {
          "model_module": "@jupyter-widgets/controls",
          "model_name": "HTMLModel",
          "model_module_version": "1.5.0",
          "state": {
            "_view_name": "HTMLView",
            "style": "IPY_MODEL_5d08ea6a140a4a6d99557aeae052bfda",
            "_dom_classes": [],
            "description": "",
            "_model_name": "HTMLModel",
            "placeholder": "​",
            "_view_module": "@jupyter-widgets/controls",
            "_model_module_version": "1.5.0",
            "value": " 1.87M/1.87M [00:00&lt;00:00, 9.29MB/s]",
            "_view_count": null,
            "_view_module_version": "1.5.0",
            "description_tooltip": null,
            "_model_module": "@jupyter-widgets/controls",
            "layout": "IPY_MODEL_9ea62fb0d2fa4b5d9235c0c43e6a00e9"
          }
        },
        "d31f50fb2cdb4be9bd70b0b4081e7c30": {
          "model_module": "@jupyter-widgets/controls",
          "model_name": "DescriptionStyleModel",
          "model_module_version": "1.5.0",
          "state": {
            "_view_name": "StyleView",
            "_model_name": "DescriptionStyleModel",
            "description_width": "",
            "_view_module": "@jupyter-widgets/base",
            "_model_module_version": "1.5.0",
            "_view_count": null,
            "_view_module_version": "1.2.0",
            "_model_module": "@jupyter-widgets/controls"
          }
        },
        "f54fae5a61a14ef984f3035dd5054f41": {
          "model_module": "@jupyter-widgets/base",
          "model_name": "LayoutModel",
          "model_module_version": "1.2.0",
          "state": {
            "_view_name": "LayoutView",
            "grid_template_rows": null,
            "right": null,
            "justify_content": null,
            "_view_module": "@jupyter-widgets/base",
            "overflow": null,
            "_model_module_version": "1.2.0",
            "_view_count": null,
            "flex_flow": null,
            "width": null,
            "min_width": null,
            "border": null,
            "align_items": null,
            "bottom": null,
            "_model_module": "@jupyter-widgets/base",
            "top": null,
            "grid_column": null,
            "overflow_y": null,
            "overflow_x": null,
            "grid_auto_flow": null,
            "grid_area": null,
            "grid_template_columns": null,
            "flex": null,
            "_model_name": "LayoutModel",
            "justify_items": null,
            "grid_row": null,
            "max_height": null,
            "align_content": null,
            "visibility": null,
            "align_self": null,
            "height": null,
            "min_height": null,
            "padding": null,
            "grid_auto_rows": null,
            "grid_gap": null,
            "max_width": null,
            "order": null,
            "_view_module_version": "1.2.0",
            "grid_template_areas": null,
            "object_position": null,
            "object_fit": null,
            "grid_auto_columns": null,
            "margin": null,
            "display": null,
            "left": null
          }
        },
        "80e147be307f4ed8a808ecb915355f25": {
          "model_module": "@jupyter-widgets/controls",
          "model_name": "ProgressStyleModel",
          "model_module_version": "1.5.0",
          "state": {
            "_view_name": "StyleView",
            "_model_name": "ProgressStyleModel",
            "description_width": "",
            "_view_module": "@jupyter-widgets/base",
            "_model_module_version": "1.5.0",
            "_view_count": null,
            "_view_module_version": "1.2.0",
            "bar_color": null,
            "_model_module": "@jupyter-widgets/controls"
          }
        },
        "321a3c152cf146ea975c1ac168d1063b": {
          "model_module": "@jupyter-widgets/base",
          "model_name": "LayoutModel",
          "model_module_version": "1.2.0",
          "state": {
            "_view_name": "LayoutView",
            "grid_template_rows": null,
            "right": null,
            "justify_content": null,
            "_view_module": "@jupyter-widgets/base",
            "overflow": null,
            "_model_module_version": "1.2.0",
            "_view_count": null,
            "flex_flow": null,
            "width": null,
            "min_width": null,
            "border": null,
            "align_items": null,
            "bottom": null,
            "_model_module": "@jupyter-widgets/base",
            "top": null,
            "grid_column": null,
            "overflow_y": null,
            "overflow_x": null,
            "grid_auto_flow": null,
            "grid_area": null,
            "grid_template_columns": null,
            "flex": null,
            "_model_name": "LayoutModel",
            "justify_items": null,
            "grid_row": null,
            "max_height": null,
            "align_content": null,
            "visibility": null,
            "align_self": null,
            "height": null,
            "min_height": null,
            "padding": null,
            "grid_auto_rows": null,
            "grid_gap": null,
            "max_width": null,
            "order": null,
            "_view_module_version": "1.2.0",
            "grid_template_areas": null,
            "object_position": null,
            "object_fit": null,
            "grid_auto_columns": null,
            "margin": null,
            "display": null,
            "left": null
          }
        },
        "5d08ea6a140a4a6d99557aeae052bfda": {
          "model_module": "@jupyter-widgets/controls",
          "model_name": "DescriptionStyleModel",
          "model_module_version": "1.5.0",
          "state": {
            "_view_name": "StyleView",
            "_model_name": "DescriptionStyleModel",
            "description_width": "",
            "_view_module": "@jupyter-widgets/base",
            "_model_module_version": "1.5.0",
            "_view_count": null,
            "_view_module_version": "1.2.0",
            "_model_module": "@jupyter-widgets/controls"
          }
        },
        "9ea62fb0d2fa4b5d9235c0c43e6a00e9": {
          "model_module": "@jupyter-widgets/base",
          "model_name": "LayoutModel",
          "model_module_version": "1.2.0",
          "state": {
            "_view_name": "LayoutView",
            "grid_template_rows": null,
            "right": null,
            "justify_content": null,
            "_view_module": "@jupyter-widgets/base",
            "overflow": null,
            "_model_module_version": "1.2.0",
            "_view_count": null,
            "flex_flow": null,
            "width": null,
            "min_width": null,
            "border": null,
            "align_items": null,
            "bottom": null,
            "_model_module": "@jupyter-widgets/base",
            "top": null,
            "grid_column": null,
            "overflow_y": null,
            "overflow_x": null,
            "grid_auto_flow": null,
            "grid_area": null,
            "grid_template_columns": null,
            "flex": null,
            "_model_name": "LayoutModel",
            "justify_items": null,
            "grid_row": null,
            "max_height": null,
            "align_content": null,
            "visibility": null,
            "align_self": null,
            "height": null,
            "min_height": null,
            "padding": null,
            "grid_auto_rows": null,
            "grid_gap": null,
            "max_width": null,
            "order": null,
            "_view_module_version": "1.2.0",
            "grid_template_areas": null,
            "object_position": null,
            "object_fit": null,
            "grid_auto_columns": null,
            "margin": null,
            "display": null,
            "left": null
          }
        },
        "7acb288011e84d7aa3ac7e0a0eac21de": {
          "model_module": "@jupyter-widgets/controls",
          "model_name": "HBoxModel",
          "model_module_version": "1.5.0",
          "state": {
            "_view_name": "HBoxView",
            "_dom_classes": [],
            "_model_name": "HBoxModel",
            "_view_module": "@jupyter-widgets/controls",
            "_model_module_version": "1.5.0",
            "_view_count": null,
            "_view_module_version": "1.5.0",
            "box_style": "",
            "layout": "IPY_MODEL_b24a495c90d1457a9be3dd41fd095e25",
            "_model_module": "@jupyter-widgets/controls",
            "children": [
              "IPY_MODEL_fe971f99acf643b19f57ace209687798",
              "IPY_MODEL_c21c9a6ed09a4225905f8b4258d158ab",
              "IPY_MODEL_7307a1fcfe4e4f4ab92a6bd9801744f4"
            ]
          }
        },
        "b24a495c90d1457a9be3dd41fd095e25": {
          "model_module": "@jupyter-widgets/base",
          "model_name": "LayoutModel",
          "model_module_version": "1.2.0",
          "state": {
            "_view_name": "LayoutView",
            "grid_template_rows": null,
            "right": null,
            "justify_content": null,
            "_view_module": "@jupyter-widgets/base",
            "overflow": null,
            "_model_module_version": "1.2.0",
            "_view_count": null,
            "flex_flow": null,
            "width": null,
            "min_width": null,
            "border": null,
            "align_items": null,
            "bottom": null,
            "_model_module": "@jupyter-widgets/base",
            "top": null,
            "grid_column": null,
            "overflow_y": null,
            "overflow_x": null,
            "grid_auto_flow": null,
            "grid_area": null,
            "grid_template_columns": null,
            "flex": null,
            "_model_name": "LayoutModel",
            "justify_items": null,
            "grid_row": null,
            "max_height": null,
            "align_content": null,
            "visibility": null,
            "align_self": null,
            "height": null,
            "min_height": null,
            "padding": null,
            "grid_auto_rows": null,
            "grid_gap": null,
            "max_width": null,
            "order": null,
            "_view_module_version": "1.2.0",
            "grid_template_areas": null,
            "object_position": null,
            "object_fit": null,
            "grid_auto_columns": null,
            "margin": null,
            "display": null,
            "left": null
          }
        },
        "fe971f99acf643b19f57ace209687798": {
          "model_module": "@jupyter-widgets/controls",
          "model_name": "HTMLModel",
          "model_module_version": "1.5.0",
          "state": {
            "_view_name": "HTMLView",
            "style": "IPY_MODEL_355991a780164087b61ec83d9fc0efec",
            "_dom_classes": [],
            "description": "",
            "_model_name": "HTMLModel",
            "placeholder": "​",
            "_view_module": "@jupyter-widgets/controls",
            "_model_module_version": "1.5.0",
            "value": "Downloading: 100%",
            "_view_count": null,
            "_view_module_version": "1.5.0",
            "description_tooltip": null,
            "_model_module": "@jupyter-widgets/controls",
            "layout": "IPY_MODEL_7b66861ff7cd4b8ab8faecd61f929852"
          }
        },
        "c21c9a6ed09a4225905f8b4258d158ab": {
          "model_module": "@jupyter-widgets/controls",
          "model_name": "FloatProgressModel",
          "model_module_version": "1.5.0",
          "state": {
            "_view_name": "ProgressView",
            "style": "IPY_MODEL_ae28fb844d0a48cb915cd3213f14a183",
            "_dom_classes": [],
            "description": "",
            "_model_name": "FloatProgressModel",
            "bar_style": "success",
            "max": 625,
            "_view_module": "@jupyter-widgets/controls",
            "_model_module_version": "1.5.0",
            "value": 625,
            "_view_count": null,
            "_view_module_version": "1.5.0",
            "orientation": "horizontal",
            "min": 0,
            "description_tooltip": null,
            "_model_module": "@jupyter-widgets/controls",
            "layout": "IPY_MODEL_413186cb4d9543efb33085d7ab8be439"
          }
        },
        "7307a1fcfe4e4f4ab92a6bd9801744f4": {
          "model_module": "@jupyter-widgets/controls",
          "model_name": "HTMLModel",
          "model_module_version": "1.5.0",
          "state": {
            "_view_name": "HTMLView",
            "style": "IPY_MODEL_ee6b03f10364427fa02951dde1010b8a",
            "_dom_classes": [],
            "description": "",
            "_model_name": "HTMLModel",
            "placeholder": "​",
            "_view_module": "@jupyter-widgets/controls",
            "_model_module_version": "1.5.0",
            "value": " 625/625 [00:00&lt;00:00, 13.7kB/s]",
            "_view_count": null,
            "_view_module_version": "1.5.0",
            "description_tooltip": null,
            "_model_module": "@jupyter-widgets/controls",
            "layout": "IPY_MODEL_95a2655d96ac4573a0244f0ea22fa159"
          }
        },
        "355991a780164087b61ec83d9fc0efec": {
          "model_module": "@jupyter-widgets/controls",
          "model_name": "DescriptionStyleModel",
          "model_module_version": "1.5.0",
          "state": {
            "_view_name": "StyleView",
            "_model_name": "DescriptionStyleModel",
            "description_width": "",
            "_view_module": "@jupyter-widgets/base",
            "_model_module_version": "1.5.0",
            "_view_count": null,
            "_view_module_version": "1.2.0",
            "_model_module": "@jupyter-widgets/controls"
          }
        },
        "7b66861ff7cd4b8ab8faecd61f929852": {
          "model_module": "@jupyter-widgets/base",
          "model_name": "LayoutModel",
          "model_module_version": "1.2.0",
          "state": {
            "_view_name": "LayoutView",
            "grid_template_rows": null,
            "right": null,
            "justify_content": null,
            "_view_module": "@jupyter-widgets/base",
            "overflow": null,
            "_model_module_version": "1.2.0",
            "_view_count": null,
            "flex_flow": null,
            "width": null,
            "min_width": null,
            "border": null,
            "align_items": null,
            "bottom": null,
            "_model_module": "@jupyter-widgets/base",
            "top": null,
            "grid_column": null,
            "overflow_y": null,
            "overflow_x": null,
            "grid_auto_flow": null,
            "grid_area": null,
            "grid_template_columns": null,
            "flex": null,
            "_model_name": "LayoutModel",
            "justify_items": null,
            "grid_row": null,
            "max_height": null,
            "align_content": null,
            "visibility": null,
            "align_self": null,
            "height": null,
            "min_height": null,
            "padding": null,
            "grid_auto_rows": null,
            "grid_gap": null,
            "max_width": null,
            "order": null,
            "_view_module_version": "1.2.0",
            "grid_template_areas": null,
            "object_position": null,
            "object_fit": null,
            "grid_auto_columns": null,
            "margin": null,
            "display": null,
            "left": null
          }
        },
        "ae28fb844d0a48cb915cd3213f14a183": {
          "model_module": "@jupyter-widgets/controls",
          "model_name": "ProgressStyleModel",
          "model_module_version": "1.5.0",
          "state": {
            "_view_name": "StyleView",
            "_model_name": "ProgressStyleModel",
            "description_width": "",
            "_view_module": "@jupyter-widgets/base",
            "_model_module_version": "1.5.0",
            "_view_count": null,
            "_view_module_version": "1.2.0",
            "bar_color": null,
            "_model_module": "@jupyter-widgets/controls"
          }
        },
        "413186cb4d9543efb33085d7ab8be439": {
          "model_module": "@jupyter-widgets/base",
          "model_name": "LayoutModel",
          "model_module_version": "1.2.0",
          "state": {
            "_view_name": "LayoutView",
            "grid_template_rows": null,
            "right": null,
            "justify_content": null,
            "_view_module": "@jupyter-widgets/base",
            "overflow": null,
            "_model_module_version": "1.2.0",
            "_view_count": null,
            "flex_flow": null,
            "width": null,
            "min_width": null,
            "border": null,
            "align_items": null,
            "bottom": null,
            "_model_module": "@jupyter-widgets/base",
            "top": null,
            "grid_column": null,
            "overflow_y": null,
            "overflow_x": null,
            "grid_auto_flow": null,
            "grid_area": null,
            "grid_template_columns": null,
            "flex": null,
            "_model_name": "LayoutModel",
            "justify_items": null,
            "grid_row": null,
            "max_height": null,
            "align_content": null,
            "visibility": null,
            "align_self": null,
            "height": null,
            "min_height": null,
            "padding": null,
            "grid_auto_rows": null,
            "grid_gap": null,
            "max_width": null,
            "order": null,
            "_view_module_version": "1.2.0",
            "grid_template_areas": null,
            "object_position": null,
            "object_fit": null,
            "grid_auto_columns": null,
            "margin": null,
            "display": null,
            "left": null
          }
        },
        "ee6b03f10364427fa02951dde1010b8a": {
          "model_module": "@jupyter-widgets/controls",
          "model_name": "DescriptionStyleModel",
          "model_module_version": "1.5.0",
          "state": {
            "_view_name": "StyleView",
            "_model_name": "DescriptionStyleModel",
            "description_width": "",
            "_view_module": "@jupyter-widgets/base",
            "_model_module_version": "1.5.0",
            "_view_count": null,
            "_view_module_version": "1.2.0",
            "_model_module": "@jupyter-widgets/controls"
          }
        },
        "95a2655d96ac4573a0244f0ea22fa159": {
          "model_module": "@jupyter-widgets/base",
          "model_name": "LayoutModel",
          "model_module_version": "1.2.0",
          "state": {
            "_view_name": "LayoutView",
            "grid_template_rows": null,
            "right": null,
            "justify_content": null,
            "_view_module": "@jupyter-widgets/base",
            "overflow": null,
            "_model_module_version": "1.2.0",
            "_view_count": null,
            "flex_flow": null,
            "width": null,
            "min_width": null,
            "border": null,
            "align_items": null,
            "bottom": null,
            "_model_module": "@jupyter-widgets/base",
            "top": null,
            "grid_column": null,
            "overflow_y": null,
            "overflow_x": null,
            "grid_auto_flow": null,
            "grid_area": null,
            "grid_template_columns": null,
            "flex": null,
            "_model_name": "LayoutModel",
            "justify_items": null,
            "grid_row": null,
            "max_height": null,
            "align_content": null,
            "visibility": null,
            "align_self": null,
            "height": null,
            "min_height": null,
            "padding": null,
            "grid_auto_rows": null,
            "grid_gap": null,
            "max_width": null,
            "order": null,
            "_view_module_version": "1.2.0",
            "grid_template_areas": null,
            "object_position": null,
            "object_fit": null,
            "grid_auto_columns": null,
            "margin": null,
            "display": null,
            "left": null
          }
        },
        "422587241c0442c18b7e854a16a09df8": {
          "model_module": "@jupyter-widgets/controls",
          "model_name": "HBoxModel",
          "model_module_version": "1.5.0",
          "state": {
            "_view_name": "HBoxView",
            "_dom_classes": [],
            "_model_name": "HBoxModel",
            "_view_module": "@jupyter-widgets/controls",
            "_model_module_version": "1.5.0",
            "_view_count": null,
            "_view_module_version": "1.5.0",
            "box_style": "",
            "layout": "IPY_MODEL_81c0694b85504597b60e5c6cf751a7db",
            "_model_module": "@jupyter-widgets/controls",
            "children": [
              "IPY_MODEL_ccb8ec33b21a4da2af1cc1948ba71b6f",
              "IPY_MODEL_adae69b6d7524680adb6a796c19cf95d",
              "IPY_MODEL_7a915f57775c49f8a7d66c7d04850431"
            ]
          }
        },
        "81c0694b85504597b60e5c6cf751a7db": {
          "model_module": "@jupyter-widgets/base",
          "model_name": "LayoutModel",
          "model_module_version": "1.2.0",
          "state": {
            "_view_name": "LayoutView",
            "grid_template_rows": null,
            "right": null,
            "justify_content": null,
            "_view_module": "@jupyter-widgets/base",
            "overflow": null,
            "_model_module_version": "1.2.0",
            "_view_count": null,
            "flex_flow": null,
            "width": null,
            "min_width": null,
            "border": null,
            "align_items": null,
            "bottom": null,
            "_model_module": "@jupyter-widgets/base",
            "top": null,
            "grid_column": null,
            "overflow_y": null,
            "overflow_x": null,
            "grid_auto_flow": null,
            "grid_area": null,
            "grid_template_columns": null,
            "flex": null,
            "_model_name": "LayoutModel",
            "justify_items": null,
            "grid_row": null,
            "max_height": null,
            "align_content": null,
            "visibility": null,
            "align_self": null,
            "height": null,
            "min_height": null,
            "padding": null,
            "grid_auto_rows": null,
            "grid_gap": null,
            "max_width": null,
            "order": null,
            "_view_module_version": "1.2.0",
            "grid_template_areas": null,
            "object_position": null,
            "object_fit": null,
            "grid_auto_columns": null,
            "margin": null,
            "display": null,
            "left": null
          }
        },
        "ccb8ec33b21a4da2af1cc1948ba71b6f": {
          "model_module": "@jupyter-widgets/controls",
          "model_name": "HTMLModel",
          "model_module_version": "1.5.0",
          "state": {
            "_view_name": "HTMLView",
            "style": "IPY_MODEL_29d934f7a2d3413d938c915722ca7872",
            "_dom_classes": [],
            "description": "",
            "_model_name": "HTMLModel",
            "placeholder": "​",
            "_view_module": "@jupyter-widgets/controls",
            "_model_module_version": "1.5.0",
            "value": "Downloading: 100%",
            "_view_count": null,
            "_view_module_version": "1.5.0",
            "description_tooltip": null,
            "_model_module": "@jupyter-widgets/controls",
            "layout": "IPY_MODEL_5ab8799acd424e2f83ef300888ba82b0"
          }
        },
        "adae69b6d7524680adb6a796c19cf95d": {
          "model_module": "@jupyter-widgets/controls",
          "model_name": "FloatProgressModel",
          "model_module_version": "1.5.0",
          "state": {
            "_view_name": "ProgressView",
            "style": "IPY_MODEL_2e94d21183e14418bce21fc6556dcb47",
            "_dom_classes": [],
            "description": "",
            "_model_name": "FloatProgressModel",
            "bar_style": "success",
            "max": 1083389348,
            "_view_module": "@jupyter-widgets/controls",
            "_model_module_version": "1.5.0",
            "value": 1083389348,
            "_view_count": null,
            "_view_module_version": "1.5.0",
            "orientation": "horizontal",
            "min": 0,
            "description_tooltip": null,
            "_model_module": "@jupyter-widgets/controls",
            "layout": "IPY_MODEL_9a820169fed84bd8812d0b8ac823a3e5"
          }
        },
        "7a915f57775c49f8a7d66c7d04850431": {
          "model_module": "@jupyter-widgets/controls",
          "model_name": "HTMLModel",
          "model_module_version": "1.5.0",
          "state": {
            "_view_name": "HTMLView",
            "style": "IPY_MODEL_61234a2a51984e699865b105e5d2d7f7",
            "_dom_classes": [],
            "description": "",
            "_model_name": "HTMLModel",
            "placeholder": "​",
            "_view_module": "@jupyter-widgets/controls",
            "_model_module_version": "1.5.0",
            "value": " 1.01G/1.01G [00:45&lt;00:00, 33.0MB/s]",
            "_view_count": null,
            "_view_module_version": "1.5.0",
            "description_tooltip": null,
            "_model_module": "@jupyter-widgets/controls",
            "layout": "IPY_MODEL_6f04a3087aff498dbf9cac0b672375f9"
          }
        },
        "29d934f7a2d3413d938c915722ca7872": {
          "model_module": "@jupyter-widgets/controls",
          "model_name": "DescriptionStyleModel",
          "model_module_version": "1.5.0",
          "state": {
            "_view_name": "StyleView",
            "_model_name": "DescriptionStyleModel",
            "description_width": "",
            "_view_module": "@jupyter-widgets/base",
            "_model_module_version": "1.5.0",
            "_view_count": null,
            "_view_module_version": "1.2.0",
            "_model_module": "@jupyter-widgets/controls"
          }
        },
        "5ab8799acd424e2f83ef300888ba82b0": {
          "model_module": "@jupyter-widgets/base",
          "model_name": "LayoutModel",
          "model_module_version": "1.2.0",
          "state": {
            "_view_name": "LayoutView",
            "grid_template_rows": null,
            "right": null,
            "justify_content": null,
            "_view_module": "@jupyter-widgets/base",
            "overflow": null,
            "_model_module_version": "1.2.0",
            "_view_count": null,
            "flex_flow": null,
            "width": null,
            "min_width": null,
            "border": null,
            "align_items": null,
            "bottom": null,
            "_model_module": "@jupyter-widgets/base",
            "top": null,
            "grid_column": null,
            "overflow_y": null,
            "overflow_x": null,
            "grid_auto_flow": null,
            "grid_area": null,
            "grid_template_columns": null,
            "flex": null,
            "_model_name": "LayoutModel",
            "justify_items": null,
            "grid_row": null,
            "max_height": null,
            "align_content": null,
            "visibility": null,
            "align_self": null,
            "height": null,
            "min_height": null,
            "padding": null,
            "grid_auto_rows": null,
            "grid_gap": null,
            "max_width": null,
            "order": null,
            "_view_module_version": "1.2.0",
            "grid_template_areas": null,
            "object_position": null,
            "object_fit": null,
            "grid_auto_columns": null,
            "margin": null,
            "display": null,
            "left": null
          }
        },
        "2e94d21183e14418bce21fc6556dcb47": {
          "model_module": "@jupyter-widgets/controls",
          "model_name": "ProgressStyleModel",
          "model_module_version": "1.5.0",
          "state": {
            "_view_name": "StyleView",
            "_model_name": "ProgressStyleModel",
            "description_width": "",
            "_view_module": "@jupyter-widgets/base",
            "_model_module_version": "1.5.0",
            "_view_count": null,
            "_view_module_version": "1.2.0",
            "bar_color": null,
            "_model_module": "@jupyter-widgets/controls"
          }
        },
        "9a820169fed84bd8812d0b8ac823a3e5": {
          "model_module": "@jupyter-widgets/base",
          "model_name": "LayoutModel",
          "model_module_version": "1.2.0",
          "state": {
            "_view_name": "LayoutView",
            "grid_template_rows": null,
            "right": null,
            "justify_content": null,
            "_view_module": "@jupyter-widgets/base",
            "overflow": null,
            "_model_module_version": "1.2.0",
            "_view_count": null,
            "flex_flow": null,
            "width": null,
            "min_width": null,
            "border": null,
            "align_items": null,
            "bottom": null,
            "_model_module": "@jupyter-widgets/base",
            "top": null,
            "grid_column": null,
            "overflow_y": null,
            "overflow_x": null,
            "grid_auto_flow": null,
            "grid_area": null,
            "grid_template_columns": null,
            "flex": null,
            "_model_name": "LayoutModel",
            "justify_items": null,
            "grid_row": null,
            "max_height": null,
            "align_content": null,
            "visibility": null,
            "align_self": null,
            "height": null,
            "min_height": null,
            "padding": null,
            "grid_auto_rows": null,
            "grid_gap": null,
            "max_width": null,
            "order": null,
            "_view_module_version": "1.2.0",
            "grid_template_areas": null,
            "object_position": null,
            "object_fit": null,
            "grid_auto_columns": null,
            "margin": null,
            "display": null,
            "left": null
          }
        },
        "61234a2a51984e699865b105e5d2d7f7": {
          "model_module": "@jupyter-widgets/controls",
          "model_name": "DescriptionStyleModel",
          "model_module_version": "1.5.0",
          "state": {
            "_view_name": "StyleView",
            "_model_name": "DescriptionStyleModel",
            "description_width": "",
            "_view_module": "@jupyter-widgets/base",
            "_model_module_version": "1.5.0",
            "_view_count": null,
            "_view_module_version": "1.2.0",
            "_model_module": "@jupyter-widgets/controls"
          }
        },
        "6f04a3087aff498dbf9cac0b672375f9": {
          "model_module": "@jupyter-widgets/base",
          "model_name": "LayoutModel",
          "model_module_version": "1.2.0",
          "state": {
            "_view_name": "LayoutView",
            "grid_template_rows": null,
            "right": null,
            "justify_content": null,
            "_view_module": "@jupyter-widgets/base",
            "overflow": null,
            "_model_module_version": "1.2.0",
            "_view_count": null,
            "flex_flow": null,
            "width": null,
            "min_width": null,
            "border": null,
            "align_items": null,
            "bottom": null,
            "_model_module": "@jupyter-widgets/base",
            "top": null,
            "grid_column": null,
            "overflow_y": null,
            "overflow_x": null,
            "grid_auto_flow": null,
            "grid_area": null,
            "grid_template_columns": null,
            "flex": null,
            "_model_name": "LayoutModel",
            "justify_items": null,
            "grid_row": null,
            "max_height": null,
            "align_content": null,
            "visibility": null,
            "align_self": null,
            "height": null,
            "min_height": null,
            "padding": null,
            "grid_auto_rows": null,
            "grid_gap": null,
            "max_width": null,
            "order": null,
            "_view_module_version": "1.2.0",
            "grid_template_areas": null,
            "object_position": null,
            "object_fit": null,
            "grid_auto_columns": null,
            "margin": null,
            "display": null,
            "left": null
          }
        }
      }
    }
  },
  "nbformat": 4,
  "nbformat_minor": 0
}